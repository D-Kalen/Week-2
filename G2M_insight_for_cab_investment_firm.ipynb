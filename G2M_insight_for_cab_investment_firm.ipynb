{
 "cells": [
  {
   "cell_type": "code",
   "execution_count": 1,
   "id": "20638405",
   "metadata": {},
   "outputs": [],
   "source": [
    "import numpy\n",
    "import scipy\n",
    "import matplotlib.pyplot as plt\n",
    "%matplotlib inline\n",
    "\n",
    "import sklearn\n",
    "import pandas as pd\n",
    "import pickle\n",
    "import seaborn as sb\n",
    "from colorama import Fore, Back, Style"
   ]
  },
  {
   "cell_type": "markdown",
   "id": "551bca07",
   "metadata": {},
   "source": [
    "### Preliminary Datasets Review and Analysis"
   ]
  },
  {
   "cell_type": "code",
   "execution_count": 2,
   "id": "528dfa0e",
   "metadata": {},
   "outputs": [
    {
     "data": {
      "text/html": [
       "<img src=\"dataset_relationship.gif\"/>"
      ],
      "text/plain": [
       "<IPython.core.display.Image object>"
      ]
     },
     "execution_count": 2,
     "metadata": {},
     "output_type": "execute_result"
    }
   ],
   "source": [
    "from IPython.display import Image\n",
    "Image(url=\"dataset_relationship.gif\")"
   ]
  },
  {
   "cell_type": "code",
   "execution_count": 3,
   "id": "cf8a5644",
   "metadata": {},
   "outputs": [
    {
     "data": {
      "text/html": [
       "<div>\n",
       "<style scoped>\n",
       "    .dataframe tbody tr th:only-of-type {\n",
       "        vertical-align: middle;\n",
       "    }\n",
       "\n",
       "    .dataframe tbody tr th {\n",
       "        vertical-align: top;\n",
       "    }\n",
       "\n",
       "    .dataframe thead th {\n",
       "        text-align: right;\n",
       "    }\n",
       "</style>\n",
       "<table border=\"1\" class=\"dataframe\">\n",
       "  <thead>\n",
       "    <tr style=\"text-align: right;\">\n",
       "      <th></th>\n",
       "      <th>Transaction ID</th>\n",
       "      <th>Date of Travel</th>\n",
       "      <th>Company</th>\n",
       "      <th>City</th>\n",
       "      <th>KM Travelled</th>\n",
       "      <th>Price Charged</th>\n",
       "      <th>Cost of Trip</th>\n",
       "    </tr>\n",
       "  </thead>\n",
       "  <tbody>\n",
       "    <tr>\n",
       "      <th>0</th>\n",
       "      <td>10000011</td>\n",
       "      <td>1/8/2016</td>\n",
       "      <td>Pink Cab</td>\n",
       "      <td>ATLANTA GA</td>\n",
       "      <td>30.45</td>\n",
       "      <td>370.95</td>\n",
       "      <td>313.635</td>\n",
       "    </tr>\n",
       "    <tr>\n",
       "      <th>1</th>\n",
       "      <td>10000012</td>\n",
       "      <td>1/6/2016</td>\n",
       "      <td>Pink Cab</td>\n",
       "      <td>ATLANTA GA</td>\n",
       "      <td>28.62</td>\n",
       "      <td>358.52</td>\n",
       "      <td>334.854</td>\n",
       "    </tr>\n",
       "    <tr>\n",
       "      <th>2</th>\n",
       "      <td>10000013</td>\n",
       "      <td>1/2/2016</td>\n",
       "      <td>Pink Cab</td>\n",
       "      <td>ATLANTA GA</td>\n",
       "      <td>9.04</td>\n",
       "      <td>125.20</td>\n",
       "      <td>97.632</td>\n",
       "    </tr>\n",
       "    <tr>\n",
       "      <th>3</th>\n",
       "      <td>10000014</td>\n",
       "      <td>1/7/2016</td>\n",
       "      <td>Pink Cab</td>\n",
       "      <td>ATLANTA GA</td>\n",
       "      <td>33.17</td>\n",
       "      <td>377.40</td>\n",
       "      <td>351.602</td>\n",
       "    </tr>\n",
       "    <tr>\n",
       "      <th>4</th>\n",
       "      <td>10000015</td>\n",
       "      <td>1/3/2016</td>\n",
       "      <td>Pink Cab</td>\n",
       "      <td>ATLANTA GA</td>\n",
       "      <td>8.73</td>\n",
       "      <td>114.62</td>\n",
       "      <td>97.776</td>\n",
       "    </tr>\n",
       "  </tbody>\n",
       "</table>\n",
       "</div>"
      ],
      "text/plain": [
       "   Transaction ID Date of Travel   Company        City  KM Travelled  \\\n",
       "0        10000011       1/8/2016  Pink Cab  ATLANTA GA         30.45   \n",
       "1        10000012       1/6/2016  Pink Cab  ATLANTA GA         28.62   \n",
       "2        10000013       1/2/2016  Pink Cab  ATLANTA GA          9.04   \n",
       "3        10000014       1/7/2016  Pink Cab  ATLANTA GA         33.17   \n",
       "4        10000015       1/3/2016  Pink Cab  ATLANTA GA          8.73   \n",
       "\n",
       "   Price Charged  Cost of Trip  \n",
       "0         370.95       313.635  \n",
       "1         358.52       334.854  \n",
       "2         125.20        97.632  \n",
       "3         377.40       351.602  \n",
       "4         114.62        97.776  "
      ]
     },
     "execution_count": 3,
     "metadata": {},
     "output_type": "execute_result"
    }
   ],
   "source": [
    "cab_data = pd.read_csv(\"Cab_Data.csv\")\n",
    "cab_data.head()"
   ]
  },
  {
   "cell_type": "code",
   "execution_count": 4,
   "id": "b44e06e2",
   "metadata": {},
   "outputs": [
    {
     "data": {
      "text/plain": [
       "Transaction ID      int64\n",
       "Date of Travel     object\n",
       "Company            object\n",
       "City               object\n",
       "KM Travelled      float64\n",
       "Price Charged     float64\n",
       "Cost of Trip      float64\n",
       "dtype: object"
      ]
     },
     "execution_count": 4,
     "metadata": {},
     "output_type": "execute_result"
    }
   ],
   "source": [
    "cab_data.dtypes"
   ]
  },
  {
   "cell_type": "code",
   "execution_count": 5,
   "id": "e2a13c97",
   "metadata": {},
   "outputs": [
    {
     "name": "stdout",
     "output_type": "stream",
     "text": [
      "\u001b[33m\u001b[40mCab_Data.csv Data Dimension: \u001b[0m\n"
     ]
    },
    {
     "data": {
      "text/plain": [
       "(359392, 7)"
      ]
     },
     "execution_count": 5,
     "metadata": {},
     "output_type": "execute_result"
    }
   ],
   "source": [
    "print(Fore.YELLOW+ Back.BLACK + \"Cab_Data.csv Data Dimension:\",Style.RESET_ALL)\n",
    "cab_data.shape"
   ]
  },
  {
   "cell_type": "code",
   "execution_count": 6,
   "id": "d4939885",
   "metadata": {},
   "outputs": [
    {
     "data": {
      "text/plain": [
       "False"
      ]
     },
     "execution_count": 6,
     "metadata": {},
     "output_type": "execute_result"
    }
   ],
   "source": [
    "#check to see if there are any missing values\n",
    "cab_data.isnull().values.any()"
   ]
  },
  {
   "cell_type": "code",
   "execution_count": 7,
   "id": "667eed7e",
   "metadata": {},
   "outputs": [
    {
     "data": {
      "text/plain": [
       "Transaction ID    0\n",
       "Date of Travel    0\n",
       "Company           0\n",
       "City              0\n",
       "KM Travelled      0\n",
       "Price Charged     0\n",
       "Cost of Trip      0\n",
       "dtype: int64"
      ]
     },
     "execution_count": 7,
     "metadata": {},
     "output_type": "execute_result"
    }
   ],
   "source": [
    "cab_data.isnull().sum()"
   ]
  },
  {
   "cell_type": "code",
   "execution_count": 8,
   "id": "a3400a36",
   "metadata": {
    "scrolled": true
   },
   "outputs": [],
   "source": [
    "#cab_data.describe()"
   ]
  },
  {
   "cell_type": "code",
   "execution_count": 9,
   "id": "880122ad",
   "metadata": {},
   "outputs": [
    {
     "data": {
      "text/html": [
       "<div>\n",
       "<style scoped>\n",
       "    .dataframe tbody tr th:only-of-type {\n",
       "        vertical-align: middle;\n",
       "    }\n",
       "\n",
       "    .dataframe tbody tr th {\n",
       "        vertical-align: top;\n",
       "    }\n",
       "\n",
       "    .dataframe thead th {\n",
       "        text-align: right;\n",
       "    }\n",
       "</style>\n",
       "<table border=\"1\" class=\"dataframe\">\n",
       "  <thead>\n",
       "    <tr style=\"text-align: right;\">\n",
       "      <th></th>\n",
       "      <th>City</th>\n",
       "      <th>Population</th>\n",
       "      <th>Users</th>\n",
       "    </tr>\n",
       "  </thead>\n",
       "  <tbody>\n",
       "    <tr>\n",
       "      <th>0</th>\n",
       "      <td>NEW YORK NY</td>\n",
       "      <td>8,405,837</td>\n",
       "      <td>302,149</td>\n",
       "    </tr>\n",
       "    <tr>\n",
       "      <th>1</th>\n",
       "      <td>CHICAGO IL</td>\n",
       "      <td>1,955,130</td>\n",
       "      <td>164,468</td>\n",
       "    </tr>\n",
       "    <tr>\n",
       "      <th>2</th>\n",
       "      <td>LOS ANGELES CA</td>\n",
       "      <td>1,595,037</td>\n",
       "      <td>144,132</td>\n",
       "    </tr>\n",
       "    <tr>\n",
       "      <th>3</th>\n",
       "      <td>MIAMI FL</td>\n",
       "      <td>1,339,155</td>\n",
       "      <td>17,675</td>\n",
       "    </tr>\n",
       "    <tr>\n",
       "      <th>4</th>\n",
       "      <td>SILICON VALLEY</td>\n",
       "      <td>1,177,609</td>\n",
       "      <td>27,247</td>\n",
       "    </tr>\n",
       "  </tbody>\n",
       "</table>\n",
       "</div>"
      ],
      "text/plain": [
       "             City   Population      Users\n",
       "0     NEW YORK NY   8,405,837    302,149 \n",
       "1      CHICAGO IL   1,955,130    164,468 \n",
       "2  LOS ANGELES CA   1,595,037    144,132 \n",
       "3        MIAMI FL   1,339,155     17,675 \n",
       "4  SILICON VALLEY   1,177,609     27,247 "
      ]
     },
     "execution_count": 9,
     "metadata": {},
     "output_type": "execute_result"
    }
   ],
   "source": [
    "city = pd.read_csv(\"City.csv\")\n",
    "city.head()"
   ]
  },
  {
   "cell_type": "code",
   "execution_count": 10,
   "id": "aaad825c",
   "metadata": {},
   "outputs": [
    {
     "data": {
      "text/plain": [
       "City          object\n",
       "Population    object\n",
       "Users         object\n",
       "dtype: object"
      ]
     },
     "execution_count": 10,
     "metadata": {},
     "output_type": "execute_result"
    }
   ],
   "source": [
    "city.dtypes"
   ]
  },
  {
   "cell_type": "code",
   "execution_count": 11,
   "id": "8688cd1c",
   "metadata": {},
   "outputs": [
    {
     "name": "stdout",
     "output_type": "stream",
     "text": [
      "\u001b[33m\u001b[40mCity.csv Data Dimension: \u001b[0m\n"
     ]
    },
    {
     "data": {
      "text/plain": [
       "(20, 3)"
      ]
     },
     "execution_count": 11,
     "metadata": {},
     "output_type": "execute_result"
    }
   ],
   "source": [
    "print(Fore.YELLOW+ Back.BLACK + \"City.csv Data Dimension:\",Style.RESET_ALL)\n",
    "city.shape"
   ]
  },
  {
   "cell_type": "code",
   "execution_count": 12,
   "id": "ab4aef78",
   "metadata": {},
   "outputs": [
    {
     "data": {
      "text/plain": [
       "City          0\n",
       "Population    0\n",
       "Users         0\n",
       "dtype: int64"
      ]
     },
     "execution_count": 12,
     "metadata": {},
     "output_type": "execute_result"
    }
   ],
   "source": [
    "#check to see if there are any missing data values\n",
    "city.isnull().sum()"
   ]
  },
  {
   "cell_type": "code",
   "execution_count": 13,
   "id": "93a491fb",
   "metadata": {},
   "outputs": [
    {
     "data": {
      "text/html": [
       "<div>\n",
       "<style scoped>\n",
       "    .dataframe tbody tr th:only-of-type {\n",
       "        vertical-align: middle;\n",
       "    }\n",
       "\n",
       "    .dataframe tbody tr th {\n",
       "        vertical-align: top;\n",
       "    }\n",
       "\n",
       "    .dataframe thead th {\n",
       "        text-align: right;\n",
       "    }\n",
       "</style>\n",
       "<table border=\"1\" class=\"dataframe\">\n",
       "  <thead>\n",
       "    <tr style=\"text-align: right;\">\n",
       "      <th></th>\n",
       "      <th>Customer ID</th>\n",
       "      <th>Gender</th>\n",
       "      <th>Age</th>\n",
       "      <th>Income (USD/Month)</th>\n",
       "    </tr>\n",
       "  </thead>\n",
       "  <tbody>\n",
       "    <tr>\n",
       "      <th>0</th>\n",
       "      <td>29290</td>\n",
       "      <td>Male</td>\n",
       "      <td>28</td>\n",
       "      <td>10813</td>\n",
       "    </tr>\n",
       "    <tr>\n",
       "      <th>1</th>\n",
       "      <td>27703</td>\n",
       "      <td>Male</td>\n",
       "      <td>27</td>\n",
       "      <td>9237</td>\n",
       "    </tr>\n",
       "    <tr>\n",
       "      <th>2</th>\n",
       "      <td>28712</td>\n",
       "      <td>Male</td>\n",
       "      <td>53</td>\n",
       "      <td>11242</td>\n",
       "    </tr>\n",
       "    <tr>\n",
       "      <th>3</th>\n",
       "      <td>28020</td>\n",
       "      <td>Male</td>\n",
       "      <td>23</td>\n",
       "      <td>23327</td>\n",
       "    </tr>\n",
       "    <tr>\n",
       "      <th>4</th>\n",
       "      <td>27182</td>\n",
       "      <td>Male</td>\n",
       "      <td>33</td>\n",
       "      <td>8536</td>\n",
       "    </tr>\n",
       "  </tbody>\n",
       "</table>\n",
       "</div>"
      ],
      "text/plain": [
       "   Customer ID Gender  Age  Income (USD/Month)\n",
       "0        29290   Male   28               10813\n",
       "1        27703   Male   27                9237\n",
       "2        28712   Male   53               11242\n",
       "3        28020   Male   23               23327\n",
       "4        27182   Male   33                8536"
      ]
     },
     "execution_count": 13,
     "metadata": {},
     "output_type": "execute_result"
    }
   ],
   "source": [
    "customer_id = pd.read_csv(\"Customer_ID.csv\")\n",
    "customer_id.head()"
   ]
  },
  {
   "cell_type": "code",
   "execution_count": 14,
   "id": "a7ce0c70",
   "metadata": {},
   "outputs": [
    {
     "data": {
      "text/plain": [
       "Customer ID            int64\n",
       "Gender                object\n",
       "Age                    int64\n",
       "Income (USD/Month)     int64\n",
       "dtype: object"
      ]
     },
     "execution_count": 14,
     "metadata": {},
     "output_type": "execute_result"
    }
   ],
   "source": [
    "customer_id.dtypes"
   ]
  },
  {
   "cell_type": "code",
   "execution_count": 15,
   "id": "96c5a05d",
   "metadata": {},
   "outputs": [
    {
     "name": "stdout",
     "output_type": "stream",
     "text": [
      "\u001b[33m\u001b[40mCustomer_ID.csv Data Dimension: \u001b[0m\n"
     ]
    },
    {
     "data": {
      "text/plain": [
       "(49171, 4)"
      ]
     },
     "execution_count": 15,
     "metadata": {},
     "output_type": "execute_result"
    }
   ],
   "source": [
    "print(Fore.YELLOW+ Back.BLACK + \"Customer_ID.csv Data Dimension:\",Style.RESET_ALL)\n",
    "customer_id.shape"
   ]
  },
  {
   "cell_type": "code",
   "execution_count": 16,
   "id": "83aed097",
   "metadata": {},
   "outputs": [
    {
     "data": {
      "text/plain": [
       "Customer ID           0\n",
       "Gender                0\n",
       "Age                   0\n",
       "Income (USD/Month)    0\n",
       "dtype: int64"
      ]
     },
     "execution_count": 16,
     "metadata": {},
     "output_type": "execute_result"
    }
   ],
   "source": [
    "# check missing values\n",
    "customer_id.isnull().sum()"
   ]
  },
  {
   "cell_type": "code",
   "execution_count": 17,
   "id": "b24a793d",
   "metadata": {},
   "outputs": [
    {
     "data": {
      "text/html": [
       "<div>\n",
       "<style scoped>\n",
       "    .dataframe tbody tr th:only-of-type {\n",
       "        vertical-align: middle;\n",
       "    }\n",
       "\n",
       "    .dataframe tbody tr th {\n",
       "        vertical-align: top;\n",
       "    }\n",
       "\n",
       "    .dataframe thead th {\n",
       "        text-align: right;\n",
       "    }\n",
       "</style>\n",
       "<table border=\"1\" class=\"dataframe\">\n",
       "  <thead>\n",
       "    <tr style=\"text-align: right;\">\n",
       "      <th></th>\n",
       "      <th>Transaction ID</th>\n",
       "      <th>Customer ID</th>\n",
       "      <th>Payment_Mode</th>\n",
       "    </tr>\n",
       "  </thead>\n",
       "  <tbody>\n",
       "    <tr>\n",
       "      <th>0</th>\n",
       "      <td>10000011</td>\n",
       "      <td>29290</td>\n",
       "      <td>Card</td>\n",
       "    </tr>\n",
       "    <tr>\n",
       "      <th>1</th>\n",
       "      <td>10000012</td>\n",
       "      <td>27703</td>\n",
       "      <td>Card</td>\n",
       "    </tr>\n",
       "    <tr>\n",
       "      <th>2</th>\n",
       "      <td>10000013</td>\n",
       "      <td>28712</td>\n",
       "      <td>Cash</td>\n",
       "    </tr>\n",
       "    <tr>\n",
       "      <th>3</th>\n",
       "      <td>10000014</td>\n",
       "      <td>28020</td>\n",
       "      <td>Cash</td>\n",
       "    </tr>\n",
       "    <tr>\n",
       "      <th>4</th>\n",
       "      <td>10000015</td>\n",
       "      <td>27182</td>\n",
       "      <td>Card</td>\n",
       "    </tr>\n",
       "  </tbody>\n",
       "</table>\n",
       "</div>"
      ],
      "text/plain": [
       "   Transaction ID  Customer ID Payment_Mode\n",
       "0        10000011        29290         Card\n",
       "1        10000012        27703         Card\n",
       "2        10000013        28712         Cash\n",
       "3        10000014        28020         Cash\n",
       "4        10000015        27182         Card"
      ]
     },
     "execution_count": 17,
     "metadata": {},
     "output_type": "execute_result"
    }
   ],
   "source": [
    "transaction_id = pd.read_csv(\"Transaction_ID.csv\")\n",
    "transaction_id.head()"
   ]
  },
  {
   "cell_type": "code",
   "execution_count": 18,
   "id": "1a371b38",
   "metadata": {},
   "outputs": [
    {
     "data": {
      "text/plain": [
       "Transaction ID     int64\n",
       "Customer ID        int64\n",
       "Payment_Mode      object\n",
       "dtype: object"
      ]
     },
     "execution_count": 18,
     "metadata": {},
     "output_type": "execute_result"
    }
   ],
   "source": [
    "transaction_id.dtypes"
   ]
  },
  {
   "cell_type": "code",
   "execution_count": 19,
   "id": "18ac575e",
   "metadata": {},
   "outputs": [
    {
     "name": "stdout",
     "output_type": "stream",
     "text": [
      "\u001b[33m\u001b[40mtransaction_id.csv Data Dimension: \u001b[0m\n"
     ]
    },
    {
     "data": {
      "text/plain": [
       "(440098, 3)"
      ]
     },
     "execution_count": 19,
     "metadata": {},
     "output_type": "execute_result"
    }
   ],
   "source": [
    "print(Fore.YELLOW+ Back.BLACK + \"transaction_id.csv Data Dimension:\",Style.RESET_ALL)\n",
    "transaction_id.shape"
   ]
  },
  {
   "cell_type": "code",
   "execution_count": 20,
   "id": "f2c60cd2",
   "metadata": {},
   "outputs": [
    {
     "data": {
      "text/plain": [
       "Transaction ID    0\n",
       "Customer ID       0\n",
       "Payment_Mode      0\n",
       "dtype: int64"
      ]
     },
     "execution_count": 20,
     "metadata": {},
     "output_type": "execute_result"
    }
   ],
   "source": [
    "# check any missing values\n",
    "transaction_id.isnull().sum()"
   ]
  },
  {
   "cell_type": "markdown",
   "id": "e1217a8c",
   "metadata": {},
   "source": [
    "### Concatenate datasets by Unique Identifiers"
   ]
  },
  {
   "cell_type": "code",
   "execution_count": 21,
   "id": "22aaff35",
   "metadata": {},
   "outputs": [
    {
     "data": {
      "text/html": [
       "<img src=\"data_columns.gif\"/>"
      ],
      "text/plain": [
       "<IPython.core.display.Image object>"
      ]
     },
     "execution_count": 21,
     "metadata": {},
     "output_type": "execute_result"
    }
   ],
   "source": [
    "from IPython.display import Image\n",
    "Image(url=\"data_columns.gif\")"
   ]
  },
  {
   "cell_type": "markdown",
   "id": "598d8bce",
   "metadata": {},
   "source": [
    "#### Join Transaction_ID with Customer_ID dataset by Customer ID column"
   ]
  },
  {
   "cell_type": "code",
   "execution_count": 22,
   "id": "2eaa46aa",
   "metadata": {},
   "outputs": [
    {
     "data": {
      "text/html": [
       "<div>\n",
       "<style scoped>\n",
       "    .dataframe tbody tr th:only-of-type {\n",
       "        vertical-align: middle;\n",
       "    }\n",
       "\n",
       "    .dataframe tbody tr th {\n",
       "        vertical-align: top;\n",
       "    }\n",
       "\n",
       "    .dataframe thead th {\n",
       "        text-align: right;\n",
       "    }\n",
       "</style>\n",
       "<table border=\"1\" class=\"dataframe\">\n",
       "  <thead>\n",
       "    <tr style=\"text-align: right;\">\n",
       "      <th></th>\n",
       "      <th>Transaction ID</th>\n",
       "      <th>Customer ID</th>\n",
       "      <th>Payment_Mode</th>\n",
       "      <th>Gender</th>\n",
       "      <th>Age</th>\n",
       "      <th>Income (USD/Month)</th>\n",
       "    </tr>\n",
       "  </thead>\n",
       "  <tbody>\n",
       "    <tr>\n",
       "      <th>0</th>\n",
       "      <td>10000011</td>\n",
       "      <td>29290</td>\n",
       "      <td>Card</td>\n",
       "      <td>Male</td>\n",
       "      <td>28</td>\n",
       "      <td>10813</td>\n",
       "    </tr>\n",
       "    <tr>\n",
       "      <th>1</th>\n",
       "      <td>10351127</td>\n",
       "      <td>29290</td>\n",
       "      <td>Cash</td>\n",
       "      <td>Male</td>\n",
       "      <td>28</td>\n",
       "      <td>10813</td>\n",
       "    </tr>\n",
       "    <tr>\n",
       "      <th>2</th>\n",
       "      <td>10412921</td>\n",
       "      <td>29290</td>\n",
       "      <td>Card</td>\n",
       "      <td>Male</td>\n",
       "      <td>28</td>\n",
       "      <td>10813</td>\n",
       "    </tr>\n",
       "    <tr>\n",
       "      <th>3</th>\n",
       "      <td>10000012</td>\n",
       "      <td>27703</td>\n",
       "      <td>Card</td>\n",
       "      <td>Male</td>\n",
       "      <td>27</td>\n",
       "      <td>9237</td>\n",
       "    </tr>\n",
       "    <tr>\n",
       "      <th>4</th>\n",
       "      <td>10320494</td>\n",
       "      <td>27703</td>\n",
       "      <td>Card</td>\n",
       "      <td>Male</td>\n",
       "      <td>27</td>\n",
       "      <td>9237</td>\n",
       "    </tr>\n",
       "    <tr>\n",
       "      <th>...</th>\n",
       "      <td>...</td>\n",
       "      <td>...</td>\n",
       "      <td>...</td>\n",
       "      <td>...</td>\n",
       "      <td>...</td>\n",
       "      <td>...</td>\n",
       "    </tr>\n",
       "    <tr>\n",
       "      <th>440093</th>\n",
       "      <td>10439799</td>\n",
       "      <td>12490</td>\n",
       "      <td>Cash</td>\n",
       "      <td>Male</td>\n",
       "      <td>33</td>\n",
       "      <td>18713</td>\n",
       "    </tr>\n",
       "    <tr>\n",
       "      <th>440094</th>\n",
       "      <td>10439820</td>\n",
       "      <td>14971</td>\n",
       "      <td>Card</td>\n",
       "      <td>Male</td>\n",
       "      <td>30</td>\n",
       "      <td>15346</td>\n",
       "    </tr>\n",
       "    <tr>\n",
       "      <th>440095</th>\n",
       "      <td>10439838</td>\n",
       "      <td>41414</td>\n",
       "      <td>Card</td>\n",
       "      <td>Male</td>\n",
       "      <td>38</td>\n",
       "      <td>3960</td>\n",
       "    </tr>\n",
       "    <tr>\n",
       "      <th>440096</th>\n",
       "      <td>10439840</td>\n",
       "      <td>41677</td>\n",
       "      <td>Cash</td>\n",
       "      <td>Male</td>\n",
       "      <td>23</td>\n",
       "      <td>19454</td>\n",
       "    </tr>\n",
       "    <tr>\n",
       "      <th>440097</th>\n",
       "      <td>10439846</td>\n",
       "      <td>39761</td>\n",
       "      <td>Card</td>\n",
       "      <td>Female</td>\n",
       "      <td>32</td>\n",
       "      <td>10128</td>\n",
       "    </tr>\n",
       "  </tbody>\n",
       "</table>\n",
       "<p>440098 rows × 6 columns</p>\n",
       "</div>"
      ],
      "text/plain": [
       "        Transaction ID  Customer ID Payment_Mode  Gender  Age  \\\n",
       "0             10000011        29290         Card    Male   28   \n",
       "1             10351127        29290         Cash    Male   28   \n",
       "2             10412921        29290         Card    Male   28   \n",
       "3             10000012        27703         Card    Male   27   \n",
       "4             10320494        27703         Card    Male   27   \n",
       "...                ...          ...          ...     ...  ...   \n",
       "440093        10439799        12490         Cash    Male   33   \n",
       "440094        10439820        14971         Card    Male   30   \n",
       "440095        10439838        41414         Card    Male   38   \n",
       "440096        10439840        41677         Cash    Male   23   \n",
       "440097        10439846        39761         Card  Female   32   \n",
       "\n",
       "        Income (USD/Month)  \n",
       "0                    10813  \n",
       "1                    10813  \n",
       "2                    10813  \n",
       "3                     9237  \n",
       "4                     9237  \n",
       "...                    ...  \n",
       "440093               18713  \n",
       "440094               15346  \n",
       "440095                3960  \n",
       "440096               19454  \n",
       "440097               10128  \n",
       "\n",
       "[440098 rows x 6 columns]"
      ]
     },
     "execution_count": 22,
     "metadata": {},
     "output_type": "execute_result"
    }
   ],
   "source": [
    "df1 =pd.merge(transaction_id, customer_id, left_on=\"Customer ID\", right_on=\"Customer ID\")\n",
    "df1"
   ]
  },
  {
   "cell_type": "markdown",
   "id": "d7b722a4",
   "metadata": {},
   "source": [
    "#### Join Cab_Data with City dataset by City column"
   ]
  },
  {
   "cell_type": "code",
   "execution_count": 23,
   "id": "65405743",
   "metadata": {},
   "outputs": [
    {
     "data": {
      "text/html": [
       "<div>\n",
       "<style scoped>\n",
       "    .dataframe tbody tr th:only-of-type {\n",
       "        vertical-align: middle;\n",
       "    }\n",
       "\n",
       "    .dataframe tbody tr th {\n",
       "        vertical-align: top;\n",
       "    }\n",
       "\n",
       "    .dataframe thead th {\n",
       "        text-align: right;\n",
       "    }\n",
       "</style>\n",
       "<table border=\"1\" class=\"dataframe\">\n",
       "  <thead>\n",
       "    <tr style=\"text-align: right;\">\n",
       "      <th></th>\n",
       "      <th>Transaction ID</th>\n",
       "      <th>Date of Travel</th>\n",
       "      <th>Company</th>\n",
       "      <th>City</th>\n",
       "      <th>KM Travelled</th>\n",
       "      <th>Price Charged</th>\n",
       "      <th>Cost of Trip</th>\n",
       "      <th>Population</th>\n",
       "      <th>Users</th>\n",
       "    </tr>\n",
       "  </thead>\n",
       "  <tbody>\n",
       "    <tr>\n",
       "      <th>0</th>\n",
       "      <td>10000011</td>\n",
       "      <td>1/8/2016</td>\n",
       "      <td>Pink Cab</td>\n",
       "      <td>ATLANTA GA</td>\n",
       "      <td>30.45</td>\n",
       "      <td>370.95</td>\n",
       "      <td>313.6350</td>\n",
       "      <td>814,885</td>\n",
       "      <td>24,701</td>\n",
       "    </tr>\n",
       "    <tr>\n",
       "      <th>1</th>\n",
       "      <td>10000012</td>\n",
       "      <td>1/6/2016</td>\n",
       "      <td>Pink Cab</td>\n",
       "      <td>ATLANTA GA</td>\n",
       "      <td>28.62</td>\n",
       "      <td>358.52</td>\n",
       "      <td>334.8540</td>\n",
       "      <td>814,885</td>\n",
       "      <td>24,701</td>\n",
       "    </tr>\n",
       "    <tr>\n",
       "      <th>2</th>\n",
       "      <td>10000013</td>\n",
       "      <td>1/2/2016</td>\n",
       "      <td>Pink Cab</td>\n",
       "      <td>ATLANTA GA</td>\n",
       "      <td>9.04</td>\n",
       "      <td>125.20</td>\n",
       "      <td>97.6320</td>\n",
       "      <td>814,885</td>\n",
       "      <td>24,701</td>\n",
       "    </tr>\n",
       "    <tr>\n",
       "      <th>3</th>\n",
       "      <td>10000014</td>\n",
       "      <td>1/7/2016</td>\n",
       "      <td>Pink Cab</td>\n",
       "      <td>ATLANTA GA</td>\n",
       "      <td>33.17</td>\n",
       "      <td>377.40</td>\n",
       "      <td>351.6020</td>\n",
       "      <td>814,885</td>\n",
       "      <td>24,701</td>\n",
       "    </tr>\n",
       "    <tr>\n",
       "      <th>4</th>\n",
       "      <td>10000015</td>\n",
       "      <td>1/3/2016</td>\n",
       "      <td>Pink Cab</td>\n",
       "      <td>ATLANTA GA</td>\n",
       "      <td>8.73</td>\n",
       "      <td>114.62</td>\n",
       "      <td>97.7760</td>\n",
       "      <td>814,885</td>\n",
       "      <td>24,701</td>\n",
       "    </tr>\n",
       "    <tr>\n",
       "      <th>...</th>\n",
       "      <td>...</td>\n",
       "      <td>...</td>\n",
       "      <td>...</td>\n",
       "      <td>...</td>\n",
       "      <td>...</td>\n",
       "      <td>...</td>\n",
       "      <td>...</td>\n",
       "      <td>...</td>\n",
       "      <td>...</td>\n",
       "    </tr>\n",
       "    <tr>\n",
       "      <th>359387</th>\n",
       "      <td>10440101</td>\n",
       "      <td>1/8/2018</td>\n",
       "      <td>Yellow Cab</td>\n",
       "      <td>WASHINGTON DC</td>\n",
       "      <td>4.80</td>\n",
       "      <td>69.24</td>\n",
       "      <td>63.3600</td>\n",
       "      <td>418,859</td>\n",
       "      <td>127,001</td>\n",
       "    </tr>\n",
       "    <tr>\n",
       "      <th>359388</th>\n",
       "      <td>10440104</td>\n",
       "      <td>1/4/2018</td>\n",
       "      <td>Yellow Cab</td>\n",
       "      <td>WASHINGTON DC</td>\n",
       "      <td>8.40</td>\n",
       "      <td>113.75</td>\n",
       "      <td>106.8480</td>\n",
       "      <td>418,859</td>\n",
       "      <td>127,001</td>\n",
       "    </tr>\n",
       "    <tr>\n",
       "      <th>359389</th>\n",
       "      <td>10440105</td>\n",
       "      <td>1/5/2018</td>\n",
       "      <td>Yellow Cab</td>\n",
       "      <td>WASHINGTON DC</td>\n",
       "      <td>27.75</td>\n",
       "      <td>437.07</td>\n",
       "      <td>349.6500</td>\n",
       "      <td>418,859</td>\n",
       "      <td>127,001</td>\n",
       "    </tr>\n",
       "    <tr>\n",
       "      <th>359390</th>\n",
       "      <td>10440106</td>\n",
       "      <td>1/5/2018</td>\n",
       "      <td>Yellow Cab</td>\n",
       "      <td>WASHINGTON DC</td>\n",
       "      <td>8.80</td>\n",
       "      <td>146.19</td>\n",
       "      <td>114.0480</td>\n",
       "      <td>418,859</td>\n",
       "      <td>127,001</td>\n",
       "    </tr>\n",
       "    <tr>\n",
       "      <th>359391</th>\n",
       "      <td>10440107</td>\n",
       "      <td>1/2/2018</td>\n",
       "      <td>Yellow Cab</td>\n",
       "      <td>WASHINGTON DC</td>\n",
       "      <td>12.76</td>\n",
       "      <td>191.58</td>\n",
       "      <td>177.6192</td>\n",
       "      <td>418,859</td>\n",
       "      <td>127,001</td>\n",
       "    </tr>\n",
       "  </tbody>\n",
       "</table>\n",
       "<p>359392 rows × 9 columns</p>\n",
       "</div>"
      ],
      "text/plain": [
       "        Transaction ID Date of Travel     Company           City  \\\n",
       "0             10000011       1/8/2016    Pink Cab     ATLANTA GA   \n",
       "1             10000012       1/6/2016    Pink Cab     ATLANTA GA   \n",
       "2             10000013       1/2/2016    Pink Cab     ATLANTA GA   \n",
       "3             10000014       1/7/2016    Pink Cab     ATLANTA GA   \n",
       "4             10000015       1/3/2016    Pink Cab     ATLANTA GA   \n",
       "...                ...            ...         ...            ...   \n",
       "359387        10440101       1/8/2018  Yellow Cab  WASHINGTON DC   \n",
       "359388        10440104       1/4/2018  Yellow Cab  WASHINGTON DC   \n",
       "359389        10440105       1/5/2018  Yellow Cab  WASHINGTON DC   \n",
       "359390        10440106       1/5/2018  Yellow Cab  WASHINGTON DC   \n",
       "359391        10440107       1/2/2018  Yellow Cab  WASHINGTON DC   \n",
       "\n",
       "        KM Travelled  Price Charged  Cost of Trip Population      Users  \n",
       "0              30.45         370.95      313.6350   814,885     24,701   \n",
       "1              28.62         358.52      334.8540   814,885     24,701   \n",
       "2               9.04         125.20       97.6320   814,885     24,701   \n",
       "3              33.17         377.40      351.6020   814,885     24,701   \n",
       "4               8.73         114.62       97.7760   814,885     24,701   \n",
       "...              ...            ...           ...        ...        ...  \n",
       "359387          4.80          69.24       63.3600   418,859    127,001   \n",
       "359388          8.40         113.75      106.8480   418,859    127,001   \n",
       "359389         27.75         437.07      349.6500   418,859    127,001   \n",
       "359390          8.80         146.19      114.0480   418,859    127,001   \n",
       "359391         12.76         191.58      177.6192   418,859    127,001   \n",
       "\n",
       "[359392 rows x 9 columns]"
      ]
     },
     "execution_count": 23,
     "metadata": {},
     "output_type": "execute_result"
    }
   ],
   "source": [
    "df2 =pd.merge(cab_data, city, left_on=\"City\", right_on=\"City\")\n",
    "df2"
   ]
  },
  {
   "cell_type": "markdown",
   "id": "2c6fa378",
   "metadata": {},
   "source": [
    "#### Finally Join df1 and df2 into the complete dataframe df"
   ]
  },
  {
   "cell_type": "code",
   "execution_count": 24,
   "id": "d8f73511",
   "metadata": {},
   "outputs": [],
   "source": [
    "df = pd.merge(df1, df2, left_on=\"Transaction ID\", right_on=\"Transaction ID\")"
   ]
  },
  {
   "cell_type": "code",
   "execution_count": 25,
   "id": "3aa76549",
   "metadata": {},
   "outputs": [
    {
     "data": {
      "text/html": [
       "<div>\n",
       "<style scoped>\n",
       "    .dataframe tbody tr th:only-of-type {\n",
       "        vertical-align: middle;\n",
       "    }\n",
       "\n",
       "    .dataframe tbody tr th {\n",
       "        vertical-align: top;\n",
       "    }\n",
       "\n",
       "    .dataframe thead th {\n",
       "        text-align: right;\n",
       "    }\n",
       "</style>\n",
       "<table border=\"1\" class=\"dataframe\">\n",
       "  <thead>\n",
       "    <tr style=\"text-align: right;\">\n",
       "      <th></th>\n",
       "      <th>Transaction ID</th>\n",
       "      <th>Customer ID</th>\n",
       "      <th>Payment_Mode</th>\n",
       "      <th>Gender</th>\n",
       "      <th>Age</th>\n",
       "      <th>Income (USD/Month)</th>\n",
       "      <th>Date of Travel</th>\n",
       "      <th>Company</th>\n",
       "      <th>City</th>\n",
       "      <th>KM Travelled</th>\n",
       "      <th>Price Charged</th>\n",
       "      <th>Cost of Trip</th>\n",
       "      <th>Population</th>\n",
       "      <th>Users</th>\n",
       "    </tr>\n",
       "  </thead>\n",
       "  <tbody>\n",
       "    <tr>\n",
       "      <th>0</th>\n",
       "      <td>10000011</td>\n",
       "      <td>29290</td>\n",
       "      <td>Card</td>\n",
       "      <td>Male</td>\n",
       "      <td>28</td>\n",
       "      <td>10813</td>\n",
       "      <td>1/8/2016</td>\n",
       "      <td>Pink Cab</td>\n",
       "      <td>ATLANTA GA</td>\n",
       "      <td>30.45</td>\n",
       "      <td>370.95</td>\n",
       "      <td>313.6350</td>\n",
       "      <td>814,885</td>\n",
       "      <td>24,701</td>\n",
       "    </tr>\n",
       "    <tr>\n",
       "      <th>1</th>\n",
       "      <td>10351127</td>\n",
       "      <td>29290</td>\n",
       "      <td>Cash</td>\n",
       "      <td>Male</td>\n",
       "      <td>28</td>\n",
       "      <td>10813</td>\n",
       "      <td>7/21/2018</td>\n",
       "      <td>Yellow Cab</td>\n",
       "      <td>ATLANTA GA</td>\n",
       "      <td>26.19</td>\n",
       "      <td>598.70</td>\n",
       "      <td>317.4228</td>\n",
       "      <td>814,885</td>\n",
       "      <td>24,701</td>\n",
       "    </tr>\n",
       "    <tr>\n",
       "      <th>2</th>\n",
       "      <td>10412921</td>\n",
       "      <td>29290</td>\n",
       "      <td>Card</td>\n",
       "      <td>Male</td>\n",
       "      <td>28</td>\n",
       "      <td>10813</td>\n",
       "      <td>11/23/2018</td>\n",
       "      <td>Yellow Cab</td>\n",
       "      <td>ATLANTA GA</td>\n",
       "      <td>42.55</td>\n",
       "      <td>792.05</td>\n",
       "      <td>597.4020</td>\n",
       "      <td>814,885</td>\n",
       "      <td>24,701</td>\n",
       "    </tr>\n",
       "    <tr>\n",
       "      <th>3</th>\n",
       "      <td>10000012</td>\n",
       "      <td>27703</td>\n",
       "      <td>Card</td>\n",
       "      <td>Male</td>\n",
       "      <td>27</td>\n",
       "      <td>9237</td>\n",
       "      <td>1/6/2016</td>\n",
       "      <td>Pink Cab</td>\n",
       "      <td>ATLANTA GA</td>\n",
       "      <td>28.62</td>\n",
       "      <td>358.52</td>\n",
       "      <td>334.8540</td>\n",
       "      <td>814,885</td>\n",
       "      <td>24,701</td>\n",
       "    </tr>\n",
       "    <tr>\n",
       "      <th>4</th>\n",
       "      <td>10320494</td>\n",
       "      <td>27703</td>\n",
       "      <td>Card</td>\n",
       "      <td>Male</td>\n",
       "      <td>27</td>\n",
       "      <td>9237</td>\n",
       "      <td>4/21/2018</td>\n",
       "      <td>Yellow Cab</td>\n",
       "      <td>ATLANTA GA</td>\n",
       "      <td>36.38</td>\n",
       "      <td>721.10</td>\n",
       "      <td>467.1192</td>\n",
       "      <td>814,885</td>\n",
       "      <td>24,701</td>\n",
       "    </tr>\n",
       "    <tr>\n",
       "      <th>...</th>\n",
       "      <td>...</td>\n",
       "      <td>...</td>\n",
       "      <td>...</td>\n",
       "      <td>...</td>\n",
       "      <td>...</td>\n",
       "      <td>...</td>\n",
       "      <td>...</td>\n",
       "      <td>...</td>\n",
       "      <td>...</td>\n",
       "      <td>...</td>\n",
       "      <td>...</td>\n",
       "      <td>...</td>\n",
       "      <td>...</td>\n",
       "      <td>...</td>\n",
       "    </tr>\n",
       "    <tr>\n",
       "      <th>359387</th>\n",
       "      <td>10439790</td>\n",
       "      <td>38520</td>\n",
       "      <td>Card</td>\n",
       "      <td>Female</td>\n",
       "      <td>42</td>\n",
       "      <td>19417</td>\n",
       "      <td>1/7/2018</td>\n",
       "      <td>Yellow Cab</td>\n",
       "      <td>SEATTLE WA</td>\n",
       "      <td>16.66</td>\n",
       "      <td>261.18</td>\n",
       "      <td>213.9144</td>\n",
       "      <td>671,238</td>\n",
       "      <td>25,063</td>\n",
       "    </tr>\n",
       "    <tr>\n",
       "      <th>359388</th>\n",
       "      <td>10439799</td>\n",
       "      <td>12490</td>\n",
       "      <td>Cash</td>\n",
       "      <td>Male</td>\n",
       "      <td>33</td>\n",
       "      <td>18713</td>\n",
       "      <td>1/3/2018</td>\n",
       "      <td>Yellow Cab</td>\n",
       "      <td>SILICON VALLEY</td>\n",
       "      <td>13.72</td>\n",
       "      <td>277.97</td>\n",
       "      <td>172.8720</td>\n",
       "      <td>1,177,609</td>\n",
       "      <td>27,247</td>\n",
       "    </tr>\n",
       "    <tr>\n",
       "      <th>359389</th>\n",
       "      <td>10439838</td>\n",
       "      <td>41414</td>\n",
       "      <td>Card</td>\n",
       "      <td>Male</td>\n",
       "      <td>38</td>\n",
       "      <td>3960</td>\n",
       "      <td>1/4/2018</td>\n",
       "      <td>Yellow Cab</td>\n",
       "      <td>TUCSON AZ</td>\n",
       "      <td>19.00</td>\n",
       "      <td>303.77</td>\n",
       "      <td>232.5600</td>\n",
       "      <td>631,442</td>\n",
       "      <td>5,712</td>\n",
       "    </tr>\n",
       "    <tr>\n",
       "      <th>359390</th>\n",
       "      <td>10439840</td>\n",
       "      <td>41677</td>\n",
       "      <td>Cash</td>\n",
       "      <td>Male</td>\n",
       "      <td>23</td>\n",
       "      <td>19454</td>\n",
       "      <td>1/6/2018</td>\n",
       "      <td>Yellow Cab</td>\n",
       "      <td>TUCSON AZ</td>\n",
       "      <td>5.60</td>\n",
       "      <td>92.42</td>\n",
       "      <td>70.5600</td>\n",
       "      <td>631,442</td>\n",
       "      <td>5,712</td>\n",
       "    </tr>\n",
       "    <tr>\n",
       "      <th>359391</th>\n",
       "      <td>10439846</td>\n",
       "      <td>39761</td>\n",
       "      <td>Card</td>\n",
       "      <td>Female</td>\n",
       "      <td>32</td>\n",
       "      <td>10128</td>\n",
       "      <td>1/4/2018</td>\n",
       "      <td>Yellow Cab</td>\n",
       "      <td>TUCSON AZ</td>\n",
       "      <td>13.30</td>\n",
       "      <td>244.65</td>\n",
       "      <td>180.3480</td>\n",
       "      <td>631,442</td>\n",
       "      <td>5,712</td>\n",
       "    </tr>\n",
       "  </tbody>\n",
       "</table>\n",
       "<p>359392 rows × 14 columns</p>\n",
       "</div>"
      ],
      "text/plain": [
       "        Transaction ID  Customer ID Payment_Mode  Gender  Age  \\\n",
       "0             10000011        29290         Card    Male   28   \n",
       "1             10351127        29290         Cash    Male   28   \n",
       "2             10412921        29290         Card    Male   28   \n",
       "3             10000012        27703         Card    Male   27   \n",
       "4             10320494        27703         Card    Male   27   \n",
       "...                ...          ...          ...     ...  ...   \n",
       "359387        10439790        38520         Card  Female   42   \n",
       "359388        10439799        12490         Cash    Male   33   \n",
       "359389        10439838        41414         Card    Male   38   \n",
       "359390        10439840        41677         Cash    Male   23   \n",
       "359391        10439846        39761         Card  Female   32   \n",
       "\n",
       "        Income (USD/Month) Date of Travel     Company            City  \\\n",
       "0                    10813       1/8/2016    Pink Cab      ATLANTA GA   \n",
       "1                    10813      7/21/2018  Yellow Cab      ATLANTA GA   \n",
       "2                    10813     11/23/2018  Yellow Cab      ATLANTA GA   \n",
       "3                     9237       1/6/2016    Pink Cab      ATLANTA GA   \n",
       "4                     9237      4/21/2018  Yellow Cab      ATLANTA GA   \n",
       "...                    ...            ...         ...             ...   \n",
       "359387               19417       1/7/2018  Yellow Cab      SEATTLE WA   \n",
       "359388               18713       1/3/2018  Yellow Cab  SILICON VALLEY   \n",
       "359389                3960       1/4/2018  Yellow Cab       TUCSON AZ   \n",
       "359390               19454       1/6/2018  Yellow Cab       TUCSON AZ   \n",
       "359391               10128       1/4/2018  Yellow Cab       TUCSON AZ   \n",
       "\n",
       "        KM Travelled  Price Charged  Cost of Trip   Population     Users  \n",
       "0              30.45         370.95      313.6350     814,885    24,701   \n",
       "1              26.19         598.70      317.4228     814,885    24,701   \n",
       "2              42.55         792.05      597.4020     814,885    24,701   \n",
       "3              28.62         358.52      334.8540     814,885    24,701   \n",
       "4              36.38         721.10      467.1192     814,885    24,701   \n",
       "...              ...            ...           ...          ...       ...  \n",
       "359387         16.66         261.18      213.9144     671,238    25,063   \n",
       "359388         13.72         277.97      172.8720   1,177,609    27,247   \n",
       "359389         19.00         303.77      232.5600     631,442     5,712   \n",
       "359390          5.60          92.42       70.5600     631,442     5,712   \n",
       "359391         13.30         244.65      180.3480     631,442     5,712   \n",
       "\n",
       "[359392 rows x 14 columns]"
      ]
     },
     "execution_count": 25,
     "metadata": {},
     "output_type": "execute_result"
    }
   ],
   "source": [
    "df"
   ]
  },
  {
   "cell_type": "code",
   "execution_count": 26,
   "id": "22bffb69",
   "metadata": {},
   "outputs": [
    {
     "data": {
      "text/plain": [
       "0"
      ]
     },
     "execution_count": 26,
     "metadata": {},
     "output_type": "execute_result"
    }
   ],
   "source": [
    "# Check any missing values\n",
    "df.isnull().sum().sum()"
   ]
  },
  {
   "cell_type": "code",
   "execution_count": 27,
   "id": "4aee6257",
   "metadata": {},
   "outputs": [
    {
     "data": {
      "text/plain": [
       "Transaction ID          int64\n",
       "Customer ID             int64\n",
       "Payment_Mode           object\n",
       "Gender                 object\n",
       "Age                     int64\n",
       "Income (USD/Month)      int64\n",
       "Date of Travel         object\n",
       "Company                object\n",
       "City                   object\n",
       "KM Travelled          float64\n",
       "Price Charged         float64\n",
       "Cost of Trip          float64\n",
       "Population             object\n",
       "Users                  object\n",
       "dtype: object"
      ]
     },
     "execution_count": 27,
     "metadata": {},
     "output_type": "execute_result"
    }
   ],
   "source": [
    "df.dtypes"
   ]
  },
  {
   "cell_type": "code",
   "execution_count": 28,
   "id": "280bfdc6",
   "metadata": {},
   "outputs": [
    {
     "data": {
      "text/plain": [
       "(359392, 14)"
      ]
     },
     "execution_count": 28,
     "metadata": {},
     "output_type": "execute_result"
    }
   ],
   "source": [
    "df.shape"
   ]
  },
  {
   "cell_type": "code",
   "execution_count": 29,
   "id": "79fd7130",
   "metadata": {},
   "outputs": [
    {
     "data": {
      "text/html": [
       "<div>\n",
       "<style scoped>\n",
       "    .dataframe tbody tr th:only-of-type {\n",
       "        vertical-align: middle;\n",
       "    }\n",
       "\n",
       "    .dataframe tbody tr th {\n",
       "        vertical-align: top;\n",
       "    }\n",
       "\n",
       "    .dataframe thead th {\n",
       "        text-align: right;\n",
       "    }\n",
       "</style>\n",
       "<table border=\"1\" class=\"dataframe\">\n",
       "  <thead>\n",
       "    <tr style=\"text-align: right;\">\n",
       "      <th></th>\n",
       "      <th>Transaction ID</th>\n",
       "      <th>Customer ID</th>\n",
       "      <th>Age</th>\n",
       "      <th>Income (USD/Month)</th>\n",
       "      <th>KM Travelled</th>\n",
       "      <th>Price Charged</th>\n",
       "      <th>Cost of Trip</th>\n",
       "    </tr>\n",
       "  </thead>\n",
       "  <tbody>\n",
       "    <tr>\n",
       "      <th>count</th>\n",
       "      <td>3.593920e+05</td>\n",
       "      <td>359392.000000</td>\n",
       "      <td>359392.000000</td>\n",
       "      <td>359392.000000</td>\n",
       "      <td>359392.000000</td>\n",
       "      <td>359392.000000</td>\n",
       "      <td>359392.000000</td>\n",
       "    </tr>\n",
       "    <tr>\n",
       "      <th>mean</th>\n",
       "      <td>1.022076e+07</td>\n",
       "      <td>19191.652115</td>\n",
       "      <td>35.336705</td>\n",
       "      <td>15048.822937</td>\n",
       "      <td>22.567254</td>\n",
       "      <td>423.443311</td>\n",
       "      <td>286.190113</td>\n",
       "    </tr>\n",
       "    <tr>\n",
       "      <th>std</th>\n",
       "      <td>1.268058e+05</td>\n",
       "      <td>21012.412463</td>\n",
       "      <td>12.594234</td>\n",
       "      <td>7969.409482</td>\n",
       "      <td>12.233526</td>\n",
       "      <td>274.378911</td>\n",
       "      <td>157.993661</td>\n",
       "    </tr>\n",
       "    <tr>\n",
       "      <th>min</th>\n",
       "      <td>1.000001e+07</td>\n",
       "      <td>1.000000</td>\n",
       "      <td>18.000000</td>\n",
       "      <td>2000.000000</td>\n",
       "      <td>1.900000</td>\n",
       "      <td>15.600000</td>\n",
       "      <td>19.000000</td>\n",
       "    </tr>\n",
       "    <tr>\n",
       "      <th>25%</th>\n",
       "      <td>1.011081e+07</td>\n",
       "      <td>2705.000000</td>\n",
       "      <td>25.000000</td>\n",
       "      <td>8424.000000</td>\n",
       "      <td>12.000000</td>\n",
       "      <td>206.437500</td>\n",
       "      <td>151.200000</td>\n",
       "    </tr>\n",
       "    <tr>\n",
       "      <th>50%</th>\n",
       "      <td>1.022104e+07</td>\n",
       "      <td>7459.000000</td>\n",
       "      <td>33.000000</td>\n",
       "      <td>14685.000000</td>\n",
       "      <td>22.440000</td>\n",
       "      <td>386.360000</td>\n",
       "      <td>282.480000</td>\n",
       "    </tr>\n",
       "    <tr>\n",
       "      <th>75%</th>\n",
       "      <td>1.033094e+07</td>\n",
       "      <td>36078.000000</td>\n",
       "      <td>42.000000</td>\n",
       "      <td>21035.000000</td>\n",
       "      <td>32.960000</td>\n",
       "      <td>583.660000</td>\n",
       "      <td>413.683200</td>\n",
       "    </tr>\n",
       "    <tr>\n",
       "      <th>max</th>\n",
       "      <td>1.044011e+07</td>\n",
       "      <td>60000.000000</td>\n",
       "      <td>65.000000</td>\n",
       "      <td>35000.000000</td>\n",
       "      <td>48.000000</td>\n",
       "      <td>2048.030000</td>\n",
       "      <td>691.200000</td>\n",
       "    </tr>\n",
       "  </tbody>\n",
       "</table>\n",
       "</div>"
      ],
      "text/plain": [
       "       Transaction ID    Customer ID            Age  Income (USD/Month)  \\\n",
       "count    3.593920e+05  359392.000000  359392.000000       359392.000000   \n",
       "mean     1.022076e+07   19191.652115      35.336705        15048.822937   \n",
       "std      1.268058e+05   21012.412463      12.594234         7969.409482   \n",
       "min      1.000001e+07       1.000000      18.000000         2000.000000   \n",
       "25%      1.011081e+07    2705.000000      25.000000         8424.000000   \n",
       "50%      1.022104e+07    7459.000000      33.000000        14685.000000   \n",
       "75%      1.033094e+07   36078.000000      42.000000        21035.000000   \n",
       "max      1.044011e+07   60000.000000      65.000000        35000.000000   \n",
       "\n",
       "        KM Travelled  Price Charged   Cost of Trip  \n",
       "count  359392.000000  359392.000000  359392.000000  \n",
       "mean       22.567254     423.443311     286.190113  \n",
       "std        12.233526     274.378911     157.993661  \n",
       "min         1.900000      15.600000      19.000000  \n",
       "25%        12.000000     206.437500     151.200000  \n",
       "50%        22.440000     386.360000     282.480000  \n",
       "75%        32.960000     583.660000     413.683200  \n",
       "max        48.000000    2048.030000     691.200000  "
      ]
     },
     "execution_count": 29,
     "metadata": {},
     "output_type": "execute_result"
    }
   ],
   "source": [
    "df.describe()"
   ]
  },
  {
   "cell_type": "code",
   "execution_count": 31,
   "id": "9126acff",
   "metadata": {},
   "outputs": [
    {
     "data": {
      "text/plain": [
       "359392"
      ]
     },
     "execution_count": 31,
     "metadata": {},
     "output_type": "execute_result"
    }
   ],
   "source": [
    "df[\"Transaction ID\"].count()"
   ]
  },
  {
   "cell_type": "code",
   "execution_count": 32,
   "id": "048db449",
   "metadata": {},
   "outputs": [
    {
     "data": {
      "text/plain": [
       "array(['Pink Cab', 'Yellow Cab'], dtype=object)"
      ]
     },
     "execution_count": 32,
     "metadata": {},
     "output_type": "execute_result"
    }
   ],
   "source": [
    "df[\"Company\"].unique()"
   ]
  },
  {
   "cell_type": "code",
   "execution_count": 42,
   "id": "e9298ed1",
   "metadata": {},
   "outputs": [
    {
     "data": {
      "image/png": "[encoded data removed]",
      "text/plain": [
       "<Figure size 600x500 with 1 Axes>"
      ]
     },
     "metadata": {},
     "output_type": "display_data"
    }
   ],
   "source": [
    "fig = plt.figure(figsize=(6,5))\n",
    "gender = df[\"Gender\"].value_counts()\n",
    "ax = gender.plot(kind=\"bar\", rot=0, color=\"darkred\")\n",
    "ax.set_title(\"Gender Distribution\", y=1)\n",
    "ax.set_xlabel(\"Gender: Male/Female\")\n",
    "ax.set_ylabel(\"Number of Total People\")\n",
    "for rect in ax.patches:\n",
    "    y_value = rect.get_height()\n",
    "    x_value = rect.get_x() + rect.get_width() / 2\n",
    "    space = 1\n",
    "    label = format(y_value)\n",
    "    ax.annotate(label, (x_value, y_value), xytext=(0, space), textcoords=\"offset points\", ha='center', va='bottom')    \n",
    "plt.show()"
   ]
  },
  {
   "cell_type": "code",
   "execution_count": 68,
   "id": "79fd3f44",
   "metadata": {},
   "outputs": [
    {
     "data": {
      "image/png": "[encoded data removed]",
      "text/plain": [
       "<Figure size 800x300 with 1 Axes>"
      ]
     },
     "metadata": {},
     "output_type": "display_data"
    }
   ],
   "source": [
    "fig = plt.figure(figsize=(8,3))\n",
    "company = df[\"Company\"].value_counts()\n",
    "ax = company.plot(kind=\"barh\", rot=0, color=\"blue\")\n",
    "ax.set_title(\"Cab Company\", y=1)\n",
    "ax.set_xlabel(\"Cab Company\")\n",
    "ax.set_ylabel(\"Number of Total Transactions\")\n",
    "for bars in ax.containers:\n",
    "    ax.bar_label(bars)\n",
    "plt.show()"
   ]
  },
  {
   "cell_type": "code",
   "execution_count": 63,
   "id": "a67a6846",
   "metadata": {},
   "outputs": [
    {
     "data": {
      "image/png": "[encoded data removed]",
      "text/plain": [
       "<Figure size 1500x900 with 1 Axes>"
      ]
     },
     "metadata": {},
     "output_type": "display_data"
    }
   ],
   "source": [
    "fig = plt.figure(figsize=(15,9))\n",
    "company = df[\"City\"].value_counts()\n",
    "ax = company.plot(kind=\"barh\", rot=0, color=\"purple\")\n",
    "ax.set_title(\"Total of Cab Transactions by City\", y=1)\n",
    "ax.set_xlabel(\"City\")\n",
    "ax.set_ylabel(\"Number of Total Transactions\")\n",
    "for bars in ax.containers:\n",
    "    ax.bar_label(bars)\n",
    "plt.show()"
   ]
  },
  {
   "cell_type": "code",
   "execution_count": null,
   "id": "0d36be81",
   "metadata": {},
   "outputs": [],
   "source": []
  }
 ],
 "metadata": {
  "kernelspec": {
   "display_name": "Python 3 (ipykernel)",
   "language": "python",
   "name": "python3"
  },
  "language_info": {
   "codemirror_mode": {
    "name": "ipython",
    "version": 3
   },
   "file_extension": ".py",
   "mimetype": "text/x-python",
   "name": "python",
   "nbconvert_exporter": "python",
   "pygments_lexer": "ipython3",
   "version": "3.7.16"
  }
 },
 "nbformat": 4,
 "nbformat_minor": 5
}
