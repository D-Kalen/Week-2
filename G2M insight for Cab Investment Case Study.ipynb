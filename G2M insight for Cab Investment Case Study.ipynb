{
 "cells": [
  {
   "cell_type": "markdown",
   "id": "63b21722",
   "metadata": {},
   "source": [
    "# Go-to-Market(G2M) insight for Cab Investment firm\n",
    "\n",
    "## Introduction\n",
    "\n",
    "**The Client**\n",
    "\n",
    "XYZ is a private firm in US. Due to remarkable growth in the Cab Industry in last few years and multiple key players in the market, it is planning for an investment in Cab industry and as per their Go-to-Market(G2M) strategy they want to understand the market before taking final decision.\n",
    "\n",
    "**Data Set:**\n",
    "\n",
    "We have been provided 4 individual data sets. Time period of data is from 31/01/2016 to 31/12/2018.\n",
    "\n",
    "Below are the list of datasets which are provided for the analysis:\n",
    "\n",
    "**Cab_Data.csv** – This file includes details of transaction for 2 cab companies\n",
    "\n",
    "**Customer_ID.csv** – This is a mapping table that contains a unique identifier which links the customer’s demographic details\n",
    "\n",
    "**Transaction_ID.csv** – This is a mapping table that contains transaction to customer mapping and payment mode\n",
    "\n",
    "**City.csv** – This file contains list of US cities, their population and number of cab users"
   ]
  },
  {
   "cell_type": "markdown",
   "id": "71f56ea5",
   "metadata": {},
   "source": [
    "## To decide which company is a better investment opportunity for XYZ we will try to respond the following questions:\n",
    "\n",
    "•\tWhich company has had more profit over the years?\n",
    "\n",
    "•\tWhich company has users with better income?\n",
    "\n",
    "•\tWhich company has more users by city?\n",
    "\n",
    "•\tWhich company has more ride throughout the years?\n",
    "\n",
    "•\tWhich company tend to retain more customers?"
   ]
  },
  {
   "cell_type": "markdown",
   "id": "4f003b9c",
   "metadata": {},
   "source": [
    "## Exploratory Data Analysis (EDA)"
   ]
  },
  {
   "cell_type": "code",
   "execution_count": 14,
   "id": "c346aa0e",
   "metadata": {},
   "outputs": [
    {
     "data": {
      "text/html": [
       "<div>\n",
       "<style scoped>\n",
       "    .dataframe tbody tr th:only-of-type {\n",
       "        vertical-align: middle;\n",
       "    }\n",
       "\n",
       "    .dataframe tbody tr th {\n",
       "        vertical-align: top;\n",
       "    }\n",
       "\n",
       "    .dataframe thead th {\n",
       "        text-align: right;\n",
       "    }\n",
       "</style>\n",
       "<table border=\"1\" class=\"dataframe\">\n",
       "  <thead>\n",
       "    <tr style=\"text-align: right;\">\n",
       "      <th></th>\n",
       "      <th>Transaction ID</th>\n",
       "      <th>Date of Travel</th>\n",
       "      <th>Company</th>\n",
       "      <th>City</th>\n",
       "      <th>KM Travelled</th>\n",
       "      <th>Price Charged</th>\n",
       "      <th>Cost of Trip</th>\n",
       "    </tr>\n",
       "  </thead>\n",
       "  <tbody>\n",
       "    <tr>\n",
       "      <th>0</th>\n",
       "      <td>10000011</td>\n",
       "      <td>42377</td>\n",
       "      <td>Pink Cab</td>\n",
       "      <td>ATLANTA GA</td>\n",
       "      <td>30.45</td>\n",
       "      <td>370.95</td>\n",
       "      <td>313.635</td>\n",
       "    </tr>\n",
       "    <tr>\n",
       "      <th>1</th>\n",
       "      <td>10000012</td>\n",
       "      <td>42375</td>\n",
       "      <td>Pink Cab</td>\n",
       "      <td>ATLANTA GA</td>\n",
       "      <td>28.62</td>\n",
       "      <td>358.52</td>\n",
       "      <td>334.854</td>\n",
       "    </tr>\n",
       "    <tr>\n",
       "      <th>2</th>\n",
       "      <td>10000013</td>\n",
       "      <td>42371</td>\n",
       "      <td>Pink Cab</td>\n",
       "      <td>ATLANTA GA</td>\n",
       "      <td>9.04</td>\n",
       "      <td>125.20</td>\n",
       "      <td>97.632</td>\n",
       "    </tr>\n",
       "    <tr>\n",
       "      <th>3</th>\n",
       "      <td>10000014</td>\n",
       "      <td>42376</td>\n",
       "      <td>Pink Cab</td>\n",
       "      <td>ATLANTA GA</td>\n",
       "      <td>33.17</td>\n",
       "      <td>377.40</td>\n",
       "      <td>351.602</td>\n",
       "    </tr>\n",
       "    <tr>\n",
       "      <th>4</th>\n",
       "      <td>10000015</td>\n",
       "      <td>42372</td>\n",
       "      <td>Pink Cab</td>\n",
       "      <td>ATLANTA GA</td>\n",
       "      <td>8.73</td>\n",
       "      <td>114.62</td>\n",
       "      <td>97.776</td>\n",
       "    </tr>\n",
       "  </tbody>\n",
       "</table>\n",
       "</div>"
      ],
      "text/plain": [
       "   Transaction ID  Date of Travel   Company        City  KM Travelled  \\\n",
       "0        10000011           42377  Pink Cab  ATLANTA GA         30.45   \n",
       "1        10000012           42375  Pink Cab  ATLANTA GA         28.62   \n",
       "2        10000013           42371  Pink Cab  ATLANTA GA          9.04   \n",
       "3        10000014           42376  Pink Cab  ATLANTA GA         33.17   \n",
       "4        10000015           42372  Pink Cab  ATLANTA GA          8.73   \n",
       "\n",
       "   Price Charged  Cost of Trip  \n",
       "0         370.95       313.635  \n",
       "1         358.52       334.854  \n",
       "2         125.20        97.632  \n",
       "3         377.40       351.602  \n",
       "4         114.62        97.776  "
      ]
     },
     "metadata": {},
     "output_type": "display_data"
    },
    {
     "data": {
      "text/html": [
       "<div>\n",
       "<style scoped>\n",
       "    .dataframe tbody tr th:only-of-type {\n",
       "        vertical-align: middle;\n",
       "    }\n",
       "\n",
       "    .dataframe tbody tr th {\n",
       "        vertical-align: top;\n",
       "    }\n",
       "\n",
       "    .dataframe thead th {\n",
       "        text-align: right;\n",
       "    }\n",
       "</style>\n",
       "<table border=\"1\" class=\"dataframe\">\n",
       "  <thead>\n",
       "    <tr style=\"text-align: right;\">\n",
       "      <th></th>\n",
       "      <th>City</th>\n",
       "      <th>Population</th>\n",
       "      <th>Users</th>\n",
       "    </tr>\n",
       "  </thead>\n",
       "  <tbody>\n",
       "    <tr>\n",
       "      <th>0</th>\n",
       "      <td>NEW YORK NY</td>\n",
       "      <td>8,405,837</td>\n",
       "      <td>302,149</td>\n",
       "    </tr>\n",
       "    <tr>\n",
       "      <th>1</th>\n",
       "      <td>CHICAGO IL</td>\n",
       "      <td>1,955,130</td>\n",
       "      <td>164,468</td>\n",
       "    </tr>\n",
       "    <tr>\n",
       "      <th>2</th>\n",
       "      <td>LOS ANGELES CA</td>\n",
       "      <td>1,595,037</td>\n",
       "      <td>144,132</td>\n",
       "    </tr>\n",
       "    <tr>\n",
       "      <th>3</th>\n",
       "      <td>MIAMI FL</td>\n",
       "      <td>1,339,155</td>\n",
       "      <td>17,675</td>\n",
       "    </tr>\n",
       "    <tr>\n",
       "      <th>4</th>\n",
       "      <td>SILICON VALLEY</td>\n",
       "      <td>1,177,609</td>\n",
       "      <td>27,247</td>\n",
       "    </tr>\n",
       "  </tbody>\n",
       "</table>\n",
       "</div>"
      ],
      "text/plain": [
       "             City   Population      Users\n",
       "0     NEW YORK NY   8,405,837    302,149 \n",
       "1      CHICAGO IL   1,955,130    164,468 \n",
       "2  LOS ANGELES CA   1,595,037    144,132 \n",
       "3        MIAMI FL   1,339,155     17,675 \n",
       "4  SILICON VALLEY   1,177,609     27,247 "
      ]
     },
     "metadata": {},
     "output_type": "display_data"
    },
    {
     "data": {
      "text/html": [
       "<div>\n",
       "<style scoped>\n",
       "    .dataframe tbody tr th:only-of-type {\n",
       "        vertical-align: middle;\n",
       "    }\n",
       "\n",
       "    .dataframe tbody tr th {\n",
       "        vertical-align: top;\n",
       "    }\n",
       "\n",
       "    .dataframe thead th {\n",
       "        text-align: right;\n",
       "    }\n",
       "</style>\n",
       "<table border=\"1\" class=\"dataframe\">\n",
       "  <thead>\n",
       "    <tr style=\"text-align: right;\">\n",
       "      <th></th>\n",
       "      <th>Customer ID</th>\n",
       "      <th>Gender</th>\n",
       "      <th>Age</th>\n",
       "      <th>Income (USD/Month)</th>\n",
       "    </tr>\n",
       "  </thead>\n",
       "  <tbody>\n",
       "    <tr>\n",
       "      <th>0</th>\n",
       "      <td>29290</td>\n",
       "      <td>Male</td>\n",
       "      <td>28</td>\n",
       "      <td>10813</td>\n",
       "    </tr>\n",
       "    <tr>\n",
       "      <th>1</th>\n",
       "      <td>27703</td>\n",
       "      <td>Male</td>\n",
       "      <td>27</td>\n",
       "      <td>9237</td>\n",
       "    </tr>\n",
       "    <tr>\n",
       "      <th>2</th>\n",
       "      <td>28712</td>\n",
       "      <td>Male</td>\n",
       "      <td>53</td>\n",
       "      <td>11242</td>\n",
       "    </tr>\n",
       "    <tr>\n",
       "      <th>3</th>\n",
       "      <td>28020</td>\n",
       "      <td>Male</td>\n",
       "      <td>23</td>\n",
       "      <td>23327</td>\n",
       "    </tr>\n",
       "    <tr>\n",
       "      <th>4</th>\n",
       "      <td>27182</td>\n",
       "      <td>Male</td>\n",
       "      <td>33</td>\n",
       "      <td>8536</td>\n",
       "    </tr>\n",
       "  </tbody>\n",
       "</table>\n",
       "</div>"
      ],
      "text/plain": [
       "   Customer ID Gender  Age  Income (USD/Month)\n",
       "0        29290   Male   28               10813\n",
       "1        27703   Male   27                9237\n",
       "2        28712   Male   53               11242\n",
       "3        28020   Male   23               23327\n",
       "4        27182   Male   33                8536"
      ]
     },
     "metadata": {},
     "output_type": "display_data"
    },
    {
     "data": {
      "text/html": [
       "<div>\n",
       "<style scoped>\n",
       "    .dataframe tbody tr th:only-of-type {\n",
       "        vertical-align: middle;\n",
       "    }\n",
       "\n",
       "    .dataframe tbody tr th {\n",
       "        vertical-align: top;\n",
       "    }\n",
       "\n",
       "    .dataframe thead th {\n",
       "        text-align: right;\n",
       "    }\n",
       "</style>\n",
       "<table border=\"1\" class=\"dataframe\">\n",
       "  <thead>\n",
       "    <tr style=\"text-align: right;\">\n",
       "      <th></th>\n",
       "      <th>Transaction ID</th>\n",
       "      <th>Customer ID</th>\n",
       "      <th>Payment_Mode</th>\n",
       "    </tr>\n",
       "  </thead>\n",
       "  <tbody>\n",
       "    <tr>\n",
       "      <th>0</th>\n",
       "      <td>10000011</td>\n",
       "      <td>29290</td>\n",
       "      <td>Card</td>\n",
       "    </tr>\n",
       "    <tr>\n",
       "      <th>1</th>\n",
       "      <td>10000012</td>\n",
       "      <td>27703</td>\n",
       "      <td>Card</td>\n",
       "    </tr>\n",
       "    <tr>\n",
       "      <th>2</th>\n",
       "      <td>10000013</td>\n",
       "      <td>28712</td>\n",
       "      <td>Cash</td>\n",
       "    </tr>\n",
       "    <tr>\n",
       "      <th>3</th>\n",
       "      <td>10000014</td>\n",
       "      <td>28020</td>\n",
       "      <td>Cash</td>\n",
       "    </tr>\n",
       "    <tr>\n",
       "      <th>4</th>\n",
       "      <td>10000015</td>\n",
       "      <td>27182</td>\n",
       "      <td>Card</td>\n",
       "    </tr>\n",
       "  </tbody>\n",
       "</table>\n",
       "</div>"
      ],
      "text/plain": [
       "   Transaction ID  Customer ID Payment_Mode\n",
       "0        10000011        29290         Card\n",
       "1        10000012        27703         Card\n",
       "2        10000013        28712         Cash\n",
       "3        10000014        28020         Cash\n",
       "4        10000015        27182         Card"
      ]
     },
     "metadata": {},
     "output_type": "display_data"
    }
   ],
   "source": [
    "import pandas as pd\n",
    "from datetime import datetime\n",
    "import matplotlib.pyplot as plt\n",
    "import seaborn as sns\n",
    "\n",
    "cab_data = pd.read_csv(\"Cab_Data.csv\")\n",
    "city = pd.read_csv(\"City.csv\")\n",
    "custumer = pd.read_csv(\"Customer_ID.csv\")\n",
    "transaction = pd.read_csv(\"Transaction_ID.csv\")\n",
    "\n",
    "display(cab_data.head())\n",
    "display(city.head())\n",
    "display(custumer.head())\n",
    "display(transaction.head())"
   ]
  },
  {
   "cell_type": "markdown",
   "id": "007a8982",
   "metadata": {},
   "source": [
    "**Checking for missing values**"
   ]
  },
  {
   "cell_type": "code",
   "execution_count": 15,
   "id": "0b361989",
   "metadata": {},
   "outputs": [
    {
     "data": {
      "text/plain": [
       "Transaction ID    0\n",
       "Date of Travel    0\n",
       "Company           0\n",
       "City              0\n",
       "KM Travelled      0\n",
       "Price Charged     0\n",
       "Cost of Trip      0\n",
       "dtype: int64"
      ]
     },
     "metadata": {},
     "output_type": "display_data"
    },
    {
     "data": {
      "text/plain": [
       "City          0\n",
       "Population    0\n",
       "Users         0\n",
       "dtype: int64"
      ]
     },
     "metadata": {},
     "output_type": "display_data"
    },
    {
     "data": {
      "text/plain": [
       "Customer ID           0\n",
       "Gender                0\n",
       "Age                   0\n",
       "Income (USD/Month)    0\n",
       "dtype: int64"
      ]
     },
     "metadata": {},
     "output_type": "display_data"
    },
    {
     "data": {
      "text/plain": [
       "Transaction ID    0\n",
       "Customer ID       0\n",
       "Payment_Mode      0\n",
       "dtype: int64"
      ]
     },
     "metadata": {},
     "output_type": "display_data"
    }
   ],
   "source": [
    "display(cab_data.isna().sum())\n",
    "display(city.isna().sum())\n",
    "display(custumer.isna().sum())\n",
    "display(transaction.isna().sum())"
   ]
  },
  {
   "cell_type": "markdown",
   "id": "ccd07989",
   "metadata": {},
   "source": [
    "**Checking for duplicate values**"
   ]
  },
  {
   "cell_type": "code",
   "execution_count": 16,
   "id": "8224fc19",
   "metadata": {},
   "outputs": [
    {
     "data": {
      "text/html": [
       "<div>\n",
       "<style scoped>\n",
       "    .dataframe tbody tr th:only-of-type {\n",
       "        vertical-align: middle;\n",
       "    }\n",
       "\n",
       "    .dataframe tbody tr th {\n",
       "        vertical-align: top;\n",
       "    }\n",
       "\n",
       "    .dataframe thead th {\n",
       "        text-align: right;\n",
       "    }\n",
       "</style>\n",
       "<table border=\"1\" class=\"dataframe\">\n",
       "  <thead>\n",
       "    <tr style=\"text-align: right;\">\n",
       "      <th></th>\n",
       "      <th>Transaction ID</th>\n",
       "      <th>Date of Travel</th>\n",
       "      <th>Company</th>\n",
       "      <th>City</th>\n",
       "      <th>KM Travelled</th>\n",
       "      <th>Price Charged</th>\n",
       "      <th>Cost of Trip</th>\n",
       "    </tr>\n",
       "  </thead>\n",
       "  <tbody>\n",
       "  </tbody>\n",
       "</table>\n",
       "</div>"
      ],
      "text/plain": [
       "Empty DataFrame\n",
       "Columns: [Transaction ID, Date of Travel, Company, City, KM Travelled, Price Charged, Cost of Trip]\n",
       "Index: []"
      ]
     },
     "metadata": {},
     "output_type": "display_data"
    },
    {
     "data": {
      "text/html": [
       "<div>\n",
       "<style scoped>\n",
       "    .dataframe tbody tr th:only-of-type {\n",
       "        vertical-align: middle;\n",
       "    }\n",
       "\n",
       "    .dataframe tbody tr th {\n",
       "        vertical-align: top;\n",
       "    }\n",
       "\n",
       "    .dataframe thead th {\n",
       "        text-align: right;\n",
       "    }\n",
       "</style>\n",
       "<table border=\"1\" class=\"dataframe\">\n",
       "  <thead>\n",
       "    <tr style=\"text-align: right;\">\n",
       "      <th></th>\n",
       "      <th>City</th>\n",
       "      <th>Population</th>\n",
       "      <th>Users</th>\n",
       "    </tr>\n",
       "  </thead>\n",
       "  <tbody>\n",
       "  </tbody>\n",
       "</table>\n",
       "</div>"
      ],
      "text/plain": [
       "Empty DataFrame\n",
       "Columns: [City, Population, Users]\n",
       "Index: []"
      ]
     },
     "metadata": {},
     "output_type": "display_data"
    },
    {
     "data": {
      "text/html": [
       "<div>\n",
       "<style scoped>\n",
       "    .dataframe tbody tr th:only-of-type {\n",
       "        vertical-align: middle;\n",
       "    }\n",
       "\n",
       "    .dataframe tbody tr th {\n",
       "        vertical-align: top;\n",
       "    }\n",
       "\n",
       "    .dataframe thead th {\n",
       "        text-align: right;\n",
       "    }\n",
       "</style>\n",
       "<table border=\"1\" class=\"dataframe\">\n",
       "  <thead>\n",
       "    <tr style=\"text-align: right;\">\n",
       "      <th></th>\n",
       "      <th>Customer ID</th>\n",
       "      <th>Gender</th>\n",
       "      <th>Age</th>\n",
       "      <th>Income (USD/Month)</th>\n",
       "    </tr>\n",
       "  </thead>\n",
       "  <tbody>\n",
       "  </tbody>\n",
       "</table>\n",
       "</div>"
      ],
      "text/plain": [
       "Empty DataFrame\n",
       "Columns: [Customer ID, Gender, Age, Income (USD/Month)]\n",
       "Index: []"
      ]
     },
     "metadata": {},
     "output_type": "display_data"
    },
    {
     "data": {
      "text/html": [
       "<div>\n",
       "<style scoped>\n",
       "    .dataframe tbody tr th:only-of-type {\n",
       "        vertical-align: middle;\n",
       "    }\n",
       "\n",
       "    .dataframe tbody tr th {\n",
       "        vertical-align: top;\n",
       "    }\n",
       "\n",
       "    .dataframe thead th {\n",
       "        text-align: right;\n",
       "    }\n",
       "</style>\n",
       "<table border=\"1\" class=\"dataframe\">\n",
       "  <thead>\n",
       "    <tr style=\"text-align: right;\">\n",
       "      <th></th>\n",
       "      <th>Transaction ID</th>\n",
       "      <th>Customer ID</th>\n",
       "      <th>Payment_Mode</th>\n",
       "    </tr>\n",
       "  </thead>\n",
       "  <tbody>\n",
       "  </tbody>\n",
       "</table>\n",
       "</div>"
      ],
      "text/plain": [
       "Empty DataFrame\n",
       "Columns: [Transaction ID, Customer ID, Payment_Mode]\n",
       "Index: []"
      ]
     },
     "metadata": {},
     "output_type": "display_data"
    }
   ],
   "source": [
    "display(cab_data[cab_data.duplicated()])\n",
    "display(city[city.duplicated()])\n",
    "display(custumer[custumer.duplicated()])\n",
    "display(transaction[transaction.duplicated()])\n"
   ]
  },
  {
   "cell_type": "markdown",
   "id": "bc216051",
   "metadata": {},
   "source": [
    "Since there are **no missing or duplicate values** in the tables, let's proceed to merge them all to begin the exploration and visualization that we will need for our analysis."
   ]
  },
  {
   "cell_type": "code",
   "execution_count": 17,
   "id": "49358ab3",
   "metadata": {},
   "outputs": [
    {
     "data": {
      "text/html": [
       "<div>\n",
       "<style scoped>\n",
       "    .dataframe tbody tr th:only-of-type {\n",
       "        vertical-align: middle;\n",
       "    }\n",
       "\n",
       "    .dataframe tbody tr th {\n",
       "        vertical-align: top;\n",
       "    }\n",
       "\n",
       "    .dataframe thead th {\n",
       "        text-align: right;\n",
       "    }\n",
       "</style>\n",
       "<table border=\"1\" class=\"dataframe\">\n",
       "  <thead>\n",
       "    <tr style=\"text-align: right;\">\n",
       "      <th></th>\n",
       "      <th>Transaction ID</th>\n",
       "      <th>Date of Travel</th>\n",
       "      <th>Company</th>\n",
       "      <th>City</th>\n",
       "      <th>KM Travelled</th>\n",
       "      <th>Price Charged</th>\n",
       "      <th>Cost of Trip</th>\n",
       "      <th>Population</th>\n",
       "      <th>Users</th>\n",
       "      <th>Customer ID</th>\n",
       "      <th>Payment_Mode</th>\n",
       "      <th>Gender</th>\n",
       "      <th>Age</th>\n",
       "      <th>Income (USD/Month)</th>\n",
       "      <th>Profit</th>\n",
       "      <th>Profit per KM</th>\n",
       "      <th>Age Group</th>\n",
       "      <th>Income Group</th>\n",
       "    </tr>\n",
       "  </thead>\n",
       "  <tbody>\n",
       "    <tr>\n",
       "      <th>0</th>\n",
       "      <td>10000011</td>\n",
       "      <td>2016-01-08</td>\n",
       "      <td>Pink Cab</td>\n",
       "      <td>ATLANTA GA</td>\n",
       "      <td>30.45</td>\n",
       "      <td>370.95</td>\n",
       "      <td>313.635</td>\n",
       "      <td>814885</td>\n",
       "      <td>24701</td>\n",
       "      <td>29290</td>\n",
       "      <td>Card</td>\n",
       "      <td>Male</td>\n",
       "      <td>28</td>\n",
       "      <td>10813</td>\n",
       "      <td>57.315</td>\n",
       "      <td>1.882266</td>\n",
       "      <td>26-40</td>\n",
       "      <td>Upper-middle class</td>\n",
       "    </tr>\n",
       "    <tr>\n",
       "      <th>1</th>\n",
       "      <td>10000012</td>\n",
       "      <td>2016-01-06</td>\n",
       "      <td>Pink Cab</td>\n",
       "      <td>ATLANTA GA</td>\n",
       "      <td>28.62</td>\n",
       "      <td>358.52</td>\n",
       "      <td>334.854</td>\n",
       "      <td>814885</td>\n",
       "      <td>24701</td>\n",
       "      <td>27703</td>\n",
       "      <td>Card</td>\n",
       "      <td>Male</td>\n",
       "      <td>27</td>\n",
       "      <td>9237</td>\n",
       "      <td>23.666</td>\n",
       "      <td>0.826904</td>\n",
       "      <td>26-40</td>\n",
       "      <td>Upper-middle class</td>\n",
       "    </tr>\n",
       "    <tr>\n",
       "      <th>2</th>\n",
       "      <td>10000013</td>\n",
       "      <td>2016-01-02</td>\n",
       "      <td>Pink Cab</td>\n",
       "      <td>ATLANTA GA</td>\n",
       "      <td>9.04</td>\n",
       "      <td>125.20</td>\n",
       "      <td>97.632</td>\n",
       "      <td>814885</td>\n",
       "      <td>24701</td>\n",
       "      <td>28712</td>\n",
       "      <td>Cash</td>\n",
       "      <td>Male</td>\n",
       "      <td>53</td>\n",
       "      <td>11242</td>\n",
       "      <td>27.568</td>\n",
       "      <td>3.049558</td>\n",
       "      <td>41-60</td>\n",
       "      <td>Upper-middle class</td>\n",
       "    </tr>\n",
       "    <tr>\n",
       "      <th>3</th>\n",
       "      <td>10000014</td>\n",
       "      <td>2016-01-07</td>\n",
       "      <td>Pink Cab</td>\n",
       "      <td>ATLANTA GA</td>\n",
       "      <td>33.17</td>\n",
       "      <td>377.40</td>\n",
       "      <td>351.602</td>\n",
       "      <td>814885</td>\n",
       "      <td>24701</td>\n",
       "      <td>28020</td>\n",
       "      <td>Cash</td>\n",
       "      <td>Male</td>\n",
       "      <td>23</td>\n",
       "      <td>23327</td>\n",
       "      <td>25.798</td>\n",
       "      <td>0.777751</td>\n",
       "      <td>18-25</td>\n",
       "      <td>Upper-middle class</td>\n",
       "    </tr>\n",
       "    <tr>\n",
       "      <th>4</th>\n",
       "      <td>10000015</td>\n",
       "      <td>2016-01-03</td>\n",
       "      <td>Pink Cab</td>\n",
       "      <td>ATLANTA GA</td>\n",
       "      <td>8.73</td>\n",
       "      <td>114.62</td>\n",
       "      <td>97.776</td>\n",
       "      <td>814885</td>\n",
       "      <td>24701</td>\n",
       "      <td>27182</td>\n",
       "      <td>Card</td>\n",
       "      <td>Male</td>\n",
       "      <td>33</td>\n",
       "      <td>8536</td>\n",
       "      <td>16.844</td>\n",
       "      <td>1.929439</td>\n",
       "      <td>26-40</td>\n",
       "      <td>Middle class</td>\n",
       "    </tr>\n",
       "  </tbody>\n",
       "</table>\n",
       "</div>"
      ],
      "text/plain": [
       "   Transaction ID Date of Travel   Company        City  KM Travelled  \\\n",
       "0        10000011     2016-01-08  Pink Cab  ATLANTA GA         30.45   \n",
       "1        10000012     2016-01-06  Pink Cab  ATLANTA GA         28.62   \n",
       "2        10000013     2016-01-02  Pink Cab  ATLANTA GA          9.04   \n",
       "3        10000014     2016-01-07  Pink Cab  ATLANTA GA         33.17   \n",
       "4        10000015     2016-01-03  Pink Cab  ATLANTA GA          8.73   \n",
       "\n",
       "   Price Charged  Cost of Trip  Population  Users  Customer ID Payment_Mode  \\\n",
       "0         370.95       313.635      814885  24701        29290         Card   \n",
       "1         358.52       334.854      814885  24701        27703         Card   \n",
       "2         125.20        97.632      814885  24701        28712         Cash   \n",
       "3         377.40       351.602      814885  24701        28020         Cash   \n",
       "4         114.62        97.776      814885  24701        27182         Card   \n",
       "\n",
       "  Gender  Age  Income (USD/Month)  Profit  Profit per KM Age Group  \\\n",
       "0   Male   28               10813  57.315       1.882266     26-40   \n",
       "1   Male   27                9237  23.666       0.826904     26-40   \n",
       "2   Male   53               11242  27.568       3.049558     41-60   \n",
       "3   Male   23               23327  25.798       0.777751     18-25   \n",
       "4   Male   33                8536  16.844       1.929439     26-40   \n",
       "\n",
       "         Income Group  \n",
       "0  Upper-middle class  \n",
       "1  Upper-middle class  \n",
       "2  Upper-middle class  \n",
       "3  Upper-middle class  \n",
       "4        Middle class  "
      ]
     },
     "metadata": {},
     "output_type": "display_data"
    },
    {
     "name": "stdout",
     "output_type": "stream",
     "text": [
      "<class 'pandas.core.frame.DataFrame'>\n",
      "Int64Index: 359392 entries, 0 to 359391\n",
      "Data columns (total 18 columns):\n",
      " #   Column              Non-Null Count   Dtype         \n",
      "---  ------              --------------   -----         \n",
      " 0   Transaction ID      359392 non-null  int64         \n",
      " 1   Date of Travel      359392 non-null  datetime64[ns]\n",
      " 2   Company             359392 non-null  object        \n",
      " 3   City                359392 non-null  object        \n",
      " 4   KM Travelled        359392 non-null  float64       \n",
      " 5   Price Charged       359392 non-null  float64       \n",
      " 6   Cost of Trip        359392 non-null  float64       \n",
      " 7   Population          359392 non-null  int64         \n",
      " 8   Users               359392 non-null  int64         \n",
      " 9   Customer ID         359392 non-null  int64         \n",
      " 10  Payment_Mode        359392 non-null  category      \n",
      " 11  Gender              359392 non-null  category      \n",
      " 12  Age                 359392 non-null  int64         \n",
      " 13  Income (USD/Month)  359392 non-null  int64         \n",
      " 14  Profit              359392 non-null  float64       \n",
      " 15  Profit per KM       359392 non-null  float64       \n",
      " 16  Age Group           359392 non-null  category      \n",
      " 17  Income Group        359392 non-null  category      \n",
      "dtypes: category(4), datetime64[ns](1), float64(5), int64(6), object(2)\n",
      "memory usage: 42.5+ MB\n"
     ]
    }
   ],
   "source": [
    "datefromxls = lambda x: datetime.fromordinal(datetime(1900,1,1).toordinal() + x - 2)\n",
    "cab_data['Date of Travel'] = cab_data['Date of Travel'].apply(datefromxls)\n",
    "\n",
    "# Merging tables\n",
    "trans_per_custumer = transaction.merge(custumer, on = 'Customer ID', how = 'left')\n",
    "cab_city_data = cab_data.merge(city, on = 'City', how = 'left')\n",
    "data = cab_city_data.merge(trans_per_custumer, on = 'Transaction ID', how = 'left')\n",
    "\n",
    "# Establish the correct data type for some features\n",
    "data['Population'] = data['Population'].str.replace(',','').astype('int64')\n",
    "data['Users'] = data['Users'].str.replace(',','').astype('int64')\n",
    "data['Payment_Mode'] = data['Payment_Mode'].astype('category')\n",
    "data['Gender'] = data['Gender'].astype('category')\n",
    "\n",
    "# Defining new features for our analysis\n",
    "\n",
    "# Profit\n",
    "data['Profit'] = data['Price Charged'] - data['Cost of Trip']\n",
    "\n",
    "# Profit per KM\n",
    "data['Profit per KM'] = data['Profit'] / data['KM Travelled']\n",
    "\n",
    "# Age Group\n",
    "def age_group(age):\n",
    "    \n",
    "    age_dict = {0:'18-25', \n",
    "                1:'26-40', \n",
    "                2:'41-60', \n",
    "                3:'60+'}\n",
    "    \n",
    "    if (age >= 18 and age <= 25):\n",
    "        return age_dict[0]\n",
    "    elif (age > 25 and age <= 40):\n",
    "        return age_dict[1]\n",
    "    elif (age > 40 and age <= 60):\n",
    "        return age_dict[2]\n",
    "    elif (age > 60):\n",
    "        return age_dict[3]\n",
    "    \n",
    "data['Age Group'] = data['Age'].apply(age_group)\n",
    "data['Age Group'] = data['Age Group'].astype('category')\n",
    "\n",
    "# Income Group\n",
    "def income_group(income):\n",
    "    \n",
    "    income_dict = {0:'Poor or near-poor', \n",
    "                   1:'Lower-middle class', \n",
    "                   2:'Middle class', \n",
    "                   3:'Upper-middle class',\n",
    "                   4:'Rich'}\n",
    "    \n",
    "    if (income <= 32048):\n",
    "        return income_dict[0]\n",
    "    elif (income > 32048 and income <= 53413):\n",
    "        return income_dict[1]\n",
    "    elif (income > 53413 and income <= 106827):\n",
    "        return income_dict[2]\n",
    "    elif (income > 106827 and income <= 373894):\n",
    "        return income_dict[3]\n",
    "    elif (income > 373894):\n",
    "        return income_dict[4]\n",
    "    \n",
    "# The income grouping was decided with the help of this article:\n",
    "#https://money.usnews.com/money/personal-finance/family-finance/articles/where-do-i-fall-in-the-american-economic-class-system\n",
    "\n",
    "data['Income Group'] = (data['Income (USD/Month)']*12).apply(income_group)\n",
    "data['Income Group'] = data['Income Group'].astype('category')\n",
    "\n",
    "display(data.head())\n",
    "data.info()"
   ]
  },
  {
   "cell_type": "markdown",
   "id": "06010acf",
   "metadata": {},
   "source": [
    "## Which company has had more profit over the years?"
   ]
  },
  {
   "cell_type": "code",
   "execution_count": 18,
   "id": "f458c015",
   "metadata": {},
   "outputs": [
    {
     "data": {
      "text/plain": [
       "Text(0.5, 0, 'Years')"
      ]
     },
     "execution_count": 18,
     "metadata": {},
     "output_type": "execute_result"
    },
    {
     "data": {
      "image/png": "[encoded data removed]",
      "text/plain": [
       "<Figure size 864x576 with 1 Axes>"
      ]
     },
     "metadata": {
      "needs_background": "light"
     },
     "output_type": "display_data"
    }
   ],
   "source": [
    "profit_df = data.groupby(['Company',data['Date of Travel'].dt.year])[['Profit']].sum().reset_index()\n",
    "\n",
    "\n",
    "plt.rcParams['figure.figsize'] = [12, 8]\n",
    "\n",
    "ax = sns.lineplot(x = 'Date of Travel', y ='Profit', data = profit_df, hue = 'Company', palette = ['pink','yellow'])\n",
    "\n",
    "from matplotlib.ticker import FuncFormatter\n",
    "\n",
    "millions_formatter = lambda x, pos: f'{x / 1000000}'\n",
    "\n",
    "ax.yaxis.set_major_formatter(FuncFormatter(millions_formatter))\n",
    "ax.set_ylabel('Profits (in millions)')\n",
    "ax.set_xticks(profit_df['Date of Travel'].unique())\n",
    "ax.set_title('Profits 2016 - 2018')\n",
    "ax.set_xlabel('Years')\n"
   ]
  },
  {
   "cell_type": "code",
   "execution_count": 19,
   "id": "b9ac46b4",
   "metadata": {},
   "outputs": [
    {
     "data": {
      "text/plain": [
       "8.294262293256004"
      ]
     },
     "metadata": {},
     "output_type": "display_data"
    },
    {
     "data": {
      "text/html": [
       "<div>\n",
       "<style scoped>\n",
       "    .dataframe tbody tr th:only-of-type {\n",
       "        vertical-align: middle;\n",
       "    }\n",
       "\n",
       "    .dataframe tbody tr th {\n",
       "        vertical-align: top;\n",
       "    }\n",
       "\n",
       "    .dataframe thead th {\n",
       "        text-align: right;\n",
       "    }\n",
       "</style>\n",
       "<table border=\"1\" class=\"dataframe\">\n",
       "  <thead>\n",
       "    <tr style=\"text-align: right;\">\n",
       "      <th></th>\n",
       "      <th>Company</th>\n",
       "      <th>Profit</th>\n",
       "      <th>Profit per KM</th>\n",
       "    </tr>\n",
       "  </thead>\n",
       "  <tbody>\n",
       "    <tr>\n",
       "      <th>0</th>\n",
       "      <td>Pink Cab</td>\n",
       "      <td>$5.3M</td>\n",
       "      <td>2.769908</td>\n",
       "    </tr>\n",
       "    <tr>\n",
       "      <th>1</th>\n",
       "      <td>Yellow Cab</td>\n",
       "      <td>$44.0M</td>\n",
       "      <td>7.105508</td>\n",
       "    </tr>\n",
       "  </tbody>\n",
       "</table>\n",
       "</div>"
      ],
      "text/plain": [
       "      Company  Profit  Profit per KM\n",
       "0    Pink Cab   $5.3M       2.769908\n",
       "1  Yellow Cab  $44.0M       7.105508"
      ]
     },
     "metadata": {},
     "output_type": "display_data"
    }
   ],
   "source": [
    "profit_table = data.groupby(['Company']).agg({'Profit':'sum', 'Profit per KM':'mean'}).reset_index()\n",
    "ratio = profit_table.iloc[1,1] / profit_table.iloc[0,1]\n",
    "display(ratio)\n",
    "\n",
    "format = lambda x:\"${:.1f}M\".format(x/1000000)\n",
    "profit_table['Profit'] = profit_table['Profit'].apply(format)\n",
    "display(profit_table)"
   ]
  },
  {
   "cell_type": "markdown",
   "id": "0685700d",
   "metadata": {},
   "source": [
    "Yellow Cab has earned **8.3** times the earnings of Pink Cab"
   ]
  },
  {
   "cell_type": "markdown",
   "id": "909648f6",
   "metadata": {},
   "source": [
    "## Which company has users with better income?"
   ]
  },
  {
   "cell_type": "code",
   "execution_count": 20,
   "id": "60070d0f",
   "metadata": {},
   "outputs": [
    {
     "data": {
      "text/html": [
       "<div>\n",
       "<style scoped>\n",
       "    .dataframe tbody tr th:only-of-type {\n",
       "        vertical-align: middle;\n",
       "    }\n",
       "\n",
       "    .dataframe tbody tr th {\n",
       "        vertical-align: top;\n",
       "    }\n",
       "\n",
       "    .dataframe thead th {\n",
       "        text-align: right;\n",
       "    }\n",
       "</style>\n",
       "<table border=\"1\" class=\"dataframe\">\n",
       "  <thead>\n",
       "    <tr style=\"text-align: right;\">\n",
       "      <th></th>\n",
       "      <th>Company</th>\n",
       "      <th>Income Group</th>\n",
       "      <th>Users</th>\n",
       "    </tr>\n",
       "  </thead>\n",
       "  <tbody>\n",
       "    <tr>\n",
       "      <th>0</th>\n",
       "      <td>Pink Cab</td>\n",
       "      <td>Lower-middle class</td>\n",
       "      <td>5971</td>\n",
       "    </tr>\n",
       "    <tr>\n",
       "      <th>1</th>\n",
       "      <td>Pink Cab</td>\n",
       "      <td>Middle class</td>\n",
       "      <td>14743</td>\n",
       "    </tr>\n",
       "    <tr>\n",
       "      <th>2</th>\n",
       "      <td>Pink Cab</td>\n",
       "      <td>Poor or near-poor</td>\n",
       "      <td>2309</td>\n",
       "    </tr>\n",
       "    <tr>\n",
       "      <th>3</th>\n",
       "      <td>Pink Cab</td>\n",
       "      <td>Rich</td>\n",
       "      <td>3018</td>\n",
       "    </tr>\n",
       "    <tr>\n",
       "      <th>4</th>\n",
       "      <td>Pink Cab</td>\n",
       "      <td>Upper-middle class</td>\n",
       "      <td>58670</td>\n",
       "    </tr>\n",
       "    <tr>\n",
       "      <th>5</th>\n",
       "      <td>Yellow Cab</td>\n",
       "      <td>Lower-middle class</td>\n",
       "      <td>19545</td>\n",
       "    </tr>\n",
       "    <tr>\n",
       "      <th>6</th>\n",
       "      <td>Yellow Cab</td>\n",
       "      <td>Middle class</td>\n",
       "      <td>47278</td>\n",
       "    </tr>\n",
       "    <tr>\n",
       "      <th>7</th>\n",
       "      <td>Yellow Cab</td>\n",
       "      <td>Poor or near-poor</td>\n",
       "      <td>7258</td>\n",
       "    </tr>\n",
       "    <tr>\n",
       "      <th>8</th>\n",
       "      <td>Yellow Cab</td>\n",
       "      <td>Rich</td>\n",
       "      <td>9702</td>\n",
       "    </tr>\n",
       "    <tr>\n",
       "      <th>9</th>\n",
       "      <td>Yellow Cab</td>\n",
       "      <td>Upper-middle class</td>\n",
       "      <td>190898</td>\n",
       "    </tr>\n",
       "  </tbody>\n",
       "</table>\n",
       "</div>"
      ],
      "text/plain": [
       "      Company        Income Group   Users\n",
       "0    Pink Cab  Lower-middle class    5971\n",
       "1    Pink Cab        Middle class   14743\n",
       "2    Pink Cab   Poor or near-poor    2309\n",
       "3    Pink Cab                Rich    3018\n",
       "4    Pink Cab  Upper-middle class   58670\n",
       "5  Yellow Cab  Lower-middle class   19545\n",
       "6  Yellow Cab        Middle class   47278\n",
       "7  Yellow Cab   Poor or near-poor    7258\n",
       "8  Yellow Cab                Rich    9702\n",
       "9  Yellow Cab  Upper-middle class  190898"
      ]
     },
     "metadata": {},
     "output_type": "display_data"
    },
    {
     "data": {
      "text/plain": [
       "Text(0.5, 1.0, 'Number of Users in each Income Group')"
      ]
     },
     "execution_count": 20,
     "metadata": {},
     "output_type": "execute_result"
    },
    {
     "data": {
      "image/png": "[encoded data removed]",
      "text/plain": [
       "<Figure size 864x576 with 1 Axes>"
      ]
     },
     "metadata": {
      "needs_background": "light"
     },
     "output_type": "display_data"
    }
   ],
   "source": [
    "income_group_df = data.groupby(['Company', 'Income Group'])['Users'].count().reset_index()\n",
    "display(income_group_df)\n",
    "\n",
    "ax = sns.barplot(x = 'Income Group', y = 'Users', data = income_group_df, hue = 'Company', palette = ['pink','yellow'], order = ['Poor or near-poor','Lower-middle class','Middle class', 'Upper-middle class','Rich'])\n",
    "\n",
    "thousands_formatter = lambda x, pos: f'{x / 1000}'\n",
    "\n",
    "ax.yaxis.set_major_formatter(FuncFormatter(thousands_formatter))\n",
    "ax.set_ylabel('Number of Users (in thousands)')\n",
    "ax.set_title('Number of Users in each Income Group')"
   ]
  },
  {
   "cell_type": "markdown",
   "id": "ae207a83",
   "metadata": {},
   "source": [
    "In each economic group Yellow Cab has more users than Pink Cab"
   ]
  },
  {
   "cell_type": "markdown",
   "id": "68ae828a",
   "metadata": {},
   "source": [
    "## Which company has more users by city?"
   ]
  },
  {
   "cell_type": "code",
   "execution_count": 21,
   "id": "ee86b100",
   "metadata": {},
   "outputs": [
    {
     "data": {
      "text/plain": [
       "Text(0.5, 1.0, 'Quantity of Users by City')"
      ]
     },
     "execution_count": 21,
     "metadata": {},
     "output_type": "execute_result"
    },
    {
     "data": {
      "image/png": "[encoded data removed]",
      "text/plain": [
       "<Figure size 864x576 with 1 Axes>"
      ]
     },
     "metadata": {
      "needs_background": "light"
     },
     "output_type": "display_data"
    }
   ],
   "source": [
    "city_group_df = data.groupby(['Company', 'City'])['Users'].count().reset_index()\n",
    "ax = sns.barplot(y = 'City', x = 'Users', data = city_group_df, hue = 'Company', palette = ['pink','yellow'], order = data.groupby(['City'])['Users'].count().reset_index().sort_values('Users', ascending=False).City)\n",
    "ax.xaxis.set_major_formatter(FuncFormatter(thousands_formatter))\n",
    "ax.set_xlabel('Users (in thousands)')\n",
    "ax.set_title('Quantity of Users by City')"
   ]
  },
  {
   "cell_type": "markdown",
   "id": "f3697f15",
   "metadata": {},
   "source": [
    "In the Top 5 cities with the largest number of users, it can be seen that Yellow Cab has more presence than Pink Cab."
   ]
  },
  {
   "cell_type": "markdown",
   "id": "19332807",
   "metadata": {},
   "source": [
    "## Which company has more ride throughout the years?"
   ]
  },
  {
   "cell_type": "code",
   "execution_count": 22,
   "id": "c28d3bb9",
   "metadata": {},
   "outputs": [
    {
     "data": {
      "text/html": [
       "<div>\n",
       "<style scoped>\n",
       "    .dataframe tbody tr th:only-of-type {\n",
       "        vertical-align: middle;\n",
       "    }\n",
       "\n",
       "    .dataframe tbody tr th {\n",
       "        vertical-align: top;\n",
       "    }\n",
       "\n",
       "    .dataframe thead th {\n",
       "        text-align: right;\n",
       "    }\n",
       "</style>\n",
       "<table border=\"1\" class=\"dataframe\">\n",
       "  <thead>\n",
       "    <tr style=\"text-align: right;\">\n",
       "      <th></th>\n",
       "      <th>Company</th>\n",
       "      <th>Date of Travel</th>\n",
       "      <th>Customer ID</th>\n",
       "    </tr>\n",
       "  </thead>\n",
       "  <tbody>\n",
       "    <tr>\n",
       "      <th>0</th>\n",
       "      <td>Pink Cab</td>\n",
       "      <td>2016</td>\n",
       "      <td>25080</td>\n",
       "    </tr>\n",
       "    <tr>\n",
       "      <th>1</th>\n",
       "      <td>Pink Cab</td>\n",
       "      <td>2017</td>\n",
       "      <td>30321</td>\n",
       "    </tr>\n",
       "    <tr>\n",
       "      <th>2</th>\n",
       "      <td>Pink Cab</td>\n",
       "      <td>2018</td>\n",
       "      <td>29310</td>\n",
       "    </tr>\n",
       "    <tr>\n",
       "      <th>3</th>\n",
       "      <td>Yellow Cab</td>\n",
       "      <td>2016</td>\n",
       "      <td>82239</td>\n",
       "    </tr>\n",
       "    <tr>\n",
       "      <th>4</th>\n",
       "      <td>Yellow Cab</td>\n",
       "      <td>2017</td>\n",
       "      <td>98189</td>\n",
       "    </tr>\n",
       "    <tr>\n",
       "      <th>5</th>\n",
       "      <td>Yellow Cab</td>\n",
       "      <td>2018</td>\n",
       "      <td>94253</td>\n",
       "    </tr>\n",
       "  </tbody>\n",
       "</table>\n",
       "</div>"
      ],
      "text/plain": [
       "      Company  Date of Travel  Customer ID\n",
       "0    Pink Cab            2016        25080\n",
       "1    Pink Cab            2017        30321\n",
       "2    Pink Cab            2018        29310\n",
       "3  Yellow Cab            2016        82239\n",
       "4  Yellow Cab            2017        98189\n",
       "5  Yellow Cab            2018        94253"
      ]
     },
     "metadata": {},
     "output_type": "display_data"
    },
    {
     "data": {
      "text/plain": [
       "[<matplotlib.axis.XTick at 0x1b0c85eab80>,\n",
       " <matplotlib.axis.XTick at 0x1b0c85eab50>,\n",
       " <matplotlib.axis.XTick at 0x1b0c859f4c0>]"
      ]
     },
     "execution_count": 22,
     "metadata": {},
     "output_type": "execute_result"
    },
    {
     "data": {
      "image/png": "[encoded data removed]",
      "text/plain": [
       "<Figure size 864x576 with 1 Axes>"
      ]
     },
     "metadata": {
      "needs_background": "light"
     },
     "output_type": "display_data"
    }
   ],
   "source": [
    "rides_df = data.groupby(['Company', data['Date of Travel'].dt.year])[['Customer ID']].count().reset_index()\n",
    "display(rides_df)\n",
    "ax = sns.lineplot(x = 'Date of Travel', y = 'Customer ID', data = rides_df, hue = 'Company', palette = ['pink','yellow'])\n",
    "\n",
    "ax.yaxis.set_major_formatter(FuncFormatter(thousands_formatter))\n",
    "ax.set_title('Quantity of Rides 2016 - 2018')\n",
    "ax.set_ylabel('Number of rides (in thousands)')\n",
    "ax.set_xlabel('Years')\n",
    "ax.set_xticks(rides_df['Date of Travel'].unique())"
   ]
  },
  {
   "cell_type": "code",
   "execution_count": 23,
   "id": "55dbcaac",
   "metadata": {},
   "outputs": [
    {
     "data": {
      "text/html": [
       "<div>\n",
       "<style scoped>\n",
       "    .dataframe tbody tr th:only-of-type {\n",
       "        vertical-align: middle;\n",
       "    }\n",
       "\n",
       "    .dataframe tbody tr th {\n",
       "        vertical-align: top;\n",
       "    }\n",
       "\n",
       "    .dataframe thead th {\n",
       "        text-align: right;\n",
       "    }\n",
       "</style>\n",
       "<table border=\"1\" class=\"dataframe\">\n",
       "  <thead>\n",
       "    <tr style=\"text-align: right;\">\n",
       "      <th></th>\n",
       "      <th>Company</th>\n",
       "      <th>Number of rides</th>\n",
       "    </tr>\n",
       "  </thead>\n",
       "  <tbody>\n",
       "    <tr>\n",
       "      <th>0</th>\n",
       "      <td>Pink Cab</td>\n",
       "      <td>84711</td>\n",
       "    </tr>\n",
       "    <tr>\n",
       "      <th>1</th>\n",
       "      <td>Yellow Cab</td>\n",
       "      <td>274681</td>\n",
       "    </tr>\n",
       "  </tbody>\n",
       "</table>\n",
       "</div>"
      ],
      "text/plain": [
       "      Company  Number of rides\n",
       "0    Pink Cab            84711\n",
       "1  Yellow Cab           274681"
      ]
     },
     "metadata": {},
     "output_type": "display_data"
    },
    {
     "data": {
      "text/plain": [
       "3.2425659005323983"
      ]
     },
     "execution_count": 23,
     "metadata": {},
     "output_type": "execute_result"
    }
   ],
   "source": [
    "rides_df = data.groupby(['Company'])[['Customer ID']].count().reset_index()\n",
    "rides_df.columns = ['Company','Number of rides']\n",
    "display(rides_df)\n",
    "ratio = rides_df.iloc[1,1] / rides_df.iloc[0,1]\n",
    "ratio"
   ]
  },
  {
   "cell_type": "markdown",
   "id": "2351876d",
   "metadata": {},
   "source": [
    "Yellow Cab has had **3.25** more trips than Pink Cab in the period from 2016 to 2018."
   ]
  },
  {
   "cell_type": "markdown",
   "id": "0f61ed5e",
   "metadata": {},
   "source": [
    "## Which company tend to retain more customers?"
   ]
  },
  {
   "cell_type": "code",
   "execution_count": 24,
   "id": "cd832a80",
   "metadata": {},
   "outputs": [
    {
     "data": {
      "text/html": [
       "<div>\n",
       "<style scoped>\n",
       "    .dataframe tbody tr th:only-of-type {\n",
       "        vertical-align: middle;\n",
       "    }\n",
       "\n",
       "    .dataframe tbody tr th {\n",
       "        vertical-align: top;\n",
       "    }\n",
       "\n",
       "    .dataframe thead th {\n",
       "        text-align: right;\n",
       "    }\n",
       "</style>\n",
       "<table border=\"1\" class=\"dataframe\">\n",
       "  <thead>\n",
       "    <tr style=\"text-align: right;\">\n",
       "      <th></th>\n",
       "      <th>Company</th>\n",
       "      <th>Year</th>\n",
       "      <th>Customer ID</th>\n",
       "      <th>Number of rides</th>\n",
       "    </tr>\n",
       "  </thead>\n",
       "  <tbody>\n",
       "    <tr>\n",
       "      <th>0</th>\n",
       "      <td>Pink Cab</td>\n",
       "      <td>2016</td>\n",
       "      <td>1</td>\n",
       "      <td>1</td>\n",
       "    </tr>\n",
       "    <tr>\n",
       "      <th>1</th>\n",
       "      <td>Pink Cab</td>\n",
       "      <td>2016</td>\n",
       "      <td>2</td>\n",
       "      <td>2</td>\n",
       "    </tr>\n",
       "    <tr>\n",
       "      <th>2</th>\n",
       "      <td>Pink Cab</td>\n",
       "      <td>2016</td>\n",
       "      <td>3</td>\n",
       "      <td>2</td>\n",
       "    </tr>\n",
       "    <tr>\n",
       "      <th>3</th>\n",
       "      <td>Pink Cab</td>\n",
       "      <td>2016</td>\n",
       "      <td>5</td>\n",
       "      <td>2</td>\n",
       "    </tr>\n",
       "    <tr>\n",
       "      <th>4</th>\n",
       "      <td>Pink Cab</td>\n",
       "      <td>2016</td>\n",
       "      <td>6</td>\n",
       "      <td>1</td>\n",
       "    </tr>\n",
       "    <tr>\n",
       "      <th>...</th>\n",
       "      <td>...</td>\n",
       "      <td>...</td>\n",
       "      <td>...</td>\n",
       "      <td>...</td>\n",
       "    </tr>\n",
       "    <tr>\n",
       "      <th>134895</th>\n",
       "      <td>Yellow Cab</td>\n",
       "      <td>2018</td>\n",
       "      <td>59996</td>\n",
       "      <td>3</td>\n",
       "    </tr>\n",
       "    <tr>\n",
       "      <th>134896</th>\n",
       "      <td>Yellow Cab</td>\n",
       "      <td>2018</td>\n",
       "      <td>59997</td>\n",
       "      <td>4</td>\n",
       "    </tr>\n",
       "    <tr>\n",
       "      <th>134897</th>\n",
       "      <td>Yellow Cab</td>\n",
       "      <td>2018</td>\n",
       "      <td>59998</td>\n",
       "      <td>2</td>\n",
       "    </tr>\n",
       "    <tr>\n",
       "      <th>134898</th>\n",
       "      <td>Yellow Cab</td>\n",
       "      <td>2018</td>\n",
       "      <td>59999</td>\n",
       "      <td>4</td>\n",
       "    </tr>\n",
       "    <tr>\n",
       "      <th>134899</th>\n",
       "      <td>Yellow Cab</td>\n",
       "      <td>2018</td>\n",
       "      <td>60000</td>\n",
       "      <td>7</td>\n",
       "    </tr>\n",
       "  </tbody>\n",
       "</table>\n",
       "<p>134900 rows × 4 columns</p>\n",
       "</div>"
      ],
      "text/plain": [
       "           Company  Year  Customer ID  Number of rides\n",
       "0         Pink Cab  2016            1                1\n",
       "1         Pink Cab  2016            2                2\n",
       "2         Pink Cab  2016            3                2\n",
       "3         Pink Cab  2016            5                2\n",
       "4         Pink Cab  2016            6                1\n",
       "...            ...   ...          ...              ...\n",
       "134895  Yellow Cab  2018        59996                3\n",
       "134896  Yellow Cab  2018        59997                4\n",
       "134897  Yellow Cab  2018        59998                2\n",
       "134898  Yellow Cab  2018        59999                4\n",
       "134899  Yellow Cab  2018        60000                7\n",
       "\n",
       "[134900 rows x 4 columns]"
      ]
     },
     "metadata": {},
     "output_type": "display_data"
    },
    {
     "data": {
      "text/plain": [
       "[<matplotlib.axis.XTick at 0x1b0c86a09a0>,\n",
       " <matplotlib.axis.XTick at 0x1b0c86a0970>,\n",
       " <matplotlib.axis.XTick at 0x1b0c86e6580>]"
      ]
     },
     "execution_count": 24,
     "metadata": {},
     "output_type": "execute_result"
    },
    {
     "data": {
      "image/png": "[encoded data removed]",
      "text/plain": [
       "<Figure size 864x576 with 2 Axes>"
      ]
     },
     "metadata": {
      "needs_background": "light"
     },
     "output_type": "display_data"
    }
   ],
   "source": [
    "retention_df = data.groupby(['Company',data['Date of Travel'].dt.year,'Customer ID'])[['Payment_Mode']].count().reset_index()\n",
    "retention_df.columns = ['Company','Year','Customer ID', 'Number of rides']\n",
    "display(retention_df)\n",
    "\n",
    "sporadic_customers = retention_df[retention_df['Number of rides'] <= 5]\n",
    "loyal_customers = retention_df[retention_df['Number of rides'] > 5]\n",
    "\n",
    "fig, ax = plt.subplots(1,2)\n",
    "\n",
    "sns.lineplot(x = 'Year', y = 'Number of rides', data = sporadic_customers, hue = 'Company', palette = ['pink', 'yellow'], ax = ax[0])\n",
    "sns.lineplot(x = 'Year', y = 'Number of rides', data = loyal_customers, hue = 'Company', palette = ['pink', 'yellow'], ax = ax[1])\n",
    "ax[0].set_title('Sporadic Customers (5 rides or less)')\n",
    "ax[1].set_title('Loyal Custumers (more than 5 rides)')\n",
    "ax[0].set_xticks(sporadic_customers['Year'].unique())\n",
    "ax[1].set_xticks(sporadic_customers['Year'].unique())"
   ]
  },
  {
   "cell_type": "markdown",
   "id": "fd9167c8",
   "metadata": {},
   "source": [
    "We categories the customers as sporadics and loyal based on the number of rides they take in each company every year (5 rides or less is consider a sporadic customer in our analysis), and we found that Yellow Cab is doing a better job than Pink Cab in customer retention."
   ]
  },
  {
   "cell_type": "markdown",
   "id": "89c5e747",
   "metadata": {},
   "source": [
    "## Recomendation\n",
    "\n",
    "Based on the questions previously analyzed and answered, we can conclude that **Yellow Cab** is a better option to invest than Pink Cab.\n",
    "\n",
    "**Profit through the years:** Yellow Cab has earned **8.3** times the earnings of Pink Cab in the period from 2016 to 2018.\n",
    "\n",
    "**User income profile:** In each economic group (Poor or near-poor, Lower-middle class, Middle class, Upper-middle class, Rich) Yellow Cab has more users than Pink Cab.\n",
    "\n",
    "**Users by city:** In the Top 5 cities with the largest number of users Yellow Cab has more presence than Pink Cab.\n",
    "\n",
    "**Volume of rides:** Yellow Cab has had **3.25** more trips than Pink Cab in the period from 2016 to 2018.\n",
    "\n",
    "**Customer retention:** We categories the customers as sporadics and loyal based on the number of rides they take in each company every year (5 rides or less is consider a sporadic customer in our analysis), and we found that Yellow Cab is doing a better job than Pink Cab in customer retention."
   ]
  }
 ],
 "metadata": {
  "kernelspec": {
   "display_name": "Python 3 (ipykernel)",
   "language": "python",
   "name": "python3"
  },
  "language_info": {
   "codemirror_mode": {
    "name": "ipython",
    "version": 3
   },
   "file_extension": ".py",
   "mimetype": "text/x-python",
   "name": "python",
   "nbconvert_exporter": "python",
   "pygments_lexer": "ipython3",
   "version": "3.9.7"
  }
 },
 "nbformat": 4,
 "nbformat_minor": 5
}
