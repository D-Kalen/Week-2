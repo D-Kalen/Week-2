{
 "cells": [
  {
   "cell_type": "markdown",
   "metadata": {},
   "source": [
    "## Exploratory Data Aanlysis - EDA"
   ]
  },
  {
   "cell_type": "code",
   "execution_count": 308,
   "metadata": {},
   "outputs": [],
   "source": [
    "import pandas as pd\n",
    "import matplotlib.pyplot as plt\n",
    "import numpy as np\n",
    "import seaborn as sns"
   ]
  },
  {
   "cell_type": "code",
   "execution_count": 309,
   "metadata": {},
   "outputs": [],
   "source": [
    "df_pinkcab = pd.read_csv('./Pinkcab.csv')\n",
    "df_city = pd.read_csv('./City.csv')"
   ]
  },
  {
   "cell_type": "code",
   "execution_count": 310,
   "metadata": {},
   "outputs": [
    {
     "data": {
      "text/html": [
       "<div>\n",
       "<style scoped>\n",
       "    .dataframe tbody tr th:only-of-type {\n",
       "        vertical-align: middle;\n",
       "    }\n",
       "\n",
       "    .dataframe tbody tr th {\n",
       "        vertical-align: top;\n",
       "    }\n",
       "\n",
       "    .dataframe thead th {\n",
       "        text-align: right;\n",
       "    }\n",
       "</style>\n",
       "<table border=\"1\" class=\"dataframe\">\n",
       "  <thead>\n",
       "    <tr style=\"text-align: right;\">\n",
       "      <th></th>\n",
       "      <th>Unnamed: 0</th>\n",
       "      <th>Transaction ID</th>\n",
       "      <th>Date of Travel</th>\n",
       "      <th>Company</th>\n",
       "      <th>City</th>\n",
       "      <th>KM Travelled</th>\n",
       "      <th>Price Charged</th>\n",
       "      <th>Cost of Trip</th>\n",
       "      <th>Customer ID</th>\n",
       "      <th>Payment_Mode</th>\n",
       "      <th>Gender</th>\n",
       "      <th>Age</th>\n",
       "      <th>Income (USD/Month)</th>\n",
       "    </tr>\n",
       "  </thead>\n",
       "  <tbody>\n",
       "    <tr>\n",
       "      <th>0</th>\n",
       "      <td>0</td>\n",
       "      <td>10000011</td>\n",
       "      <td>2016-01-08</td>\n",
       "      <td>Pink Cab</td>\n",
       "      <td>ATLANTA GA</td>\n",
       "      <td>30.45</td>\n",
       "      <td>370.95</td>\n",
       "      <td>313.635</td>\n",
       "      <td>29290</td>\n",
       "      <td>Card</td>\n",
       "      <td>Male</td>\n",
       "      <td>28</td>\n",
       "      <td>10813</td>\n",
       "    </tr>\n",
       "    <tr>\n",
       "      <th>1</th>\n",
       "      <td>1</td>\n",
       "      <td>10000012</td>\n",
       "      <td>2016-01-06</td>\n",
       "      <td>Pink Cab</td>\n",
       "      <td>ATLANTA GA</td>\n",
       "      <td>28.62</td>\n",
       "      <td>358.52</td>\n",
       "      <td>334.854</td>\n",
       "      <td>27703</td>\n",
       "      <td>Card</td>\n",
       "      <td>Male</td>\n",
       "      <td>27</td>\n",
       "      <td>9237</td>\n",
       "    </tr>\n",
       "    <tr>\n",
       "      <th>2</th>\n",
       "      <td>2</td>\n",
       "      <td>10395626</td>\n",
       "      <td>2018-10-27</td>\n",
       "      <td>Pink Cab</td>\n",
       "      <td>ATLANTA GA</td>\n",
       "      <td>13.39</td>\n",
       "      <td>167.03</td>\n",
       "      <td>141.934</td>\n",
       "      <td>27703</td>\n",
       "      <td>Card</td>\n",
       "      <td>Male</td>\n",
       "      <td>27</td>\n",
       "      <td>9237</td>\n",
       "    </tr>\n",
       "    <tr>\n",
       "      <th>3</th>\n",
       "      <td>3</td>\n",
       "      <td>10000013</td>\n",
       "      <td>2016-01-02</td>\n",
       "      <td>Pink Cab</td>\n",
       "      <td>ATLANTA GA</td>\n",
       "      <td>9.04</td>\n",
       "      <td>125.20</td>\n",
       "      <td>97.632</td>\n",
       "      <td>28712</td>\n",
       "      <td>Cash</td>\n",
       "      <td>Male</td>\n",
       "      <td>53</td>\n",
       "      <td>11242</td>\n",
       "    </tr>\n",
       "    <tr>\n",
       "      <th>4</th>\n",
       "      <td>4</td>\n",
       "      <td>10000014</td>\n",
       "      <td>2016-01-07</td>\n",
       "      <td>Pink Cab</td>\n",
       "      <td>ATLANTA GA</td>\n",
       "      <td>33.17</td>\n",
       "      <td>377.40</td>\n",
       "      <td>351.602</td>\n",
       "      <td>28020</td>\n",
       "      <td>Cash</td>\n",
       "      <td>Male</td>\n",
       "      <td>23</td>\n",
       "      <td>23327</td>\n",
       "    </tr>\n",
       "    <tr>\n",
       "      <th>...</th>\n",
       "      <td>...</td>\n",
       "      <td>...</td>\n",
       "      <td>...</td>\n",
       "      <td>...</td>\n",
       "      <td>...</td>\n",
       "      <td>...</td>\n",
       "      <td>...</td>\n",
       "      <td>...</td>\n",
       "      <td>...</td>\n",
       "      <td>...</td>\n",
       "      <td>...</td>\n",
       "      <td>...</td>\n",
       "      <td>...</td>\n",
       "    </tr>\n",
       "    <tr>\n",
       "      <th>84706</th>\n",
       "      <td>84706</td>\n",
       "      <td>10437599</td>\n",
       "      <td>2018-01-05</td>\n",
       "      <td>Pink Cab</td>\n",
       "      <td>WASHINGTON DC</td>\n",
       "      <td>11.10</td>\n",
       "      <td>155.95</td>\n",
       "      <td>128.760</td>\n",
       "      <td>51823</td>\n",
       "      <td>Cash</td>\n",
       "      <td>Male</td>\n",
       "      <td>35</td>\n",
       "      <td>6197</td>\n",
       "    </tr>\n",
       "    <tr>\n",
       "      <th>84707</th>\n",
       "      <td>84707</td>\n",
       "      <td>10437600</td>\n",
       "      <td>2018-01-03</td>\n",
       "      <td>Pink Cab</td>\n",
       "      <td>WASHINGTON DC</td>\n",
       "      <td>22.66</td>\n",
       "      <td>267.53</td>\n",
       "      <td>269.654</td>\n",
       "      <td>53593</td>\n",
       "      <td>Card</td>\n",
       "      <td>Female</td>\n",
       "      <td>19</td>\n",
       "      <td>8643</td>\n",
       "    </tr>\n",
       "    <tr>\n",
       "      <th>84708</th>\n",
       "      <td>84708</td>\n",
       "      <td>10437604</td>\n",
       "      <td>2018-01-03</td>\n",
       "      <td>Pink Cab</td>\n",
       "      <td>WASHINGTON DC</td>\n",
       "      <td>30.90</td>\n",
       "      <td>431.50</td>\n",
       "      <td>349.170</td>\n",
       "      <td>53622</td>\n",
       "      <td>Card</td>\n",
       "      <td>Male</td>\n",
       "      <td>32</td>\n",
       "      <td>20971</td>\n",
       "    </tr>\n",
       "    <tr>\n",
       "      <th>84709</th>\n",
       "      <td>84709</td>\n",
       "      <td>10437609</td>\n",
       "      <td>2018-01-09</td>\n",
       "      <td>Pink Cab</td>\n",
       "      <td>WASHINGTON DC</td>\n",
       "      <td>34.98</td>\n",
       "      <td>461.83</td>\n",
       "      <td>416.262</td>\n",
       "      <td>51817</td>\n",
       "      <td>Card</td>\n",
       "      <td>Male</td>\n",
       "      <td>22</td>\n",
       "      <td>6397</td>\n",
       "    </tr>\n",
       "    <tr>\n",
       "      <th>84710</th>\n",
       "      <td>84710</td>\n",
       "      <td>10437611</td>\n",
       "      <td>2018-12-31</td>\n",
       "      <td>Pink Cab</td>\n",
       "      <td>WASHINGTON DC</td>\n",
       "      <td>29.68</td>\n",
       "      <td>388.08</td>\n",
       "      <td>302.736</td>\n",
       "      <td>52754</td>\n",
       "      <td>Card</td>\n",
       "      <td>Female</td>\n",
       "      <td>29</td>\n",
       "      <td>19676</td>\n",
       "    </tr>\n",
       "  </tbody>\n",
       "</table>\n",
       "<p>84711 rows × 13 columns</p>\n",
       "</div>"
      ],
      "text/plain": [
       "       Unnamed: 0  Transaction ID Date of Travel   Company           City  \\\n",
       "0               0        10000011     2016-01-08  Pink Cab     ATLANTA GA   \n",
       "1               1        10000012     2016-01-06  Pink Cab     ATLANTA GA   \n",
       "2               2        10395626     2018-10-27  Pink Cab     ATLANTA GA   \n",
       "3               3        10000013     2016-01-02  Pink Cab     ATLANTA GA   \n",
       "4               4        10000014     2016-01-07  Pink Cab     ATLANTA GA   \n",
       "...           ...             ...            ...       ...            ...   \n",
       "84706       84706        10437599     2018-01-05  Pink Cab  WASHINGTON DC   \n",
       "84707       84707        10437600     2018-01-03  Pink Cab  WASHINGTON DC   \n",
       "84708       84708        10437604     2018-01-03  Pink Cab  WASHINGTON DC   \n",
       "84709       84709        10437609     2018-01-09  Pink Cab  WASHINGTON DC   \n",
       "84710       84710        10437611     2018-12-31  Pink Cab  WASHINGTON DC   \n",
       "\n",
       "       KM Travelled  Price Charged  Cost of Trip  Customer ID Payment_Mode  \\\n",
       "0             30.45         370.95       313.635        29290         Card   \n",
       "1             28.62         358.52       334.854        27703         Card   \n",
       "2             13.39         167.03       141.934        27703         Card   \n",
       "3              9.04         125.20        97.632        28712         Cash   \n",
       "4             33.17         377.40       351.602        28020         Cash   \n",
       "...             ...            ...           ...          ...          ...   \n",
       "84706         11.10         155.95       128.760        51823         Cash   \n",
       "84707         22.66         267.53       269.654        53593         Card   \n",
       "84708         30.90         431.50       349.170        53622         Card   \n",
       "84709         34.98         461.83       416.262        51817         Card   \n",
       "84710         29.68         388.08       302.736        52754         Card   \n",
       "\n",
       "       Gender  Age  Income (USD/Month)  \n",
       "0        Male   28               10813  \n",
       "1        Male   27                9237  \n",
       "2        Male   27                9237  \n",
       "3        Male   53               11242  \n",
       "4        Male   23               23327  \n",
       "...       ...  ...                 ...  \n",
       "84706    Male   35                6197  \n",
       "84707  Female   19                8643  \n",
       "84708    Male   32               20971  \n",
       "84709    Male   22                6397  \n",
       "84710  Female   29               19676  \n",
       "\n",
       "[84711 rows x 13 columns]"
      ]
     },
     "execution_count": 310,
     "metadata": {},
     "output_type": "execute_result"
    }
   ],
   "source": [
    "df_pinkcab"
   ]
  },
  {
   "cell_type": "code",
   "execution_count": 311,
   "metadata": {},
   "outputs": [],
   "source": [
    "df_pinkcab.drop('Unnamed: 0', axis=1, inplace=True)\n",
    "df_pinkcab.rename(columns={'Date of Travel':'Date', 'KM Travelled':'KM_Travel','Cost of Trip':'Cost_Trip','Income (USD/Month)':'Income'}, inplace=True)"
   ]
  },
  {
   "cell_type": "code",
   "execution_count": 312,
   "metadata": {},
   "outputs": [
    {
     "data": {
      "text/html": [
       "<div>\n",
       "<style scoped>\n",
       "    .dataframe tbody tr th:only-of-type {\n",
       "        vertical-align: middle;\n",
       "    }\n",
       "\n",
       "    .dataframe tbody tr th {\n",
       "        vertical-align: top;\n",
       "    }\n",
       "\n",
       "    .dataframe thead th {\n",
       "        text-align: right;\n",
       "    }\n",
       "</style>\n",
       "<table border=\"1\" class=\"dataframe\">\n",
       "  <thead>\n",
       "    <tr style=\"text-align: right;\">\n",
       "      <th></th>\n",
       "      <th>Transaction ID</th>\n",
       "      <th>KM_Travel</th>\n",
       "      <th>Price Charged</th>\n",
       "      <th>Cost_Trip</th>\n",
       "      <th>Customer ID</th>\n",
       "      <th>Age</th>\n",
       "      <th>Income</th>\n",
       "    </tr>\n",
       "  </thead>\n",
       "  <tbody>\n",
       "    <tr>\n",
       "      <th>count</th>\n",
       "      <td>8.471100e+04</td>\n",
       "      <td>84711.000000</td>\n",
       "      <td>84711.000000</td>\n",
       "      <td>84711.000000</td>\n",
       "      <td>84711.000000</td>\n",
       "      <td>84711.000000</td>\n",
       "      <td>84711.000000</td>\n",
       "    </tr>\n",
       "    <tr>\n",
       "      <th>mean</th>\n",
       "      <td>1.022394e+07</td>\n",
       "      <td>22.559917</td>\n",
       "      <td>310.800856</td>\n",
       "      <td>248.148682</td>\n",
       "      <td>18422.581577</td>\n",
       "      <td>35.322414</td>\n",
       "      <td>15059.047137</td>\n",
       "    </tr>\n",
       "    <tr>\n",
       "      <th>std</th>\n",
       "      <td>1.261782e+05</td>\n",
       "      <td>12.231092</td>\n",
       "      <td>181.995661</td>\n",
       "      <td>135.403345</td>\n",
       "      <td>18084.830799</td>\n",
       "      <td>12.644780</td>\n",
       "      <td>7991.077762</td>\n",
       "    </tr>\n",
       "    <tr>\n",
       "      <th>min</th>\n",
       "      <td>1.000001e+07</td>\n",
       "      <td>1.900000</td>\n",
       "      <td>15.600000</td>\n",
       "      <td>19.000000</td>\n",
       "      <td>1.000000</td>\n",
       "      <td>18.000000</td>\n",
       "      <td>2000.000000</td>\n",
       "    </tr>\n",
       "    <tr>\n",
       "      <th>25%</th>\n",
       "      <td>1.011014e+07</td>\n",
       "      <td>12.000000</td>\n",
       "      <td>159.970000</td>\n",
       "      <td>131.868000</td>\n",
       "      <td>5317.500000</td>\n",
       "      <td>25.000000</td>\n",
       "      <td>8371.000000</td>\n",
       "    </tr>\n",
       "    <tr>\n",
       "      <th>50%</th>\n",
       "      <td>1.022590e+07</td>\n",
       "      <td>22.440000</td>\n",
       "      <td>298.060000</td>\n",
       "      <td>246.330000</td>\n",
       "      <td>8876.000000</td>\n",
       "      <td>33.000000</td>\n",
       "      <td>14713.000000</td>\n",
       "    </tr>\n",
       "    <tr>\n",
       "      <th>75%</th>\n",
       "      <td>1.033642e+07</td>\n",
       "      <td>32.960000</td>\n",
       "      <td>441.505000</td>\n",
       "      <td>360.180000</td>\n",
       "      <td>27190.000000</td>\n",
       "      <td>42.000000</td>\n",
       "      <td>21055.000000</td>\n",
       "    </tr>\n",
       "    <tr>\n",
       "      <th>max</th>\n",
       "      <td>1.043762e+07</td>\n",
       "      <td>48.000000</td>\n",
       "      <td>1623.480000</td>\n",
       "      <td>576.000000</td>\n",
       "      <td>60000.000000</td>\n",
       "      <td>65.000000</td>\n",
       "      <td>35000.000000</td>\n",
       "    </tr>\n",
       "  </tbody>\n",
       "</table>\n",
       "</div>"
      ],
      "text/plain": [
       "       Transaction ID     KM_Travel  Price Charged     Cost_Trip  \\\n",
       "count    8.471100e+04  84711.000000   84711.000000  84711.000000   \n",
       "mean     1.022394e+07     22.559917     310.800856    248.148682   \n",
       "std      1.261782e+05     12.231092     181.995661    135.403345   \n",
       "min      1.000001e+07      1.900000      15.600000     19.000000   \n",
       "25%      1.011014e+07     12.000000     159.970000    131.868000   \n",
       "50%      1.022590e+07     22.440000     298.060000    246.330000   \n",
       "75%      1.033642e+07     32.960000     441.505000    360.180000   \n",
       "max      1.043762e+07     48.000000    1623.480000    576.000000   \n",
       "\n",
       "        Customer ID           Age        Income  \n",
       "count  84711.000000  84711.000000  84711.000000  \n",
       "mean   18422.581577     35.322414  15059.047137  \n",
       "std    18084.830799     12.644780   7991.077762  \n",
       "min        1.000000     18.000000   2000.000000  \n",
       "25%     5317.500000     25.000000   8371.000000  \n",
       "50%     8876.000000     33.000000  14713.000000  \n",
       "75%    27190.000000     42.000000  21055.000000  \n",
       "max    60000.000000     65.000000  35000.000000  "
      ]
     },
     "execution_count": 312,
     "metadata": {},
     "output_type": "execute_result"
    }
   ],
   "source": [
    "df_pinkcab.describe()"
   ]
  },
  {
   "cell_type": "code",
   "execution_count": 313,
   "metadata": {},
   "outputs": [
    {
     "data": {
      "text/html": [
       "<div>\n",
       "<style scoped>\n",
       "    .dataframe tbody tr th:only-of-type {\n",
       "        vertical-align: middle;\n",
       "    }\n",
       "\n",
       "    .dataframe tbody tr th {\n",
       "        vertical-align: top;\n",
       "    }\n",
       "\n",
       "    .dataframe thead th {\n",
       "        text-align: right;\n",
       "    }\n",
       "</style>\n",
       "<table border=\"1\" class=\"dataframe\">\n",
       "  <thead>\n",
       "    <tr style=\"text-align: right;\">\n",
       "      <th></th>\n",
       "      <th>Transaction ID</th>\n",
       "      <th>KM_Travel</th>\n",
       "      <th>Price Charged</th>\n",
       "      <th>Cost_Trip</th>\n",
       "      <th>Customer ID</th>\n",
       "      <th>Age</th>\n",
       "      <th>Income</th>\n",
       "    </tr>\n",
       "  </thead>\n",
       "  <tbody>\n",
       "    <tr>\n",
       "      <th>0</th>\n",
       "      <td>10000011</td>\n",
       "      <td>30.45</td>\n",
       "      <td>370.95</td>\n",
       "      <td>313.635</td>\n",
       "      <td>29290</td>\n",
       "      <td>28</td>\n",
       "      <td>10813</td>\n",
       "    </tr>\n",
       "    <tr>\n",
       "      <th>1</th>\n",
       "      <td>10000012</td>\n",
       "      <td>28.62</td>\n",
       "      <td>358.52</td>\n",
       "      <td>334.854</td>\n",
       "      <td>27703</td>\n",
       "      <td>27</td>\n",
       "      <td>9237</td>\n",
       "    </tr>\n",
       "    <tr>\n",
       "      <th>2</th>\n",
       "      <td>10395626</td>\n",
       "      <td>13.39</td>\n",
       "      <td>167.03</td>\n",
       "      <td>141.934</td>\n",
       "      <td>27703</td>\n",
       "      <td>27</td>\n",
       "      <td>9237</td>\n",
       "    </tr>\n",
       "    <tr>\n",
       "      <th>3</th>\n",
       "      <td>10000013</td>\n",
       "      <td>9.04</td>\n",
       "      <td>125.20</td>\n",
       "      <td>97.632</td>\n",
       "      <td>28712</td>\n",
       "      <td>53</td>\n",
       "      <td>11242</td>\n",
       "    </tr>\n",
       "    <tr>\n",
       "      <th>4</th>\n",
       "      <td>10000014</td>\n",
       "      <td>33.17</td>\n",
       "      <td>377.40</td>\n",
       "      <td>351.602</td>\n",
       "      <td>28020</td>\n",
       "      <td>23</td>\n",
       "      <td>23327</td>\n",
       "    </tr>\n",
       "    <tr>\n",
       "      <th>...</th>\n",
       "      <td>...</td>\n",
       "      <td>...</td>\n",
       "      <td>...</td>\n",
       "      <td>...</td>\n",
       "      <td>...</td>\n",
       "      <td>...</td>\n",
       "      <td>...</td>\n",
       "    </tr>\n",
       "    <tr>\n",
       "      <th>84706</th>\n",
       "      <td>10437599</td>\n",
       "      <td>11.10</td>\n",
       "      <td>155.95</td>\n",
       "      <td>128.760</td>\n",
       "      <td>51823</td>\n",
       "      <td>35</td>\n",
       "      <td>6197</td>\n",
       "    </tr>\n",
       "    <tr>\n",
       "      <th>84707</th>\n",
       "      <td>10437600</td>\n",
       "      <td>22.66</td>\n",
       "      <td>267.53</td>\n",
       "      <td>269.654</td>\n",
       "      <td>53593</td>\n",
       "      <td>19</td>\n",
       "      <td>8643</td>\n",
       "    </tr>\n",
       "    <tr>\n",
       "      <th>84708</th>\n",
       "      <td>10437604</td>\n",
       "      <td>30.90</td>\n",
       "      <td>431.50</td>\n",
       "      <td>349.170</td>\n",
       "      <td>53622</td>\n",
       "      <td>32</td>\n",
       "      <td>20971</td>\n",
       "    </tr>\n",
       "    <tr>\n",
       "      <th>84709</th>\n",
       "      <td>10437609</td>\n",
       "      <td>34.98</td>\n",
       "      <td>461.83</td>\n",
       "      <td>416.262</td>\n",
       "      <td>51817</td>\n",
       "      <td>22</td>\n",
       "      <td>6397</td>\n",
       "    </tr>\n",
       "    <tr>\n",
       "      <th>84710</th>\n",
       "      <td>10437611</td>\n",
       "      <td>29.68</td>\n",
       "      <td>388.08</td>\n",
       "      <td>302.736</td>\n",
       "      <td>52754</td>\n",
       "      <td>29</td>\n",
       "      <td>19676</td>\n",
       "    </tr>\n",
       "  </tbody>\n",
       "</table>\n",
       "<p>84711 rows × 7 columns</p>\n",
       "</div>"
      ],
      "text/plain": [
       "       Transaction ID  KM_Travel  Price Charged  Cost_Trip  Customer ID  Age  \\\n",
       "0            10000011      30.45         370.95    313.635        29290   28   \n",
       "1            10000012      28.62         358.52    334.854        27703   27   \n",
       "2            10395626      13.39         167.03    141.934        27703   27   \n",
       "3            10000013       9.04         125.20     97.632        28712   53   \n",
       "4            10000014      33.17         377.40    351.602        28020   23   \n",
       "...               ...        ...            ...        ...          ...  ...   \n",
       "84706        10437599      11.10         155.95    128.760        51823   35   \n",
       "84707        10437600      22.66         267.53    269.654        53593   19   \n",
       "84708        10437604      30.90         431.50    349.170        53622   32   \n",
       "84709        10437609      34.98         461.83    416.262        51817   22   \n",
       "84710        10437611      29.68         388.08    302.736        52754   29   \n",
       "\n",
       "       Income  \n",
       "0       10813  \n",
       "1        9237  \n",
       "2        9237  \n",
       "3       11242  \n",
       "4       23327  \n",
       "...       ...  \n",
       "84706    6197  \n",
       "84707    8643  \n",
       "84708   20971  \n",
       "84709    6397  \n",
       "84710   19676  \n",
       "\n",
       "[84711 rows x 7 columns]"
      ]
     },
     "execution_count": 313,
     "metadata": {},
     "output_type": "execute_result"
    }
   ],
   "source": [
    "df_num = df_pinkcab.select_dtypes(include=np.number)\n",
    "df_num"
   ]
  },
  {
   "cell_type": "code",
   "execution_count": 314,
   "metadata": {},
   "outputs": [
    {
     "data": {
      "text/html": [
       "<div>\n",
       "<style scoped>\n",
       "    .dataframe tbody tr th:only-of-type {\n",
       "        vertical-align: middle;\n",
       "    }\n",
       "\n",
       "    .dataframe tbody tr th {\n",
       "        vertical-align: top;\n",
       "    }\n",
       "\n",
       "    .dataframe thead th {\n",
       "        text-align: right;\n",
       "    }\n",
       "</style>\n",
       "<table border=\"1\" class=\"dataframe\">\n",
       "  <thead>\n",
       "    <tr style=\"text-align: right;\">\n",
       "      <th></th>\n",
       "      <th>Transaction ID</th>\n",
       "      <th>KM_Travel</th>\n",
       "      <th>Price Charged</th>\n",
       "      <th>Cost_Trip</th>\n",
       "      <th>Customer ID</th>\n",
       "      <th>Age</th>\n",
       "      <th>Income</th>\n",
       "      <th>Kurtosis</th>\n",
       "      <th>Skewness</th>\n",
       "    </tr>\n",
       "  </thead>\n",
       "  <tbody>\n",
       "    <tr>\n",
       "      <th>count</th>\n",
       "      <td>8.471100e+04</td>\n",
       "      <td>84711.000000</td>\n",
       "      <td>84711.000000</td>\n",
       "      <td>84711.000000</td>\n",
       "      <td>84711.000000</td>\n",
       "      <td>84711.000000</td>\n",
       "      <td>84711.000000</td>\n",
       "      <td>84711.000000</td>\n",
       "      <td>84711.000000</td>\n",
       "    </tr>\n",
       "    <tr>\n",
       "      <th>mean</th>\n",
       "      <td>1.022394e+07</td>\n",
       "      <td>22.559917</td>\n",
       "      <td>310.800856</td>\n",
       "      <td>248.148682</td>\n",
       "      <td>18422.581577</td>\n",
       "      <td>35.322414</td>\n",
       "      <td>15059.047137</td>\n",
       "      <td>6.999825</td>\n",
       "      <td>2.828382</td>\n",
       "    </tr>\n",
       "    <tr>\n",
       "      <th>std</th>\n",
       "      <td>1.261782e+05</td>\n",
       "      <td>12.231092</td>\n",
       "      <td>181.995661</td>\n",
       "      <td>135.403345</td>\n",
       "      <td>18084.830799</td>\n",
       "      <td>12.644780</td>\n",
       "      <td>7991.077762</td>\n",
       "      <td>0.000204</td>\n",
       "      <td>0.000053</td>\n",
       "    </tr>\n",
       "    <tr>\n",
       "      <th>min</th>\n",
       "      <td>1.000001e+07</td>\n",
       "      <td>1.900000</td>\n",
       "      <td>15.600000</td>\n",
       "      <td>19.000000</td>\n",
       "      <td>1.000000</td>\n",
       "      <td>18.000000</td>\n",
       "      <td>2000.000000</td>\n",
       "      <td>6.999145</td>\n",
       "      <td>2.828203</td>\n",
       "    </tr>\n",
       "    <tr>\n",
       "      <th>25%</th>\n",
       "      <td>1.011014e+07</td>\n",
       "      <td>12.000000</td>\n",
       "      <td>159.970000</td>\n",
       "      <td>131.868000</td>\n",
       "      <td>5317.500000</td>\n",
       "      <td>25.000000</td>\n",
       "      <td>8371.000000</td>\n",
       "      <td>6.999787</td>\n",
       "      <td>2.828372</td>\n",
       "    </tr>\n",
       "    <tr>\n",
       "      <th>50%</th>\n",
       "      <td>1.022590e+07</td>\n",
       "      <td>22.440000</td>\n",
       "      <td>298.060000</td>\n",
       "      <td>246.330000</td>\n",
       "      <td>8876.000000</td>\n",
       "      <td>33.000000</td>\n",
       "      <td>14713.000000</td>\n",
       "      <td>6.999908</td>\n",
       "      <td>2.828403</td>\n",
       "    </tr>\n",
       "    <tr>\n",
       "      <th>75%</th>\n",
       "      <td>1.033642e+07</td>\n",
       "      <td>32.960000</td>\n",
       "      <td>441.505000</td>\n",
       "      <td>360.180000</td>\n",
       "      <td>27190.000000</td>\n",
       "      <td>42.000000</td>\n",
       "      <td>21055.000000</td>\n",
       "      <td>6.999960</td>\n",
       "      <td>2.828417</td>\n",
       "    </tr>\n",
       "    <tr>\n",
       "      <th>max</th>\n",
       "      <td>1.043762e+07</td>\n",
       "      <td>48.000000</td>\n",
       "      <td>1623.480000</td>\n",
       "      <td>576.000000</td>\n",
       "      <td>60000.000000</td>\n",
       "      <td>65.000000</td>\n",
       "      <td>35000.000000</td>\n",
       "      <td>6.999999</td>\n",
       "      <td>2.828427</td>\n",
       "    </tr>\n",
       "  </tbody>\n",
       "</table>\n",
       "</div>"
      ],
      "text/plain": [
       "       Transaction ID     KM_Travel  Price Charged     Cost_Trip  \\\n",
       "count    8.471100e+04  84711.000000   84711.000000  84711.000000   \n",
       "mean     1.022394e+07     22.559917     310.800856    248.148682   \n",
       "std      1.261782e+05     12.231092     181.995661    135.403345   \n",
       "min      1.000001e+07      1.900000      15.600000     19.000000   \n",
       "25%      1.011014e+07     12.000000     159.970000    131.868000   \n",
       "50%      1.022590e+07     22.440000     298.060000    246.330000   \n",
       "75%      1.033642e+07     32.960000     441.505000    360.180000   \n",
       "max      1.043762e+07     48.000000    1623.480000    576.000000   \n",
       "\n",
       "        Customer ID           Age        Income      Kurtosis      Skewness  \n",
       "count  84711.000000  84711.000000  84711.000000  84711.000000  84711.000000  \n",
       "mean   18422.581577     35.322414  15059.047137      6.999825      2.828382  \n",
       "std    18084.830799     12.644780   7991.077762      0.000204      0.000053  \n",
       "min        1.000000     18.000000   2000.000000      6.999145      2.828203  \n",
       "25%     5317.500000     25.000000   8371.000000      6.999787      2.828372  \n",
       "50%     8876.000000     33.000000  14713.000000      6.999908      2.828403  \n",
       "75%    27190.000000     42.000000  21055.000000      6.999960      2.828417  \n",
       "max    60000.000000     65.000000  35000.000000      6.999999      2.828427  "
      ]
     },
     "execution_count": 314,
     "metadata": {},
     "output_type": "execute_result"
    }
   ],
   "source": [
    "df_num['Kurtosis'] = df_num.kurtosis(axis=1)\n",
    "df_num['Skewness'] = df_num.skew(axis=1)\n",
    "df_num.describe()"
   ]
  },
  {
   "cell_type": "markdown",
   "metadata": {},
   "source": [
    "### We can see that skewness tends to positive which mean that Mean is bigger than Median and Kurtosis tends to positive as well, which sugest that we may have some outliers in some features"
   ]
  },
  {
   "cell_type": "markdown",
   "metadata": {},
   "source": [
    "## One transformation that might become usefull is calculate the percentage of users per city"
   ]
  },
  {
   "cell_type": "code",
   "execution_count": 315,
   "metadata": {},
   "outputs": [
    {
     "data": {
      "text/html": [
       "<div>\n",
       "<style scoped>\n",
       "    .dataframe tbody tr th:only-of-type {\n",
       "        vertical-align: middle;\n",
       "    }\n",
       "\n",
       "    .dataframe tbody tr th {\n",
       "        vertical-align: top;\n",
       "    }\n",
       "\n",
       "    .dataframe thead th {\n",
       "        text-align: right;\n",
       "    }\n",
       "</style>\n",
       "<table border=\"1\" class=\"dataframe\">\n",
       "  <thead>\n",
       "    <tr style=\"text-align: right;\">\n",
       "      <th></th>\n",
       "      <th>City</th>\n",
       "      <th>Population</th>\n",
       "      <th>Users</th>\n",
       "    </tr>\n",
       "  </thead>\n",
       "  <tbody>\n",
       "    <tr>\n",
       "      <th>0</th>\n",
       "      <td>NEW YORK NY</td>\n",
       "      <td>8,405,837</td>\n",
       "      <td>302,149</td>\n",
       "    </tr>\n",
       "    <tr>\n",
       "      <th>1</th>\n",
       "      <td>CHICAGO IL</td>\n",
       "      <td>1,955,130</td>\n",
       "      <td>164,468</td>\n",
       "    </tr>\n",
       "    <tr>\n",
       "      <th>2</th>\n",
       "      <td>LOS ANGELES CA</td>\n",
       "      <td>1,595,037</td>\n",
       "      <td>144,132</td>\n",
       "    </tr>\n",
       "    <tr>\n",
       "      <th>3</th>\n",
       "      <td>MIAMI FL</td>\n",
       "      <td>1,339,155</td>\n",
       "      <td>17,675</td>\n",
       "    </tr>\n",
       "    <tr>\n",
       "      <th>4</th>\n",
       "      <td>SILICON VALLEY</td>\n",
       "      <td>1,177,609</td>\n",
       "      <td>27,247</td>\n",
       "    </tr>\n",
       "    <tr>\n",
       "      <th>5</th>\n",
       "      <td>ORANGE COUNTY</td>\n",
       "      <td>1,030,185</td>\n",
       "      <td>12,994</td>\n",
       "    </tr>\n",
       "    <tr>\n",
       "      <th>6</th>\n",
       "      <td>SAN DIEGO CA</td>\n",
       "      <td>959,307</td>\n",
       "      <td>69,995</td>\n",
       "    </tr>\n",
       "    <tr>\n",
       "      <th>7</th>\n",
       "      <td>PHOENIX AZ</td>\n",
       "      <td>943,999</td>\n",
       "      <td>6,133</td>\n",
       "    </tr>\n",
       "    <tr>\n",
       "      <th>8</th>\n",
       "      <td>DALLAS TX</td>\n",
       "      <td>942,908</td>\n",
       "      <td>22,157</td>\n",
       "    </tr>\n",
       "    <tr>\n",
       "      <th>9</th>\n",
       "      <td>ATLANTA GA</td>\n",
       "      <td>814,885</td>\n",
       "      <td>24,701</td>\n",
       "    </tr>\n",
       "    <tr>\n",
       "      <th>10</th>\n",
       "      <td>DENVER CO</td>\n",
       "      <td>754,233</td>\n",
       "      <td>12,421</td>\n",
       "    </tr>\n",
       "    <tr>\n",
       "      <th>11</th>\n",
       "      <td>AUSTIN TX</td>\n",
       "      <td>698,371</td>\n",
       "      <td>14,978</td>\n",
       "    </tr>\n",
       "    <tr>\n",
       "      <th>12</th>\n",
       "      <td>SEATTLE WA</td>\n",
       "      <td>671,238</td>\n",
       "      <td>25,063</td>\n",
       "    </tr>\n",
       "    <tr>\n",
       "      <th>13</th>\n",
       "      <td>TUCSON AZ</td>\n",
       "      <td>631,442</td>\n",
       "      <td>5,712</td>\n",
       "    </tr>\n",
       "    <tr>\n",
       "      <th>14</th>\n",
       "      <td>SAN FRANCISCO CA</td>\n",
       "      <td>629,591</td>\n",
       "      <td>213,609</td>\n",
       "    </tr>\n",
       "    <tr>\n",
       "      <th>15</th>\n",
       "      <td>SACRAMENTO CA</td>\n",
       "      <td>545,776</td>\n",
       "      <td>7,044</td>\n",
       "    </tr>\n",
       "    <tr>\n",
       "      <th>16</th>\n",
       "      <td>PITTSBURGH PA</td>\n",
       "      <td>542,085</td>\n",
       "      <td>3,643</td>\n",
       "    </tr>\n",
       "    <tr>\n",
       "      <th>17</th>\n",
       "      <td>WASHINGTON DC</td>\n",
       "      <td>418,859</td>\n",
       "      <td>127,001</td>\n",
       "    </tr>\n",
       "    <tr>\n",
       "      <th>18</th>\n",
       "      <td>NASHVILLE TN</td>\n",
       "      <td>327,225</td>\n",
       "      <td>9,270</td>\n",
       "    </tr>\n",
       "    <tr>\n",
       "      <th>19</th>\n",
       "      <td>BOSTON MA</td>\n",
       "      <td>248,968</td>\n",
       "      <td>80,021</td>\n",
       "    </tr>\n",
       "  </tbody>\n",
       "</table>\n",
       "</div>"
      ],
      "text/plain": [
       "                City   Population      Users\n",
       "0        NEW YORK NY   8,405,837    302,149 \n",
       "1         CHICAGO IL   1,955,130    164,468 \n",
       "2     LOS ANGELES CA   1,595,037    144,132 \n",
       "3           MIAMI FL   1,339,155     17,675 \n",
       "4     SILICON VALLEY   1,177,609     27,247 \n",
       "5      ORANGE COUNTY   1,030,185     12,994 \n",
       "6       SAN DIEGO CA     959,307     69,995 \n",
       "7         PHOENIX AZ     943,999      6,133 \n",
       "8          DALLAS TX     942,908     22,157 \n",
       "9         ATLANTA GA     814,885     24,701 \n",
       "10         DENVER CO     754,233     12,421 \n",
       "11         AUSTIN TX     698,371     14,978 \n",
       "12        SEATTLE WA     671,238     25,063 \n",
       "13         TUCSON AZ     631,442      5,712 \n",
       "14  SAN FRANCISCO CA     629,591    213,609 \n",
       "15     SACRAMENTO CA     545,776      7,044 \n",
       "16     PITTSBURGH PA     542,085      3,643 \n",
       "17     WASHINGTON DC     418,859    127,001 \n",
       "18      NASHVILLE TN     327,225      9,270 \n",
       "19         BOSTON MA     248,968     80,021 "
      ]
     },
     "execution_count": 315,
     "metadata": {},
     "output_type": "execute_result"
    }
   ],
   "source": [
    "df_city"
   ]
  },
  {
   "cell_type": "code",
   "execution_count": 316,
   "metadata": {},
   "outputs": [
    {
     "data": {
      "text/plain": [
       "City          object\n",
       "Population    object\n",
       "Users         object\n",
       "dtype: object"
      ]
     },
     "execution_count": 316,
     "metadata": {},
     "output_type": "execute_result"
    }
   ],
   "source": [
    "df_city.dtypes"
   ]
  },
  {
   "cell_type": "code",
   "execution_count": 317,
   "metadata": {},
   "outputs": [],
   "source": [
    "# Converting Objects to Intenger\n",
    "df_city['Population'] = df_city['Population'].str.replace(',','')\n",
    "df_city['Users'] = df_city['Users'].str.replace(',','')\n",
    "df_city['Population'] = df_city['Population'].astype(int)\n",
    "df_city['Users'] = df_city['Users'].astype(int)"
   ]
  },
  {
   "cell_type": "code",
   "execution_count": 318,
   "metadata": {},
   "outputs": [],
   "source": [
    "df_city['Avg_Users'] = round(df_city['Users'] / df_city['Population'] * 100 , 1)"
   ]
  },
  {
   "cell_type": "code",
   "execution_count": 319,
   "metadata": {},
   "outputs": [
    {
     "data": {
      "text/html": [
       "<div>\n",
       "<style scoped>\n",
       "    .dataframe tbody tr th:only-of-type {\n",
       "        vertical-align: middle;\n",
       "    }\n",
       "\n",
       "    .dataframe tbody tr th {\n",
       "        vertical-align: top;\n",
       "    }\n",
       "\n",
       "    .dataframe thead th {\n",
       "        text-align: right;\n",
       "    }\n",
       "</style>\n",
       "<table border=\"1\" class=\"dataframe\">\n",
       "  <thead>\n",
       "    <tr style=\"text-align: right;\">\n",
       "      <th></th>\n",
       "      <th>City</th>\n",
       "      <th>Population</th>\n",
       "      <th>Users</th>\n",
       "      <th>Avg_Users</th>\n",
       "    </tr>\n",
       "  </thead>\n",
       "  <tbody>\n",
       "    <tr>\n",
       "      <th>0</th>\n",
       "      <td>NEW YORK NY</td>\n",
       "      <td>8405837</td>\n",
       "      <td>302149</td>\n",
       "      <td>3.6</td>\n",
       "    </tr>\n",
       "    <tr>\n",
       "      <th>1</th>\n",
       "      <td>CHICAGO IL</td>\n",
       "      <td>1955130</td>\n",
       "      <td>164468</td>\n",
       "      <td>8.4</td>\n",
       "    </tr>\n",
       "    <tr>\n",
       "      <th>2</th>\n",
       "      <td>LOS ANGELES CA</td>\n",
       "      <td>1595037</td>\n",
       "      <td>144132</td>\n",
       "      <td>9.0</td>\n",
       "    </tr>\n",
       "    <tr>\n",
       "      <th>3</th>\n",
       "      <td>MIAMI FL</td>\n",
       "      <td>1339155</td>\n",
       "      <td>17675</td>\n",
       "      <td>1.3</td>\n",
       "    </tr>\n",
       "    <tr>\n",
       "      <th>4</th>\n",
       "      <td>SILICON VALLEY</td>\n",
       "      <td>1177609</td>\n",
       "      <td>27247</td>\n",
       "      <td>2.3</td>\n",
       "    </tr>\n",
       "    <tr>\n",
       "      <th>5</th>\n",
       "      <td>ORANGE COUNTY</td>\n",
       "      <td>1030185</td>\n",
       "      <td>12994</td>\n",
       "      <td>1.3</td>\n",
       "    </tr>\n",
       "    <tr>\n",
       "      <th>6</th>\n",
       "      <td>SAN DIEGO CA</td>\n",
       "      <td>959307</td>\n",
       "      <td>69995</td>\n",
       "      <td>7.3</td>\n",
       "    </tr>\n",
       "    <tr>\n",
       "      <th>7</th>\n",
       "      <td>PHOENIX AZ</td>\n",
       "      <td>943999</td>\n",
       "      <td>6133</td>\n",
       "      <td>0.6</td>\n",
       "    </tr>\n",
       "    <tr>\n",
       "      <th>8</th>\n",
       "      <td>DALLAS TX</td>\n",
       "      <td>942908</td>\n",
       "      <td>22157</td>\n",
       "      <td>2.3</td>\n",
       "    </tr>\n",
       "    <tr>\n",
       "      <th>9</th>\n",
       "      <td>ATLANTA GA</td>\n",
       "      <td>814885</td>\n",
       "      <td>24701</td>\n",
       "      <td>3.0</td>\n",
       "    </tr>\n",
       "    <tr>\n",
       "      <th>10</th>\n",
       "      <td>DENVER CO</td>\n",
       "      <td>754233</td>\n",
       "      <td>12421</td>\n",
       "      <td>1.6</td>\n",
       "    </tr>\n",
       "    <tr>\n",
       "      <th>11</th>\n",
       "      <td>AUSTIN TX</td>\n",
       "      <td>698371</td>\n",
       "      <td>14978</td>\n",
       "      <td>2.1</td>\n",
       "    </tr>\n",
       "    <tr>\n",
       "      <th>12</th>\n",
       "      <td>SEATTLE WA</td>\n",
       "      <td>671238</td>\n",
       "      <td>25063</td>\n",
       "      <td>3.7</td>\n",
       "    </tr>\n",
       "    <tr>\n",
       "      <th>13</th>\n",
       "      <td>TUCSON AZ</td>\n",
       "      <td>631442</td>\n",
       "      <td>5712</td>\n",
       "      <td>0.9</td>\n",
       "    </tr>\n",
       "    <tr>\n",
       "      <th>14</th>\n",
       "      <td>SAN FRANCISCO CA</td>\n",
       "      <td>629591</td>\n",
       "      <td>213609</td>\n",
       "      <td>33.9</td>\n",
       "    </tr>\n",
       "    <tr>\n",
       "      <th>15</th>\n",
       "      <td>SACRAMENTO CA</td>\n",
       "      <td>545776</td>\n",
       "      <td>7044</td>\n",
       "      <td>1.3</td>\n",
       "    </tr>\n",
       "    <tr>\n",
       "      <th>16</th>\n",
       "      <td>PITTSBURGH PA</td>\n",
       "      <td>542085</td>\n",
       "      <td>3643</td>\n",
       "      <td>0.7</td>\n",
       "    </tr>\n",
       "    <tr>\n",
       "      <th>17</th>\n",
       "      <td>WASHINGTON DC</td>\n",
       "      <td>418859</td>\n",
       "      <td>127001</td>\n",
       "      <td>30.3</td>\n",
       "    </tr>\n",
       "    <tr>\n",
       "      <th>18</th>\n",
       "      <td>NASHVILLE TN</td>\n",
       "      <td>327225</td>\n",
       "      <td>9270</td>\n",
       "      <td>2.8</td>\n",
       "    </tr>\n",
       "    <tr>\n",
       "      <th>19</th>\n",
       "      <td>BOSTON MA</td>\n",
       "      <td>248968</td>\n",
       "      <td>80021</td>\n",
       "      <td>32.1</td>\n",
       "    </tr>\n",
       "  </tbody>\n",
       "</table>\n",
       "</div>"
      ],
      "text/plain": [
       "                City  Population   Users  Avg_Users\n",
       "0        NEW YORK NY     8405837  302149        3.6\n",
       "1         CHICAGO IL     1955130  164468        8.4\n",
       "2     LOS ANGELES CA     1595037  144132        9.0\n",
       "3           MIAMI FL     1339155   17675        1.3\n",
       "4     SILICON VALLEY     1177609   27247        2.3\n",
       "5      ORANGE COUNTY     1030185   12994        1.3\n",
       "6       SAN DIEGO CA      959307   69995        7.3\n",
       "7         PHOENIX AZ      943999    6133        0.6\n",
       "8          DALLAS TX      942908   22157        2.3\n",
       "9         ATLANTA GA      814885   24701        3.0\n",
       "10         DENVER CO      754233   12421        1.6\n",
       "11         AUSTIN TX      698371   14978        2.1\n",
       "12        SEATTLE WA      671238   25063        3.7\n",
       "13         TUCSON AZ      631442    5712        0.9\n",
       "14  SAN FRANCISCO CA      629591  213609       33.9\n",
       "15     SACRAMENTO CA      545776    7044        1.3\n",
       "16     PITTSBURGH PA      542085    3643        0.7\n",
       "17     WASHINGTON DC      418859  127001       30.3\n",
       "18      NASHVILLE TN      327225    9270        2.8\n",
       "19         BOSTON MA      248968   80021       32.1"
      ]
     },
     "execution_count": 319,
     "metadata": {},
     "output_type": "execute_result"
    }
   ],
   "source": [
    "df_city"
   ]
  },
  {
   "cell_type": "markdown",
   "metadata": {},
   "source": [
    "### I'll plot some features for analysis and to check for outliers"
   ]
  },
  {
   "cell_type": "code",
   "execution_count": 320,
   "metadata": {},
   "outputs": [
    {
     "data": {
      "text/plain": [
       "<AxesSubplot: xlabel='Age', ylabel='Count'>"
      ]
     },
     "execution_count": 320,
     "metadata": {},
     "output_type": "execute_result"
    },
    {
     "data": {
      "image/png": "[encoded data removed]",
      "text/plain": [
       "<Figure size 640x480 with 1 Axes>"
      ]
     },
     "metadata": {},
     "output_type": "display_data"
    }
   ],
   "source": [
    "sns.histplot(df_pinkcab.Age)"
   ]
  },
  {
   "cell_type": "code",
   "execution_count": 321,
   "metadata": {},
   "outputs": [
    {
     "data": {
      "text/plain": [
       "<AxesSubplot: >"
      ]
     },
     "execution_count": 321,
     "metadata": {},
     "output_type": "execute_result"
    },
    {
     "data": {
      "image/png": "[encoded data removed]",
      "text/plain": [
       "<Figure size 640x480 with 1 Axes>"
      ]
     },
     "metadata": {},
     "output_type": "display_data"
    }
   ],
   "source": [
    "sns.boxplot(df_pinkcab.Age)"
   ]
  },
  {
   "cell_type": "code",
   "execution_count": 322,
   "metadata": {},
   "outputs": [
    {
     "data": {
      "text/plain": [
       "<AxesSubplot: xlabel='Price Charged', ylabel='Count'>"
      ]
     },
     "execution_count": 322,
     "metadata": {},
     "output_type": "execute_result"
    },
    {
     "data": {
      "image/png": "[encoded data removed]",
      "text/plain": [
       "<Figure size 640x480 with 1 Axes>"
      ]
     },
     "metadata": {},
     "output_type": "display_data"
    }
   ],
   "source": [
    "sns.histplot(df_pinkcab['Price Charged'])"
   ]
  },
  {
   "cell_type": "code",
   "execution_count": 323,
   "metadata": {},
   "outputs": [
    {
     "data": {
      "text/plain": [
       "<AxesSubplot: >"
      ]
     },
     "execution_count": 323,
     "metadata": {},
     "output_type": "execute_result"
    },
    {
     "data": {
      "image/png": "[encoded data removed]",
      "text/plain": [
       "<Figure size 640x480 with 1 Axes>"
      ]
     },
     "metadata": {},
     "output_type": "display_data"
    }
   ],
   "source": [
    "sns.boxplot(df_pinkcab['Price Charged'])"
   ]
  },
  {
   "cell_type": "markdown",
   "metadata": {},
   "source": [
    "#### We have some outliers here like suggested before"
   ]
  },
  {
   "cell_type": "code",
   "execution_count": 324,
   "metadata": {},
   "outputs": [
    {
     "data": {
      "text/plain": [
       "<AxesSubplot: xlabel='Income', ylabel='Count'>"
      ]
     },
     "execution_count": 324,
     "metadata": {},
     "output_type": "execute_result"
    },
    {
     "data": {
      "image/png": "[encoded data removed]",
      "text/plain": [
       "<Figure size 640x480 with 1 Axes>"
      ]
     },
     "metadata": {},
     "output_type": "display_data"
    }
   ],
   "source": [
    "sns.histplot(df_pinkcab.Income)"
   ]
  },
  {
   "cell_type": "code",
   "execution_count": 325,
   "metadata": {},
   "outputs": [
    {
     "data": {
      "text/plain": [
       "<AxesSubplot: >"
      ]
     },
     "execution_count": 325,
     "metadata": {},
     "output_type": "execute_result"
    },
    {
     "data": {
      "image/png": "[encoded data removed]",
      "text/plain": [
       "<Figure size 640x480 with 1 Axes>"
      ]
     },
     "metadata": {},
     "output_type": "display_data"
    }
   ],
   "source": [
    "sns.boxplot(df_pinkcab.Income)"
   ]
  },
  {
   "cell_type": "code",
   "execution_count": 326,
   "metadata": {},
   "outputs": [
    {
     "data": {
      "text/plain": [
       "<AxesSubplot: xlabel='Cost_Trip', ylabel='Count'>"
      ]
     },
     "execution_count": 326,
     "metadata": {},
     "output_type": "execute_result"
    },
    {
     "data": {
      "image/png": "[encoded data removed]",
      "text/plain": [
       "<Figure size 640x480 with 1 Axes>"
      ]
     },
     "metadata": {},
     "output_type": "display_data"
    }
   ],
   "source": [
    "sns.histplot(df_pinkcab.Cost_Trip)"
   ]
  },
  {
   "cell_type": "code",
   "execution_count": 327,
   "metadata": {},
   "outputs": [
    {
     "data": {
      "text/plain": [
       "<AxesSubplot: >"
      ]
     },
     "execution_count": 327,
     "metadata": {},
     "output_type": "execute_result"
    },
    {
     "data": {
      "image/png": "[encoded data removed]",
      "text/plain": [
       "<Figure size 640x480 with 1 Axes>"
      ]
     },
     "metadata": {},
     "output_type": "display_data"
    }
   ],
   "source": [
    "sns.boxplot(df_pinkcab.Cost_Trip)"
   ]
  },
  {
   "cell_type": "code",
   "execution_count": 328,
   "metadata": {},
   "outputs": [
    {
     "data": {
      "text/plain": [
       "<AxesSubplot: xlabel='Payment_Mode', ylabel='Count'>"
      ]
     },
     "execution_count": 328,
     "metadata": {},
     "output_type": "execute_result"
    },
    {
     "data": {
      "image/png": "[encoded data removed]",
      "text/plain": [
       "<Figure size 640x480 with 1 Axes>"
      ]
     },
     "metadata": {},
     "output_type": "display_data"
    }
   ],
   "source": [
    "sns.histplot(df_pinkcab.Payment_Mode)"
   ]
  },
  {
   "cell_type": "code",
   "execution_count": 329,
   "metadata": {},
   "outputs": [
    {
     "data": {
      "text/plain": [
       "<AxesSubplot: xlabel='Gender', ylabel='Count'>"
      ]
     },
     "execution_count": 329,
     "metadata": {},
     "output_type": "execute_result"
    },
    {
     "data": {
      "image/png": "[encoded data removed]",
      "text/plain": [
       "<Figure size 640x480 with 1 Axes>"
      ]
     },
     "metadata": {},
     "output_type": "display_data"
    }
   ],
   "source": [
    "sns.histplot(df_pinkcab.Gender)"
   ]
  },
  {
   "cell_type": "code",
   "execution_count": 330,
   "metadata": {},
   "outputs": [
    {
     "data": {
      "text/plain": [
       "<AxesSubplot: xlabel='KM_Travel', ylabel='Count'>"
      ]
     },
     "execution_count": 330,
     "metadata": {},
     "output_type": "execute_result"
    },
    {
     "data": {
      "image/png": "[encoded data removed]",
      "text/plain": [
       "<Figure size 640x480 with 1 Axes>"
      ]
     },
     "metadata": {},
     "output_type": "display_data"
    }
   ],
   "source": [
    "sns.histplot(df_pinkcab.KM_Travel)"
   ]
  },
  {
   "cell_type": "code",
   "execution_count": 331,
   "metadata": {},
   "outputs": [
    {
     "data": {
      "text/plain": [
       "<AxesSubplot: >"
      ]
     },
     "execution_count": 331,
     "metadata": {},
     "output_type": "execute_result"
    },
    {
     "data": {
      "image/png": "[encoded data removed]",
      "text/plain": [
       "<Figure size 640x480 with 1 Axes>"
      ]
     },
     "metadata": {},
     "output_type": "display_data"
    }
   ],
   "source": [
    "sns.boxplot(df_pinkcab.KM_Travel)"
   ]
  },
  {
   "cell_type": "markdown",
   "metadata": {},
   "source": [
    "#### We only see ouliers on price charged, might suggest some trips took more time than usual because we don't see ouliers in KM_Travel"
   ]
  },
  {
   "cell_type": "markdown",
   "metadata": {},
   "source": [
    "### I'll do another transformation to check Gross profit between price charged and cost"
   ]
  },
  {
   "cell_type": "code",
   "execution_count": 332,
   "metadata": {},
   "outputs": [],
   "source": [
    "df_pinkcab['Profit'] = df_pinkcab['Price Charged'] - df_pinkcab['Cost_Trip']"
   ]
  },
  {
   "cell_type": "code",
   "execution_count": 333,
   "metadata": {},
   "outputs": [
    {
     "data": {
      "text/plain": [
       "<AxesSubplot: xlabel='Profit', ylabel='Count'>"
      ]
     },
     "execution_count": 333,
     "metadata": {},
     "output_type": "execute_result"
    },
    {
     "data": {
      "image/png": "[encoded data removed]",
      "text/plain": [
       "<Figure size 640x480 with 1 Axes>"
      ]
     },
     "metadata": {},
     "output_type": "display_data"
    }
   ],
   "source": [
    "sns.histplot(df_pinkcab.Profit)"
   ]
  },
  {
   "cell_type": "code",
   "execution_count": 334,
   "metadata": {},
   "outputs": [
    {
     "data": {
      "text/plain": [
       "<AxesSubplot: >"
      ]
     },
     "execution_count": 334,
     "metadata": {},
     "output_type": "execute_result"
    },
    {
     "data": {
      "image/png": "[encoded data removed]",
      "text/plain": [
       "<Figure size 640x480 with 1 Axes>"
      ]
     },
     "metadata": {},
     "output_type": "display_data"
    }
   ],
   "source": [
    "sns.boxplot(df_pinkcab.Profit)"
   ]
  },
  {
   "cell_type": "code",
   "execution_count": 335,
   "metadata": {},
   "outputs": [
    {
     "data": {
      "text/plain": [
       "count    84711.000000\n",
       "mean        62.652174\n",
       "std         77.590378\n",
       "min       -220.060000\n",
       "25%         11.206000\n",
       "50%         41.500000\n",
       "75%         93.965000\n",
       "max       1119.480000\n",
       "Name: Profit, dtype: float64"
      ]
     },
     "execution_count": 335,
     "metadata": {},
     "output_type": "execute_result"
    }
   ],
   "source": [
    "df_pinkcab.Profit.describe()"
   ]
  },
  {
   "cell_type": "code",
   "execution_count": 336,
   "metadata": {},
   "outputs": [
    {
     "name": "stderr",
     "output_type": "stream",
     "text": [
      "C:\\Users\\josejesus\\AppData\\Local\\Temp\\ipykernel_2908\\32887571.py:1: FutureWarning: The default value of numeric_only in DataFrame.corr is deprecated. In a future version, it will default to False. Select only valid columns or specify the value of numeric_only to silence this warning.\n",
      "  df_pinkcab.corr()\n"
     ]
    },
    {
     "data": {
      "text/html": [
       "<div>\n",
       "<style scoped>\n",
       "    .dataframe tbody tr th:only-of-type {\n",
       "        vertical-align: middle;\n",
       "    }\n",
       "\n",
       "    .dataframe tbody tr th {\n",
       "        vertical-align: top;\n",
       "    }\n",
       "\n",
       "    .dataframe thead th {\n",
       "        text-align: right;\n",
       "    }\n",
       "</style>\n",
       "<table border=\"1\" class=\"dataframe\">\n",
       "  <thead>\n",
       "    <tr style=\"text-align: right;\">\n",
       "      <th></th>\n",
       "      <th>Transaction ID</th>\n",
       "      <th>KM_Travel</th>\n",
       "      <th>Price Charged</th>\n",
       "      <th>Cost_Trip</th>\n",
       "      <th>Customer ID</th>\n",
       "      <th>Age</th>\n",
       "      <th>Income</th>\n",
       "      <th>Profit</th>\n",
       "    </tr>\n",
       "  </thead>\n",
       "  <tbody>\n",
       "    <tr>\n",
       "      <th>Transaction ID</th>\n",
       "      <td>1.000000</td>\n",
       "      <td>0.002544</td>\n",
       "      <td>-0.016311</td>\n",
       "      <td>0.003230</td>\n",
       "      <td>-0.014470</td>\n",
       "      <td>-0.002472</td>\n",
       "      <td>-0.006383</td>\n",
       "      <td>-0.043896</td>\n",
       "    </tr>\n",
       "    <tr>\n",
       "      <th>KM_Travel</th>\n",
       "      <td>0.002544</td>\n",
       "      <td>1.000000</td>\n",
       "      <td>0.927765</td>\n",
       "      <td>0.993367</td>\n",
       "      <td>-0.000828</td>\n",
       "      <td>-0.004264</td>\n",
       "      <td>0.000444</td>\n",
       "      <td>0.442633</td>\n",
       "    </tr>\n",
       "    <tr>\n",
       "      <th>Price Charged</th>\n",
       "      <td>-0.016311</td>\n",
       "      <td>0.927765</td>\n",
       "      <td>1.000000</td>\n",
       "      <td>0.921896</td>\n",
       "      <td>-0.056342</td>\n",
       "      <td>-0.006657</td>\n",
       "      <td>0.002075</td>\n",
       "      <td>0.736791</td>\n",
       "    </tr>\n",
       "    <tr>\n",
       "      <th>Cost_Trip</th>\n",
       "      <td>0.003230</td>\n",
       "      <td>0.993367</td>\n",
       "      <td>0.921896</td>\n",
       "      <td>1.000000</td>\n",
       "      <td>-0.000834</td>\n",
       "      <td>-0.005009</td>\n",
       "      <td>0.000326</td>\n",
       "      <td>0.417290</td>\n",
       "    </tr>\n",
       "    <tr>\n",
       "      <th>Customer ID</th>\n",
       "      <td>-0.014470</td>\n",
       "      <td>-0.000828</td>\n",
       "      <td>-0.056342</td>\n",
       "      <td>-0.000834</td>\n",
       "      <td>1.000000</td>\n",
       "      <td>-0.003275</td>\n",
       "      <td>-0.005663</td>\n",
       "      <td>-0.130700</td>\n",
       "    </tr>\n",
       "    <tr>\n",
       "      <th>Age</th>\n",
       "      <td>-0.002472</td>\n",
       "      <td>-0.004264</td>\n",
       "      <td>-0.006657</td>\n",
       "      <td>-0.005009</td>\n",
       "      <td>-0.003275</td>\n",
       "      <td>1.000000</td>\n",
       "      <td>0.010814</td>\n",
       "      <td>-0.006872</td>\n",
       "    </tr>\n",
       "    <tr>\n",
       "      <th>Income</th>\n",
       "      <td>-0.006383</td>\n",
       "      <td>0.000444</td>\n",
       "      <td>0.002075</td>\n",
       "      <td>0.000326</td>\n",
       "      <td>-0.005663</td>\n",
       "      <td>0.010814</td>\n",
       "      <td>1.000000</td>\n",
       "      <td>0.004300</td>\n",
       "    </tr>\n",
       "    <tr>\n",
       "      <th>Profit</th>\n",
       "      <td>-0.043896</td>\n",
       "      <td>0.442633</td>\n",
       "      <td>0.736791</td>\n",
       "      <td>0.417290</td>\n",
       "      <td>-0.130700</td>\n",
       "      <td>-0.006872</td>\n",
       "      <td>0.004300</td>\n",
       "      <td>1.000000</td>\n",
       "    </tr>\n",
       "  </tbody>\n",
       "</table>\n",
       "</div>"
      ],
      "text/plain": [
       "                Transaction ID  KM_Travel  Price Charged  Cost_Trip  \\\n",
       "Transaction ID        1.000000   0.002544      -0.016311   0.003230   \n",
       "KM_Travel             0.002544   1.000000       0.927765   0.993367   \n",
       "Price Charged        -0.016311   0.927765       1.000000   0.921896   \n",
       "Cost_Trip             0.003230   0.993367       0.921896   1.000000   \n",
       "Customer ID          -0.014470  -0.000828      -0.056342  -0.000834   \n",
       "Age                  -0.002472  -0.004264      -0.006657  -0.005009   \n",
       "Income               -0.006383   0.000444       0.002075   0.000326   \n",
       "Profit               -0.043896   0.442633       0.736791   0.417290   \n",
       "\n",
       "                Customer ID       Age    Income    Profit  \n",
       "Transaction ID    -0.014470 -0.002472 -0.006383 -0.043896  \n",
       "KM_Travel         -0.000828 -0.004264  0.000444  0.442633  \n",
       "Price Charged     -0.056342 -0.006657  0.002075  0.736791  \n",
       "Cost_Trip         -0.000834 -0.005009  0.000326  0.417290  \n",
       "Customer ID        1.000000 -0.003275 -0.005663 -0.130700  \n",
       "Age               -0.003275  1.000000  0.010814 -0.006872  \n",
       "Income            -0.005663  0.010814  1.000000  0.004300  \n",
       "Profit            -0.130700 -0.006872  0.004300  1.000000  "
      ]
     },
     "execution_count": 336,
     "metadata": {},
     "output_type": "execute_result"
    }
   ],
   "source": [
    "df_pinkcab.corr()"
   ]
  },
  {
   "cell_type": "code",
   "execution_count": 337,
   "metadata": {},
   "outputs": [
    {
     "name": "stderr",
     "output_type": "stream",
     "text": [
      "C:\\Users\\josejesus\\AppData\\Local\\Temp\\ipykernel_2908\\985205060.py:1: FutureWarning: The default value of numeric_only in DataFrame.corr is deprecated. In a future version, it will default to False. Select only valid columns or specify the value of numeric_only to silence this warning.\n",
      "  sns.heatmap(df_pinkcab.corr())\n"
     ]
    },
    {
     "data": {
      "text/plain": [
       "<AxesSubplot: >"
      ]
     },
     "execution_count": 337,
     "metadata": {},
     "output_type": "execute_result"
    },
    {
     "data": {
      "image/png": "[encoded data removed]",
      "text/plain": [
       "<Figure size 640x480 with 2 Axes>"
      ]
     },
     "metadata": {},
     "output_type": "display_data"
    }
   ],
   "source": [
    "sns.heatmap(df_pinkcab.corr())"
   ]
  },
  {
   "cell_type": "markdown",
   "metadata": {},
   "source": [
    "#### As expect there is a strong relationship between price charge and profit and also the cost of the trip and km travelled. Doesn't seem to have a correlation with income"
   ]
  },
  {
   "cell_type": "markdown",
   "metadata": {},
   "source": [
    "## Now to check the timeseries we will change index to date"
   ]
  },
  {
   "cell_type": "code",
   "execution_count": 338,
   "metadata": {},
   "outputs": [
    {
     "data": {
      "text/html": [
       "<div>\n",
       "<style scoped>\n",
       "    .dataframe tbody tr th:only-of-type {\n",
       "        vertical-align: middle;\n",
       "    }\n",
       "\n",
       "    .dataframe tbody tr th {\n",
       "        vertical-align: top;\n",
       "    }\n",
       "\n",
       "    .dataframe thead th {\n",
       "        text-align: right;\n",
       "    }\n",
       "</style>\n",
       "<table border=\"1\" class=\"dataframe\">\n",
       "  <thead>\n",
       "    <tr style=\"text-align: right;\">\n",
       "      <th></th>\n",
       "      <th>Transaction ID</th>\n",
       "      <th>Company</th>\n",
       "      <th>City</th>\n",
       "      <th>KM_Travel</th>\n",
       "      <th>Price Charged</th>\n",
       "      <th>Cost_Trip</th>\n",
       "      <th>Customer ID</th>\n",
       "      <th>Payment_Mode</th>\n",
       "      <th>Gender</th>\n",
       "      <th>Age</th>\n",
       "      <th>Income</th>\n",
       "      <th>Profit</th>\n",
       "    </tr>\n",
       "    <tr>\n",
       "      <th>Date</th>\n",
       "      <th></th>\n",
       "      <th></th>\n",
       "      <th></th>\n",
       "      <th></th>\n",
       "      <th></th>\n",
       "      <th></th>\n",
       "      <th></th>\n",
       "      <th></th>\n",
       "      <th></th>\n",
       "      <th></th>\n",
       "      <th></th>\n",
       "      <th></th>\n",
       "    </tr>\n",
       "  </thead>\n",
       "  <tbody>\n",
       "    <tr>\n",
       "      <th>2016-01-02</th>\n",
       "      <td>10000189</td>\n",
       "      <td>Pink Cab</td>\n",
       "      <td>SAN DIEGO CA</td>\n",
       "      <td>41.76</td>\n",
       "      <td>793.63</td>\n",
       "      <td>476.064</td>\n",
       "      <td>18488</td>\n",
       "      <td>Cash</td>\n",
       "      <td>Male</td>\n",
       "      <td>37</td>\n",
       "      <td>22441</td>\n",
       "      <td>317.566</td>\n",
       "    </tr>\n",
       "    <tr>\n",
       "      <th>2016-01-02</th>\n",
       "      <td>10000135</td>\n",
       "      <td>Pink Cab</td>\n",
       "      <td>MIAMI FL</td>\n",
       "      <td>6.42</td>\n",
       "      <td>105.42</td>\n",
       "      <td>64.842</td>\n",
       "      <td>9584</td>\n",
       "      <td>Card</td>\n",
       "      <td>Male</td>\n",
       "      <td>31</td>\n",
       "      <td>22812</td>\n",
       "      <td>40.578</td>\n",
       "    </tr>\n",
       "    <tr>\n",
       "      <th>2016-01-02</th>\n",
       "      <td>10000195</td>\n",
       "      <td>Pink Cab</td>\n",
       "      <td>SAN DIEGO CA</td>\n",
       "      <td>32.30</td>\n",
       "      <td>654.50</td>\n",
       "      <td>368.220</td>\n",
       "      <td>20752</td>\n",
       "      <td>Cash</td>\n",
       "      <td>Male</td>\n",
       "      <td>63</td>\n",
       "      <td>18683</td>\n",
       "      <td>286.280</td>\n",
       "    </tr>\n",
       "    <tr>\n",
       "      <th>2016-01-02</th>\n",
       "      <td>10000164</td>\n",
       "      <td>Pink Cab</td>\n",
       "      <td>PHOENIX AZ</td>\n",
       "      <td>8.55</td>\n",
       "      <td>114.15</td>\n",
       "      <td>89.775</td>\n",
       "      <td>22469</td>\n",
       "      <td>Card</td>\n",
       "      <td>Male</td>\n",
       "      <td>37</td>\n",
       "      <td>4378</td>\n",
       "      <td>24.375</td>\n",
       "    </tr>\n",
       "    <tr>\n",
       "      <th>2016-01-02</th>\n",
       "      <td>10000379</td>\n",
       "      <td>Pink Cab</td>\n",
       "      <td>WASHINGTON DC</td>\n",
       "      <td>20.58</td>\n",
       "      <td>241.78</td>\n",
       "      <td>226.380</td>\n",
       "      <td>52733</td>\n",
       "      <td>Card</td>\n",
       "      <td>Male</td>\n",
       "      <td>36</td>\n",
       "      <td>24748</td>\n",
       "      <td>15.400</td>\n",
       "    </tr>\n",
       "    <tr>\n",
       "      <th>...</th>\n",
       "      <td>...</td>\n",
       "      <td>...</td>\n",
       "      <td>...</td>\n",
       "      <td>...</td>\n",
       "      <td>...</td>\n",
       "      <td>...</td>\n",
       "      <td>...</td>\n",
       "      <td>...</td>\n",
       "      <td>...</td>\n",
       "      <td>...</td>\n",
       "      <td>...</td>\n",
       "      <td>...</td>\n",
       "    </tr>\n",
       "    <tr>\n",
       "      <th>2018-12-31</th>\n",
       "      <td>10433596</td>\n",
       "      <td>Pink Cab</td>\n",
       "      <td>PHOENIX AZ</td>\n",
       "      <td>16.48</td>\n",
       "      <td>232.23</td>\n",
       "      <td>181.280</td>\n",
       "      <td>23372</td>\n",
       "      <td>Cash</td>\n",
       "      <td>Female</td>\n",
       "      <td>47</td>\n",
       "      <td>5750</td>\n",
       "      <td>50.950</td>\n",
       "    </tr>\n",
       "    <tr>\n",
       "      <th>2018-12-31</th>\n",
       "      <td>10437243</td>\n",
       "      <td>Pink Cab</td>\n",
       "      <td>SAN DIEGO CA</td>\n",
       "      <td>26.45</td>\n",
       "      <td>332.99</td>\n",
       "      <td>298.885</td>\n",
       "      <td>19784</td>\n",
       "      <td>Card</td>\n",
       "      <td>Female</td>\n",
       "      <td>23</td>\n",
       "      <td>3557</td>\n",
       "      <td>34.105</td>\n",
       "    </tr>\n",
       "    <tr>\n",
       "      <th>2018-12-31</th>\n",
       "      <td>10433309</td>\n",
       "      <td>Pink Cab</td>\n",
       "      <td>LOS ANGELES CA</td>\n",
       "      <td>10.70</td>\n",
       "      <td>128.00</td>\n",
       "      <td>119.840</td>\n",
       "      <td>8175</td>\n",
       "      <td>Card</td>\n",
       "      <td>Male</td>\n",
       "      <td>24</td>\n",
       "      <td>12571</td>\n",
       "      <td>8.160</td>\n",
       "    </tr>\n",
       "    <tr>\n",
       "      <th>2018-12-31</th>\n",
       "      <td>10433128</td>\n",
       "      <td>Pink Cab</td>\n",
       "      <td>BOSTON MA</td>\n",
       "      <td>29.97</td>\n",
       "      <td>390.42</td>\n",
       "      <td>317.682</td>\n",
       "      <td>59274</td>\n",
       "      <td>Card</td>\n",
       "      <td>Female</td>\n",
       "      <td>25</td>\n",
       "      <td>22928</td>\n",
       "      <td>72.738</td>\n",
       "    </tr>\n",
       "    <tr>\n",
       "      <th>2018-12-31</th>\n",
       "      <td>10437611</td>\n",
       "      <td>Pink Cab</td>\n",
       "      <td>WASHINGTON DC</td>\n",
       "      <td>29.68</td>\n",
       "      <td>388.08</td>\n",
       "      <td>302.736</td>\n",
       "      <td>52754</td>\n",
       "      <td>Card</td>\n",
       "      <td>Female</td>\n",
       "      <td>29</td>\n",
       "      <td>19676</td>\n",
       "      <td>85.344</td>\n",
       "    </tr>\n",
       "  </tbody>\n",
       "</table>\n",
       "<p>84711 rows × 12 columns</p>\n",
       "</div>"
      ],
      "text/plain": [
       "            Transaction ID   Company            City  KM_Travel  \\\n",
       "Date                                                              \n",
       "2016-01-02        10000189  Pink Cab    SAN DIEGO CA      41.76   \n",
       "2016-01-02        10000135  Pink Cab        MIAMI FL       6.42   \n",
       "2016-01-02        10000195  Pink Cab    SAN DIEGO CA      32.30   \n",
       "2016-01-02        10000164  Pink Cab      PHOENIX AZ       8.55   \n",
       "2016-01-02        10000379  Pink Cab   WASHINGTON DC      20.58   \n",
       "...                    ...       ...             ...        ...   \n",
       "2018-12-31        10433596  Pink Cab      PHOENIX AZ      16.48   \n",
       "2018-12-31        10437243  Pink Cab    SAN DIEGO CA      26.45   \n",
       "2018-12-31        10433309  Pink Cab  LOS ANGELES CA      10.70   \n",
       "2018-12-31        10433128  Pink Cab       BOSTON MA      29.97   \n",
       "2018-12-31        10437611  Pink Cab   WASHINGTON DC      29.68   \n",
       "\n",
       "            Price Charged  Cost_Trip  Customer ID Payment_Mode  Gender  Age  \\\n",
       "Date                                                                          \n",
       "2016-01-02         793.63    476.064        18488         Cash    Male   37   \n",
       "2016-01-02         105.42     64.842         9584         Card    Male   31   \n",
       "2016-01-02         654.50    368.220        20752         Cash    Male   63   \n",
       "2016-01-02         114.15     89.775        22469         Card    Male   37   \n",
       "2016-01-02         241.78    226.380        52733         Card    Male   36   \n",
       "...                   ...        ...          ...          ...     ...  ...   \n",
       "2018-12-31         232.23    181.280        23372         Cash  Female   47   \n",
       "2018-12-31         332.99    298.885        19784         Card  Female   23   \n",
       "2018-12-31         128.00    119.840         8175         Card    Male   24   \n",
       "2018-12-31         390.42    317.682        59274         Card  Female   25   \n",
       "2018-12-31         388.08    302.736        52754         Card  Female   29   \n",
       "\n",
       "            Income   Profit  \n",
       "Date                         \n",
       "2016-01-02   22441  317.566  \n",
       "2016-01-02   22812   40.578  \n",
       "2016-01-02   18683  286.280  \n",
       "2016-01-02    4378   24.375  \n",
       "2016-01-02   24748   15.400  \n",
       "...            ...      ...  \n",
       "2018-12-31    5750   50.950  \n",
       "2018-12-31    3557   34.105  \n",
       "2018-12-31   12571    8.160  \n",
       "2018-12-31   22928   72.738  \n",
       "2018-12-31   19676   85.344  \n",
       "\n",
       "[84711 rows x 12 columns]"
      ]
     },
     "execution_count": 338,
     "metadata": {},
     "output_type": "execute_result"
    }
   ],
   "source": [
    "df_pinkcab.set_index('Date', inplace=True)\n",
    "df_pinkcab.index = pd.to_datetime(df_pinkcab.index)\n",
    "df_pinkcab.sort_index(ascending=True)"
   ]
  },
  {
   "cell_type": "code",
   "execution_count": 339,
   "metadata": {},
   "outputs": [],
   "source": []
  },
  {
   "cell_type": "code",
   "execution_count": 340,
   "metadata": {},
   "outputs": [],
   "source": []
  },
  {
   "cell_type": "code",
   "execution_count": 341,
   "metadata": {},
   "outputs": [
    {
     "data": {
      "text/plain": [
       "Date\n",
       "2016-01-08    57.315\n",
       "2016-01-06    23.666\n",
       "2018-10-27    25.096\n",
       "2016-01-02    27.568\n",
       "2016-01-07    25.798\n",
       "               ...  \n",
       "2018-01-05    27.190\n",
       "2018-01-03    -2.124\n",
       "2018-01-03    82.330\n",
       "2018-01-09    45.568\n",
       "2018-12-31    85.344\n",
       "Name: Profit, Length: 84711, dtype: float64"
      ]
     },
     "execution_count": 341,
     "metadata": {},
     "output_type": "execute_result"
    }
   ],
   "source": []
  },
  {
   "cell_type": "code",
   "execution_count": null,
   "metadata": {},
   "outputs": [],
   "source": []
  }
 ],
 "metadata": {
  "kernelspec": {
   "display_name": "Python 3.11.0 64-bit",
   "language": "python",
   "name": "python3"
  },
  "language_info": {
   "codemirror_mode": {
    "name": "ipython",
    "version": 3
   },
   "file_extension": ".py",
   "mimetype": "text/x-python",
   "name": "python",
   "nbconvert_exporter": "python",
   "pygments_lexer": "ipython3",
   "version": "3.11.0"
  },
  "orig_nbformat": 4,
  "vscode": {
   "interpreter": {
    "hash": "599fdfbd40f4a390122d0dbdc95bb2f9681588aa8321560d4d4b6232ce63f77e"
   }
  }
 },
 "nbformat": 4,
 "nbformat_minor": 2
}
