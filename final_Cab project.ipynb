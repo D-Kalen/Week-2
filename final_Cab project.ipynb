{
 "cells": [
  {
   "cell_type": "code",
   "execution_count": 107,
   "id": "32341035",
   "metadata": {},
   "outputs": [],
   "source": [
    "\n",
    "# 1. Introduction\n",
    "\n",
    "# XYZ is a private firm in US. \n",
    "# Due to remarkable growth in the Cab Industry in last few years and multiple key players in the market, \n",
    "# it is planning for an investment in Cab industry.\n",
    "# As per their Go-to-Market(G2M) strategy they want to understand the market before taking final decision.\n",
    "\n",
    "# Before choosing the problem above described, a little research has been conducted in order to decide the following items:\n",
    "\n",
    "#     Which company has maximum cab users at a particular time period?\n",
    "\n",
    "#     Does margin proportionally increase with increase in number of customers?\n",
    "\n",
    "#     What are the attributes of these customer segments?These questions will be answered in the following section.\n",
    "\n",
    "# The business problem that can be proposed is, given an investor interested in the cab industry , \n",
    "# which cab company would be a good choice according to the methodology described below.\n",
    "\n",
    "\n",
    "# 2. Data\n",
    "\n",
    "# Below are the list of datasets which are provided for the analysis:\n",
    "\n",
    "#     Cab_Data.csv – this file includes details of transaction for 2 cab companies\n",
    "\n",
    "#     Customer_ID.csv – this is a mapping table that contains a unique identifier which links \n",
    "# the customer’s demographic details\n",
    "\n",
    "#     Transaction_ID.csv – this is a mapping table that contains transaction to customer mapping and payment mode\n",
    "\n",
    "#     City.csv – this file contains list of US cities, their population and number of cab users\n",
    "\n",
    "\n"
   ]
  },
  {
   "cell_type": "code",
   "execution_count": null,
   "id": "7ec6d3a1",
   "metadata": {},
   "outputs": [],
   "source": []
  },
  {
   "cell_type": "code",
   "execution_count": 105,
   "id": "0716e87f",
   "metadata": {},
   "outputs": [],
   "source": [
    "#Import required libraries\n",
    "import pandas as pd\n",
    "import numpy as np\n",
    "import matplotlib.pyplot as plt\n",
    "%matplotlib inline\n",
    "import seaborn as sns"
   ]
  },
  {
   "cell_type": "code",
   "execution_count": 2,
   "id": "97441a82",
   "metadata": {},
   "outputs": [
    {
     "data": {
      "text/html": [
       "<div>\n",
       "<style scoped>\n",
       "    .dataframe tbody tr th:only-of-type {\n",
       "        vertical-align: middle;\n",
       "    }\n",
       "\n",
       "    .dataframe tbody tr th {\n",
       "        vertical-align: top;\n",
       "    }\n",
       "\n",
       "    .dataframe thead th {\n",
       "        text-align: right;\n",
       "    }\n",
       "</style>\n",
       "<table border=\"1\" class=\"dataframe\">\n",
       "  <thead>\n",
       "    <tr style=\"text-align: right;\">\n",
       "      <th></th>\n",
       "      <th>Transaction ID</th>\n",
       "      <th>Date of Travel</th>\n",
       "      <th>Company</th>\n",
       "      <th>City</th>\n",
       "      <th>KM Travelled</th>\n",
       "      <th>Price Charged</th>\n",
       "      <th>Cost of Trip</th>\n",
       "    </tr>\n",
       "  </thead>\n",
       "  <tbody>\n",
       "    <tr>\n",
       "      <th>0</th>\n",
       "      <td>10000011</td>\n",
       "      <td>1/8/2016</td>\n",
       "      <td>Pink Cab</td>\n",
       "      <td>ATLANTA GA</td>\n",
       "      <td>30.45</td>\n",
       "      <td>370.95</td>\n",
       "      <td>313.635</td>\n",
       "    </tr>\n",
       "    <tr>\n",
       "      <th>1</th>\n",
       "      <td>10000012</td>\n",
       "      <td>1/6/2016</td>\n",
       "      <td>Pink Cab</td>\n",
       "      <td>ATLANTA GA</td>\n",
       "      <td>28.62</td>\n",
       "      <td>358.52</td>\n",
       "      <td>334.854</td>\n",
       "    </tr>\n",
       "  </tbody>\n",
       "</table>\n",
       "</div>"
      ],
      "text/plain": [
       "   Transaction ID Date of Travel   Company        City  KM Travelled  \\\n",
       "0        10000011       1/8/2016  Pink Cab  ATLANTA GA         30.45   \n",
       "1        10000012       1/6/2016  Pink Cab  ATLANTA GA         28.62   \n",
       "\n",
       "   Price Charged  Cost of Trip  \n",
       "0         370.95       313.635  \n",
       "1         358.52       334.854  "
      ]
     },
     "execution_count": 2,
     "metadata": {},
     "output_type": "execute_result"
    }
   ],
   "source": [
    "#Read the cab_data file\n",
    "cab=pd.read_csv(\"cab_data.csv\")\n",
    "cab.head(2)"
   ]
  },
  {
   "cell_type": "code",
   "execution_count": 3,
   "id": "69ce264a",
   "metadata": {},
   "outputs": [
    {
     "data": {
      "text/plain": [
       "Transaction ID      int64\n",
       "Date of Travel     object\n",
       "Company            object\n",
       "City               object\n",
       "KM Travelled      float64\n",
       "Price Charged     float64\n",
       "Cost of Trip      float64\n",
       "dtype: object"
      ]
     },
     "execution_count": 3,
     "metadata": {},
     "output_type": "execute_result"
    }
   ],
   "source": [
    "#Data types of the cab_data file\n",
    "cab.dtypes"
   ]
  },
  {
   "cell_type": "code",
   "execution_count": 4,
   "id": "24804572",
   "metadata": {},
   "outputs": [
    {
     "data": {
      "text/plain": [
       "Transaction ID             int64\n",
       "Date of Travel    datetime64[ns]\n",
       "Company                   object\n",
       "City                      object\n",
       "KM Travelled             float64\n",
       "Price Charged            float64\n",
       "Cost of Trip             float64\n",
       "dtype: object"
      ]
     },
     "execution_count": 4,
     "metadata": {},
     "output_type": "execute_result"
    }
   ],
   "source": [
    "#Transform Date of Travel to datetime data type\n",
    "cab['Date of Travel'] = pd.to_datetime(cab['Date of Travel'])\n",
    "cab.dtypes"
   ]
  },
  {
   "cell_type": "code",
   "execution_count": 5,
   "id": "30b27713",
   "metadata": {},
   "outputs": [],
   "source": [
    "#Transform the date format\n",
    "cab['Date of Travel'] = cab['Date of Travel'].dt.strftime('%Y/%m/%d')"
   ]
  },
  {
   "cell_type": "code",
   "execution_count": 6,
   "id": "27d1e092",
   "metadata": {},
   "outputs": [
    {
     "data": {
      "text/html": [
       "<div>\n",
       "<style scoped>\n",
       "    .dataframe tbody tr th:only-of-type {\n",
       "        vertical-align: middle;\n",
       "    }\n",
       "\n",
       "    .dataframe tbody tr th {\n",
       "        vertical-align: top;\n",
       "    }\n",
       "\n",
       "    .dataframe thead th {\n",
       "        text-align: right;\n",
       "    }\n",
       "</style>\n",
       "<table border=\"1\" class=\"dataframe\">\n",
       "  <thead>\n",
       "    <tr style=\"text-align: right;\">\n",
       "      <th></th>\n",
       "      <th>Transaction ID</th>\n",
       "      <th>Date of Travel</th>\n",
       "      <th>Company</th>\n",
       "      <th>City</th>\n",
       "      <th>KM Travelled</th>\n",
       "      <th>Price Charged</th>\n",
       "      <th>Cost of Trip</th>\n",
       "    </tr>\n",
       "  </thead>\n",
       "  <tbody>\n",
       "    <tr>\n",
       "      <th>0</th>\n",
       "      <td>10000011</td>\n",
       "      <td>2016/01/08</td>\n",
       "      <td>Pink Cab</td>\n",
       "      <td>ATLANTA GA</td>\n",
       "      <td>30.45</td>\n",
       "      <td>370.95</td>\n",
       "      <td>313.635</td>\n",
       "    </tr>\n",
       "    <tr>\n",
       "      <th>1</th>\n",
       "      <td>10000012</td>\n",
       "      <td>2016/01/06</td>\n",
       "      <td>Pink Cab</td>\n",
       "      <td>ATLANTA GA</td>\n",
       "      <td>28.62</td>\n",
       "      <td>358.52</td>\n",
       "      <td>334.854</td>\n",
       "    </tr>\n",
       "  </tbody>\n",
       "</table>\n",
       "</div>"
      ],
      "text/plain": [
       "   Transaction ID Date of Travel   Company        City  KM Travelled  \\\n",
       "0        10000011     2016/01/08  Pink Cab  ATLANTA GA         30.45   \n",
       "1        10000012     2016/01/06  Pink Cab  ATLANTA GA         28.62   \n",
       "\n",
       "   Price Charged  Cost of Trip  \n",
       "0         370.95       313.635  \n",
       "1         358.52       334.854  "
      ]
     },
     "execution_count": 6,
     "metadata": {},
     "output_type": "execute_result"
    }
   ],
   "source": [
    "#Read the first 2 lines of cab\n",
    "cab.head(2)"
   ]
  },
  {
   "cell_type": "code",
   "execution_count": 7,
   "id": "e7c8cb7d",
   "metadata": {},
   "outputs": [
    {
     "data": {
      "text/html": [
       "<div>\n",
       "<style scoped>\n",
       "    .dataframe tbody tr th:only-of-type {\n",
       "        vertical-align: middle;\n",
       "    }\n",
       "\n",
       "    .dataframe tbody tr th {\n",
       "        vertical-align: top;\n",
       "    }\n",
       "\n",
       "    .dataframe thead th {\n",
       "        text-align: right;\n",
       "    }\n",
       "</style>\n",
       "<table border=\"1\" class=\"dataframe\">\n",
       "  <thead>\n",
       "    <tr style=\"text-align: right;\">\n",
       "      <th></th>\n",
       "      <th>City</th>\n",
       "      <th>Population</th>\n",
       "      <th>Users</th>\n",
       "    </tr>\n",
       "  </thead>\n",
       "  <tbody>\n",
       "    <tr>\n",
       "      <th>0</th>\n",
       "      <td>NEW YORK NY</td>\n",
       "      <td>8,405,837</td>\n",
       "      <td>302,149</td>\n",
       "    </tr>\n",
       "    <tr>\n",
       "      <th>1</th>\n",
       "      <td>CHICAGO IL</td>\n",
       "      <td>1,955,130</td>\n",
       "      <td>164,468</td>\n",
       "    </tr>\n",
       "  </tbody>\n",
       "</table>\n",
       "</div>"
      ],
      "text/plain": [
       "          City   Population      Users\n",
       "0  NEW YORK NY   8,405,837    302,149 \n",
       "1   CHICAGO IL   1,955,130    164,468 "
      ]
     },
     "execution_count": 7,
     "metadata": {},
     "output_type": "execute_result"
    }
   ],
   "source": [
    "#Read the city file\n",
    "city=pd.read_csv(\"city.csv\")\n",
    "city.head(2)"
   ]
  },
  {
   "cell_type": "code",
   "execution_count": 8,
   "id": "7a0f7051",
   "metadata": {},
   "outputs": [
    {
     "data": {
      "text/plain": [
       "City          object\n",
       "Population    object\n",
       "Users         object\n",
       "dtype: object"
      ]
     },
     "execution_count": 8,
     "metadata": {},
     "output_type": "execute_result"
    }
   ],
   "source": [
    "#Data types of the city file\n",
    "city.dtypes"
   ]
  },
  {
   "cell_type": "code",
   "execution_count": 9,
   "id": "6dcde24a",
   "metadata": {},
   "outputs": [
    {
     "data": {
      "text/html": [
       "<div>\n",
       "<style scoped>\n",
       "    .dataframe tbody tr th:only-of-type {\n",
       "        vertical-align: middle;\n",
       "    }\n",
       "\n",
       "    .dataframe tbody tr th {\n",
       "        vertical-align: top;\n",
       "    }\n",
       "\n",
       "    .dataframe thead th {\n",
       "        text-align: right;\n",
       "    }\n",
       "</style>\n",
       "<table border=\"1\" class=\"dataframe\">\n",
       "  <thead>\n",
       "    <tr style=\"text-align: right;\">\n",
       "      <th></th>\n",
       "      <th>Customer ID</th>\n",
       "      <th>Gender</th>\n",
       "      <th>Age</th>\n",
       "      <th>Income (USD/Month)</th>\n",
       "    </tr>\n",
       "  </thead>\n",
       "  <tbody>\n",
       "    <tr>\n",
       "      <th>0</th>\n",
       "      <td>29290</td>\n",
       "      <td>Male</td>\n",
       "      <td>28</td>\n",
       "      <td>10813</td>\n",
       "    </tr>\n",
       "    <tr>\n",
       "      <th>1</th>\n",
       "      <td>27703</td>\n",
       "      <td>Male</td>\n",
       "      <td>27</td>\n",
       "      <td>9237</td>\n",
       "    </tr>\n",
       "  </tbody>\n",
       "</table>\n",
       "</div>"
      ],
      "text/plain": [
       "   Customer ID Gender  Age  Income (USD/Month)\n",
       "0        29290   Male   28               10813\n",
       "1        27703   Male   27                9237"
      ]
     },
     "execution_count": 9,
     "metadata": {},
     "output_type": "execute_result"
    }
   ],
   "source": [
    "#Read the customer_id file\n",
    "customer=pd.read_csv(\"customer_id.csv\")\n",
    "customer.head(2)"
   ]
  },
  {
   "cell_type": "code",
   "execution_count": 10,
   "id": "7881f5cd",
   "metadata": {},
   "outputs": [
    {
     "data": {
      "text/plain": [
       "Customer ID            int64\n",
       "Gender                object\n",
       "Age                    int64\n",
       "Income (USD/Month)     int64\n",
       "dtype: object"
      ]
     },
     "execution_count": 10,
     "metadata": {},
     "output_type": "execute_result"
    }
   ],
   "source": [
    "#Data types of the customer file\n",
    "customer.dtypes"
   ]
  },
  {
   "cell_type": "code",
   "execution_count": 11,
   "id": "5dd13947",
   "metadata": {},
   "outputs": [
    {
     "data": {
      "text/html": [
       "<div>\n",
       "<style scoped>\n",
       "    .dataframe tbody tr th:only-of-type {\n",
       "        vertical-align: middle;\n",
       "    }\n",
       "\n",
       "    .dataframe tbody tr th {\n",
       "        vertical-align: top;\n",
       "    }\n",
       "\n",
       "    .dataframe thead th {\n",
       "        text-align: right;\n",
       "    }\n",
       "</style>\n",
       "<table border=\"1\" class=\"dataframe\">\n",
       "  <thead>\n",
       "    <tr style=\"text-align: right;\">\n",
       "      <th></th>\n",
       "      <th>Transaction ID</th>\n",
       "      <th>Customer ID</th>\n",
       "      <th>Payment_Mode</th>\n",
       "    </tr>\n",
       "  </thead>\n",
       "  <tbody>\n",
       "    <tr>\n",
       "      <th>0</th>\n",
       "      <td>10000011</td>\n",
       "      <td>29290</td>\n",
       "      <td>Card</td>\n",
       "    </tr>\n",
       "    <tr>\n",
       "      <th>1</th>\n",
       "      <td>10000012</td>\n",
       "      <td>27703</td>\n",
       "      <td>Card</td>\n",
       "    </tr>\n",
       "  </tbody>\n",
       "</table>\n",
       "</div>"
      ],
      "text/plain": [
       "   Transaction ID  Customer ID Payment_Mode\n",
       "0        10000011        29290         Card\n",
       "1        10000012        27703         Card"
      ]
     },
     "execution_count": 11,
     "metadata": {},
     "output_type": "execute_result"
    }
   ],
   "source": [
    "#Read the transaction_id file\n",
    "transaction=pd.read_csv(\"transaction_id.csv\")\n",
    "transaction.head(2)"
   ]
  },
  {
   "cell_type": "code",
   "execution_count": 12,
   "id": "8b9693a9",
   "metadata": {},
   "outputs": [
    {
     "data": {
      "text/plain": [
       "Transaction ID     int64\n",
       "Customer ID        int64\n",
       "Payment_Mode      object\n",
       "dtype: object"
      ]
     },
     "execution_count": 12,
     "metadata": {},
     "output_type": "execute_result"
    }
   ],
   "source": [
    "#Data types of the transaction_id file\n",
    "transaction.dtypes"
   ]
  },
  {
   "cell_type": "code",
   "execution_count": 13,
   "id": "2b709621",
   "metadata": {},
   "outputs": [
    {
     "data": {
      "text/html": [
       "<div>\n",
       "<style scoped>\n",
       "    .dataframe tbody tr th:only-of-type {\n",
       "        vertical-align: middle;\n",
       "    }\n",
       "\n",
       "    .dataframe tbody tr th {\n",
       "        vertical-align: top;\n",
       "    }\n",
       "\n",
       "    .dataframe thead th {\n",
       "        text-align: right;\n",
       "    }\n",
       "</style>\n",
       "<table border=\"1\" class=\"dataframe\">\n",
       "  <thead>\n",
       "    <tr style=\"text-align: right;\">\n",
       "      <th></th>\n",
       "      <th>Transaction ID</th>\n",
       "      <th>Date of Travel</th>\n",
       "      <th>Company</th>\n",
       "      <th>City</th>\n",
       "      <th>KM Travelled</th>\n",
       "      <th>Price Charged</th>\n",
       "      <th>Cost of Trip</th>\n",
       "      <th>Customer ID</th>\n",
       "      <th>Payment_Mode</th>\n",
       "    </tr>\n",
       "  </thead>\n",
       "  <tbody>\n",
       "    <tr>\n",
       "      <th>0</th>\n",
       "      <td>10000011</td>\n",
       "      <td>2016/01/08</td>\n",
       "      <td>Pink Cab</td>\n",
       "      <td>ATLANTA GA</td>\n",
       "      <td>30.45</td>\n",
       "      <td>370.95</td>\n",
       "      <td>313.635</td>\n",
       "      <td>29290</td>\n",
       "      <td>Card</td>\n",
       "    </tr>\n",
       "    <tr>\n",
       "      <th>1</th>\n",
       "      <td>10000012</td>\n",
       "      <td>2016/01/06</td>\n",
       "      <td>Pink Cab</td>\n",
       "      <td>ATLANTA GA</td>\n",
       "      <td>28.62</td>\n",
       "      <td>358.52</td>\n",
       "      <td>334.854</td>\n",
       "      <td>27703</td>\n",
       "      <td>Card</td>\n",
       "    </tr>\n",
       "  </tbody>\n",
       "</table>\n",
       "</div>"
      ],
      "text/plain": [
       "   Transaction ID Date of Travel   Company        City  KM Travelled  \\\n",
       "0        10000011     2016/01/08  Pink Cab  ATLANTA GA         30.45   \n",
       "1        10000012     2016/01/06  Pink Cab  ATLANTA GA         28.62   \n",
       "\n",
       "   Price Charged  Cost of Trip  Customer ID Payment_Mode  \n",
       "0         370.95       313.635        29290         Card  \n",
       "1         358.52       334.854        27703         Card  "
      ]
     },
     "execution_count": 13,
     "metadata": {},
     "output_type": "execute_result"
    }
   ],
   "source": [
    "#Merge cab and transaction data frames\n",
    "df1=pd.merge(cab,transaction, on=\"Transaction ID\")\n",
    "df1.head(2)"
   ]
  },
  {
   "cell_type": "code",
   "execution_count": 14,
   "id": "9b64aaf1",
   "metadata": {},
   "outputs": [
    {
     "data": {
      "text/html": [
       "<div>\n",
       "<style scoped>\n",
       "    .dataframe tbody tr th:only-of-type {\n",
       "        vertical-align: middle;\n",
       "    }\n",
       "\n",
       "    .dataframe tbody tr th {\n",
       "        vertical-align: top;\n",
       "    }\n",
       "\n",
       "    .dataframe thead th {\n",
       "        text-align: right;\n",
       "    }\n",
       "</style>\n",
       "<table border=\"1\" class=\"dataframe\">\n",
       "  <thead>\n",
       "    <tr style=\"text-align: right;\">\n",
       "      <th></th>\n",
       "      <th>Transaction ID</th>\n",
       "      <th>Date of Travel</th>\n",
       "      <th>Company</th>\n",
       "      <th>City</th>\n",
       "      <th>KM Travelled</th>\n",
       "      <th>Price Charged</th>\n",
       "      <th>Cost of Trip</th>\n",
       "      <th>Customer ID</th>\n",
       "      <th>Payment_Mode</th>\n",
       "      <th>Gender</th>\n",
       "      <th>Age</th>\n",
       "      <th>Income (USD/Month)</th>\n",
       "    </tr>\n",
       "  </thead>\n",
       "  <tbody>\n",
       "    <tr>\n",
       "      <th>0</th>\n",
       "      <td>10000011</td>\n",
       "      <td>2016/01/08</td>\n",
       "      <td>Pink Cab</td>\n",
       "      <td>ATLANTA GA</td>\n",
       "      <td>30.45</td>\n",
       "      <td>370.95</td>\n",
       "      <td>313.6350</td>\n",
       "      <td>29290</td>\n",
       "      <td>Card</td>\n",
       "      <td>Male</td>\n",
       "      <td>28</td>\n",
       "      <td>10813</td>\n",
       "    </tr>\n",
       "    <tr>\n",
       "      <th>1</th>\n",
       "      <td>10351127</td>\n",
       "      <td>2018/07/21</td>\n",
       "      <td>Yellow Cab</td>\n",
       "      <td>ATLANTA GA</td>\n",
       "      <td>26.19</td>\n",
       "      <td>598.70</td>\n",
       "      <td>317.4228</td>\n",
       "      <td>29290</td>\n",
       "      <td>Cash</td>\n",
       "      <td>Male</td>\n",
       "      <td>28</td>\n",
       "      <td>10813</td>\n",
       "    </tr>\n",
       "  </tbody>\n",
       "</table>\n",
       "</div>"
      ],
      "text/plain": [
       "   Transaction ID Date of Travel     Company        City  KM Travelled  \\\n",
       "0        10000011     2016/01/08    Pink Cab  ATLANTA GA         30.45   \n",
       "1        10351127     2018/07/21  Yellow Cab  ATLANTA GA         26.19   \n",
       "\n",
       "   Price Charged  Cost of Trip  Customer ID Payment_Mode Gender  Age  \\\n",
       "0         370.95      313.6350        29290         Card   Male   28   \n",
       "1         598.70      317.4228        29290         Cash   Male   28   \n",
       "\n",
       "   Income (USD/Month)  \n",
       "0               10813  \n",
       "1               10813  "
      ]
     },
     "execution_count": 14,
     "metadata": {},
     "output_type": "execute_result"
    }
   ],
   "source": [
    "#Merge df1 and customer data frames\n",
    "df2=pd.merge(df1,customer, on=\"Customer ID\")\n",
    "df2.head(2)"
   ]
  },
  {
   "cell_type": "code",
   "execution_count": 15,
   "id": "2541ed1a",
   "metadata": {},
   "outputs": [
    {
     "data": {
      "text/html": [
       "<div>\n",
       "<style scoped>\n",
       "    .dataframe tbody tr th:only-of-type {\n",
       "        vertical-align: middle;\n",
       "    }\n",
       "\n",
       "    .dataframe tbody tr th {\n",
       "        vertical-align: top;\n",
       "    }\n",
       "\n",
       "    .dataframe thead th {\n",
       "        text-align: right;\n",
       "    }\n",
       "</style>\n",
       "<table border=\"1\" class=\"dataframe\">\n",
       "  <thead>\n",
       "    <tr style=\"text-align: right;\">\n",
       "      <th></th>\n",
       "      <th>Transaction ID</th>\n",
       "      <th>Date of Travel</th>\n",
       "      <th>Company</th>\n",
       "      <th>City</th>\n",
       "      <th>KM Travelled</th>\n",
       "      <th>Price Charged</th>\n",
       "      <th>Cost of Trip</th>\n",
       "      <th>Customer ID</th>\n",
       "      <th>Payment_Mode</th>\n",
       "      <th>Gender</th>\n",
       "      <th>Age</th>\n",
       "      <th>Income (USD/Month)</th>\n",
       "      <th>Population</th>\n",
       "      <th>Users</th>\n",
       "    </tr>\n",
       "  </thead>\n",
       "  <tbody>\n",
       "    <tr>\n",
       "      <th>0</th>\n",
       "      <td>10000011</td>\n",
       "      <td>2016/01/08</td>\n",
       "      <td>Pink Cab</td>\n",
       "      <td>ATLANTA GA</td>\n",
       "      <td>30.45</td>\n",
       "      <td>370.95</td>\n",
       "      <td>313.6350</td>\n",
       "      <td>29290</td>\n",
       "      <td>Card</td>\n",
       "      <td>Male</td>\n",
       "      <td>28</td>\n",
       "      <td>10813</td>\n",
       "      <td>814,885</td>\n",
       "      <td>24,701</td>\n",
       "    </tr>\n",
       "    <tr>\n",
       "      <th>1</th>\n",
       "      <td>10351127</td>\n",
       "      <td>2018/07/21</td>\n",
       "      <td>Yellow Cab</td>\n",
       "      <td>ATLANTA GA</td>\n",
       "      <td>26.19</td>\n",
       "      <td>598.70</td>\n",
       "      <td>317.4228</td>\n",
       "      <td>29290</td>\n",
       "      <td>Cash</td>\n",
       "      <td>Male</td>\n",
       "      <td>28</td>\n",
       "      <td>10813</td>\n",
       "      <td>814,885</td>\n",
       "      <td>24,701</td>\n",
       "    </tr>\n",
       "  </tbody>\n",
       "</table>\n",
       "</div>"
      ],
      "text/plain": [
       "   Transaction ID Date of Travel     Company        City  KM Travelled  \\\n",
       "0        10000011     2016/01/08    Pink Cab  ATLANTA GA         30.45   \n",
       "1        10351127     2018/07/21  Yellow Cab  ATLANTA GA         26.19   \n",
       "\n",
       "   Price Charged  Cost of Trip  Customer ID Payment_Mode Gender  Age  \\\n",
       "0         370.95      313.6350        29290         Card   Male   28   \n",
       "1         598.70      317.4228        29290         Cash   Male   28   \n",
       "\n",
       "   Income (USD/Month) Population     Users  \n",
       "0               10813   814,885    24,701   \n",
       "1               10813   814,885    24,701   "
      ]
     },
     "execution_count": 15,
     "metadata": {},
     "output_type": "execute_result"
    }
   ],
   "source": [
    "#Merge df2 and city data frames\n",
    "df3=pd.merge(df2,city, on=\"City\")\n",
    "df3.head(2)"
   ]
  },
  {
   "cell_type": "code",
   "execution_count": 16,
   "id": "9d43ef34",
   "metadata": {},
   "outputs": [
    {
     "data": {
      "text/html": [
       "<div>\n",
       "<style scoped>\n",
       "    .dataframe tbody tr th:only-of-type {\n",
       "        vertical-align: middle;\n",
       "    }\n",
       "\n",
       "    .dataframe tbody tr th {\n",
       "        vertical-align: top;\n",
       "    }\n",
       "\n",
       "    .dataframe thead th {\n",
       "        text-align: right;\n",
       "    }\n",
       "</style>\n",
       "<table border=\"1\" class=\"dataframe\">\n",
       "  <thead>\n",
       "    <tr style=\"text-align: right;\">\n",
       "      <th></th>\n",
       "      <th>Transaction ID</th>\n",
       "      <th>Customer ID</th>\n",
       "      <th>Gender</th>\n",
       "      <th>Age</th>\n",
       "      <th>Income (USD/Month)</th>\n",
       "      <th>Company</th>\n",
       "      <th>City</th>\n",
       "      <th>Population</th>\n",
       "      <th>Users</th>\n",
       "      <th>Date of Travel</th>\n",
       "      <th>KM Travelled</th>\n",
       "      <th>Price Charged</th>\n",
       "      <th>Cost of Trip</th>\n",
       "    </tr>\n",
       "  </thead>\n",
       "  <tbody>\n",
       "    <tr>\n",
       "      <th>0</th>\n",
       "      <td>10000011</td>\n",
       "      <td>29290</td>\n",
       "      <td>Male</td>\n",
       "      <td>28</td>\n",
       "      <td>10813</td>\n",
       "      <td>Pink Cab</td>\n",
       "      <td>ATLANTA GA</td>\n",
       "      <td>814,885</td>\n",
       "      <td>24,701</td>\n",
       "      <td>2016/01/08</td>\n",
       "      <td>30.45</td>\n",
       "      <td>370.95</td>\n",
       "      <td>313.6350</td>\n",
       "    </tr>\n",
       "    <tr>\n",
       "      <th>1</th>\n",
       "      <td>10351127</td>\n",
       "      <td>29290</td>\n",
       "      <td>Male</td>\n",
       "      <td>28</td>\n",
       "      <td>10813</td>\n",
       "      <td>Yellow Cab</td>\n",
       "      <td>ATLANTA GA</td>\n",
       "      <td>814,885</td>\n",
       "      <td>24,701</td>\n",
       "      <td>2018/07/21</td>\n",
       "      <td>26.19</td>\n",
       "      <td>598.70</td>\n",
       "      <td>317.4228</td>\n",
       "    </tr>\n",
       "  </tbody>\n",
       "</table>\n",
       "</div>"
      ],
      "text/plain": [
       "   Transaction ID  Customer ID Gender  Age  Income (USD/Month)     Company  \\\n",
       "0        10000011        29290   Male   28               10813    Pink Cab   \n",
       "1        10351127        29290   Male   28               10813  Yellow Cab   \n",
       "\n",
       "         City Population     Users Date of Travel  KM Travelled  \\\n",
       "0  ATLANTA GA   814,885    24,701      2016/01/08         30.45   \n",
       "1  ATLANTA GA   814,885    24,701      2018/07/21         26.19   \n",
       "\n",
       "   Price Charged  Cost of Trip  \n",
       "0         370.95      313.6350  \n",
       "1         598.70      317.4228  "
      ]
     },
     "execution_count": 16,
     "metadata": {},
     "output_type": "execute_result"
    }
   ],
   "source": [
    "#Arrange the order of columns\n",
    "df4=df3[df3.columns[[0,7,9,10,11,2,3,12,13,1,4,5,6]]]\n",
    "df4.head(2)"
   ]
  },
  {
   "cell_type": "code",
   "execution_count": 17,
   "id": "426a6a34",
   "metadata": {},
   "outputs": [
    {
     "data": {
      "text/html": [
       "<div>\n",
       "<style scoped>\n",
       "    .dataframe tbody tr th:only-of-type {\n",
       "        vertical-align: middle;\n",
       "    }\n",
       "\n",
       "    .dataframe tbody tr th {\n",
       "        vertical-align: top;\n",
       "    }\n",
       "\n",
       "    .dataframe thead th {\n",
       "        text-align: right;\n",
       "    }\n",
       "</style>\n",
       "<table border=\"1\" class=\"dataframe\">\n",
       "  <thead>\n",
       "    <tr style=\"text-align: right;\">\n",
       "      <th></th>\n",
       "      <th>Transaction ID</th>\n",
       "      <th>Customer ID</th>\n",
       "      <th>Gender</th>\n",
       "      <th>Age</th>\n",
       "      <th>Income (USD/Month)</th>\n",
       "      <th>Company</th>\n",
       "      <th>City</th>\n",
       "      <th>Population</th>\n",
       "      <th>Users</th>\n",
       "      <th>Date of Travel</th>\n",
       "      <th>KM Travelled</th>\n",
       "      <th>Price Charged</th>\n",
       "      <th>Cost of Trip</th>\n",
       "      <th>Profit</th>\n",
       "    </tr>\n",
       "  </thead>\n",
       "  <tbody>\n",
       "    <tr>\n",
       "      <th>0</th>\n",
       "      <td>10000011</td>\n",
       "      <td>29290</td>\n",
       "      <td>Male</td>\n",
       "      <td>28</td>\n",
       "      <td>10813</td>\n",
       "      <td>Pink Cab</td>\n",
       "      <td>ATLANTA GA</td>\n",
       "      <td>814,885</td>\n",
       "      <td>24,701</td>\n",
       "      <td>2016/01/08</td>\n",
       "      <td>30.45</td>\n",
       "      <td>370.95</td>\n",
       "      <td>313.6350</td>\n",
       "      <td>57.3150</td>\n",
       "    </tr>\n",
       "    <tr>\n",
       "      <th>1</th>\n",
       "      <td>10351127</td>\n",
       "      <td>29290</td>\n",
       "      <td>Male</td>\n",
       "      <td>28</td>\n",
       "      <td>10813</td>\n",
       "      <td>Yellow Cab</td>\n",
       "      <td>ATLANTA GA</td>\n",
       "      <td>814,885</td>\n",
       "      <td>24,701</td>\n",
       "      <td>2018/07/21</td>\n",
       "      <td>26.19</td>\n",
       "      <td>598.70</td>\n",
       "      <td>317.4228</td>\n",
       "      <td>281.2772</td>\n",
       "    </tr>\n",
       "  </tbody>\n",
       "</table>\n",
       "</div>"
      ],
      "text/plain": [
       "   Transaction ID  Customer ID Gender  Age  Income (USD/Month)     Company  \\\n",
       "0        10000011        29290   Male   28               10813    Pink Cab   \n",
       "1        10351127        29290   Male   28               10813  Yellow Cab   \n",
       "\n",
       "         City Population     Users Date of Travel  KM Travelled  \\\n",
       "0  ATLANTA GA   814,885    24,701      2016/01/08         30.45   \n",
       "1  ATLANTA GA   814,885    24,701      2018/07/21         26.19   \n",
       "\n",
       "   Price Charged  Cost of Trip    Profit  \n",
       "0         370.95      313.6350   57.3150  \n",
       "1         598.70      317.4228  281.2772  "
      ]
     },
     "execution_count": 17,
     "metadata": {},
     "output_type": "execute_result"
    }
   ],
   "source": [
    "#Calculate the profit\n",
    "df4[\"Profit\"]=df4[\"Price Charged\"]-df4[\"Cost of Trip\"]\n",
    "df4.head(2)"
   ]
  },
  {
   "cell_type": "code",
   "execution_count": 18,
   "id": "d14cfcf1",
   "metadata": {},
   "outputs": [
    {
     "data": {
      "text/plain": [
       "(359392, 14)"
      ]
     },
     "execution_count": 18,
     "metadata": {},
     "output_type": "execute_result"
    }
   ],
   "source": [
    "#Show the shape of df4 data frame\n",
    "df4.shape"
   ]
  },
  {
   "cell_type": "code",
   "execution_count": 19,
   "id": "dbcd3393",
   "metadata": {},
   "outputs": [],
   "source": [
    "#Create and export a new csv file\n",
    "df4.to_csv(\"data1.csv\")"
   ]
  },
  {
   "cell_type": "code",
   "execution_count": 20,
   "id": "5a9e503b",
   "metadata": {
    "scrolled": true
   },
   "outputs": [
    {
     "data": {
      "text/html": [
       "<div>\n",
       "<style scoped>\n",
       "    .dataframe tbody tr th:only-of-type {\n",
       "        vertical-align: middle;\n",
       "    }\n",
       "\n",
       "    .dataframe tbody tr th {\n",
       "        vertical-align: top;\n",
       "    }\n",
       "\n",
       "    .dataframe thead th {\n",
       "        text-align: right;\n",
       "    }\n",
       "</style>\n",
       "<table border=\"1\" class=\"dataframe\">\n",
       "  <thead>\n",
       "    <tr style=\"text-align: right;\">\n",
       "      <th></th>\n",
       "      <th>Transaction ID</th>\n",
       "      <th>Customer ID</th>\n",
       "      <th>Age</th>\n",
       "      <th>Income (USD/Month)</th>\n",
       "      <th>KM Travelled</th>\n",
       "      <th>Price Charged</th>\n",
       "      <th>Cost of Trip</th>\n",
       "      <th>Profit</th>\n",
       "    </tr>\n",
       "  </thead>\n",
       "  <tbody>\n",
       "    <tr>\n",
       "      <th>count</th>\n",
       "      <td>3.593920e+05</td>\n",
       "      <td>359392.000000</td>\n",
       "      <td>359392.000000</td>\n",
       "      <td>359392.000000</td>\n",
       "      <td>359392.000000</td>\n",
       "      <td>359392.000000</td>\n",
       "      <td>359392.000000</td>\n",
       "      <td>359392.000000</td>\n",
       "    </tr>\n",
       "    <tr>\n",
       "      <th>mean</th>\n",
       "      <td>1.022076e+07</td>\n",
       "      <td>19191.652115</td>\n",
       "      <td>35.336705</td>\n",
       "      <td>15048.822937</td>\n",
       "      <td>22.567254</td>\n",
       "      <td>423.443311</td>\n",
       "      <td>286.190113</td>\n",
       "      <td>137.253198</td>\n",
       "    </tr>\n",
       "    <tr>\n",
       "      <th>std</th>\n",
       "      <td>1.268058e+05</td>\n",
       "      <td>21012.412463</td>\n",
       "      <td>12.594234</td>\n",
       "      <td>7969.409482</td>\n",
       "      <td>12.233526</td>\n",
       "      <td>274.378911</td>\n",
       "      <td>157.993661</td>\n",
       "      <td>160.311840</td>\n",
       "    </tr>\n",
       "    <tr>\n",
       "      <th>min</th>\n",
       "      <td>1.000001e+07</td>\n",
       "      <td>1.000000</td>\n",
       "      <td>18.000000</td>\n",
       "      <td>2000.000000</td>\n",
       "      <td>1.900000</td>\n",
       "      <td>15.600000</td>\n",
       "      <td>19.000000</td>\n",
       "      <td>-220.060000</td>\n",
       "    </tr>\n",
       "    <tr>\n",
       "      <th>25%</th>\n",
       "      <td>1.011081e+07</td>\n",
       "      <td>2705.000000</td>\n",
       "      <td>25.000000</td>\n",
       "      <td>8424.000000</td>\n",
       "      <td>12.000000</td>\n",
       "      <td>206.437500</td>\n",
       "      <td>151.200000</td>\n",
       "      <td>28.012000</td>\n",
       "    </tr>\n",
       "    <tr>\n",
       "      <th>50%</th>\n",
       "      <td>1.022104e+07</td>\n",
       "      <td>7459.000000</td>\n",
       "      <td>33.000000</td>\n",
       "      <td>14685.000000</td>\n",
       "      <td>22.440000</td>\n",
       "      <td>386.360000</td>\n",
       "      <td>282.480000</td>\n",
       "      <td>81.962000</td>\n",
       "    </tr>\n",
       "    <tr>\n",
       "      <th>75%</th>\n",
       "      <td>1.033094e+07</td>\n",
       "      <td>36078.000000</td>\n",
       "      <td>42.000000</td>\n",
       "      <td>21035.000000</td>\n",
       "      <td>32.960000</td>\n",
       "      <td>583.660000</td>\n",
       "      <td>413.683200</td>\n",
       "      <td>190.030000</td>\n",
       "    </tr>\n",
       "    <tr>\n",
       "      <th>max</th>\n",
       "      <td>1.044011e+07</td>\n",
       "      <td>60000.000000</td>\n",
       "      <td>65.000000</td>\n",
       "      <td>35000.000000</td>\n",
       "      <td>48.000000</td>\n",
       "      <td>2048.030000</td>\n",
       "      <td>691.200000</td>\n",
       "      <td>1463.966000</td>\n",
       "    </tr>\n",
       "  </tbody>\n",
       "</table>\n",
       "</div>"
      ],
      "text/plain": [
       "       Transaction ID    Customer ID            Age  Income (USD/Month)  \\\n",
       "count    3.593920e+05  359392.000000  359392.000000       359392.000000   \n",
       "mean     1.022076e+07   19191.652115      35.336705        15048.822937   \n",
       "std      1.268058e+05   21012.412463      12.594234         7969.409482   \n",
       "min      1.000001e+07       1.000000      18.000000         2000.000000   \n",
       "25%      1.011081e+07    2705.000000      25.000000         8424.000000   \n",
       "50%      1.022104e+07    7459.000000      33.000000        14685.000000   \n",
       "75%      1.033094e+07   36078.000000      42.000000        21035.000000   \n",
       "max      1.044011e+07   60000.000000      65.000000        35000.000000   \n",
       "\n",
       "        KM Travelled  Price Charged   Cost of Trip         Profit  \n",
       "count  359392.000000  359392.000000  359392.000000  359392.000000  \n",
       "mean       22.567254     423.443311     286.190113     137.253198  \n",
       "std        12.233526     274.378911     157.993661     160.311840  \n",
       "min         1.900000      15.600000      19.000000    -220.060000  \n",
       "25%        12.000000     206.437500     151.200000      28.012000  \n",
       "50%        22.440000     386.360000     282.480000      81.962000  \n",
       "75%        32.960000     583.660000     413.683200     190.030000  \n",
       "max        48.000000    2048.030000     691.200000    1463.966000  "
      ]
     },
     "execution_count": 20,
     "metadata": {},
     "output_type": "execute_result"
    }
   ],
   "source": [
    "#Computer a summary of statistics for all numeric columns\n",
    "df4.describe()"
   ]
  },
  {
   "cell_type": "code",
   "execution_count": 21,
   "id": "2670bdb6",
   "metadata": {},
   "outputs": [
    {
     "data": {
      "text/plain": [
       "Transaction ID        0\n",
       "Customer ID           0\n",
       "Gender                0\n",
       "Age                   0\n",
       "Income (USD/Month)    0\n",
       "Company               0\n",
       "City                  0\n",
       "Population            0\n",
       "Users                 0\n",
       "Date of Travel        0\n",
       "KM Travelled          0\n",
       "Price Charged         0\n",
       "Cost of Trip          0\n",
       "Profit                0\n",
       "dtype: int64"
      ]
     },
     "execution_count": 21,
     "metadata": {},
     "output_type": "execute_result"
    }
   ],
   "source": [
    "#Find the null values for all the columns in the data frame\n",
    "df4.isnull().sum()"
   ]
  },
  {
   "cell_type": "code",
   "execution_count": 22,
   "id": "ad6dea7e",
   "metadata": {},
   "outputs": [
    {
     "data": {
      "text/plain": [
       "0         False\n",
       "1         False\n",
       "2         False\n",
       "3         False\n",
       "4         False\n",
       "          ...  \n",
       "359387    False\n",
       "359388    False\n",
       "359389    False\n",
       "359390    False\n",
       "359391    False\n",
       "Length: 359392, dtype: bool"
      ]
     },
     "execution_count": 22,
     "metadata": {},
     "output_type": "execute_result"
    }
   ],
   "source": [
    "#Find the duplicated values\n",
    "df4.duplicated(subset=None, keep='first')"
   ]
  },
  {
   "cell_type": "code",
   "execution_count": 23,
   "id": "289a124d",
   "metadata": {},
   "outputs": [
    {
     "data": {
      "text/plain": [
       "False"
      ]
     },
     "execution_count": 23,
     "metadata": {},
     "output_type": "execute_result"
    }
   ],
   "source": [
    "#Find if there are any null values\n",
    "df4.isnull().values.any()"
   ]
  },
  {
   "cell_type": "code",
   "execution_count": 24,
   "id": "ad768d88",
   "metadata": {},
   "outputs": [
    {
     "data": {
      "image/png": "[encoded data removed]",
      "text/plain": [
       "<Figure size 1080x72 with 1 Axes>"
      ]
     },
     "metadata": {
      "needs_background": "light"
     },
     "output_type": "display_data"
    },
    {
     "data": {
      "image/png": "[encoded data removed]",
      "text/plain": [
       "<Figure size 1080x72 with 1 Axes>"
      ]
     },
     "metadata": {
      "needs_background": "light"
     },
     "output_type": "display_data"
    },
    {
     "data": {
      "image/png": "[encoded data removed]",
      "text/plain": [
       "<Figure size 1080x72 with 1 Axes>"
      ]
     },
     "metadata": {
      "needs_background": "light"
     },
     "output_type": "display_data"
    },
    {
     "data": {
      "image/png": "[encoded data removed]",
      "text/plain": [
       "<Figure size 1080x72 with 1 Axes>"
      ]
     },
     "metadata": {
      "needs_background": "light"
     },
     "output_type": "display_data"
    },
    {
     "data": {
      "image/png": "[encoded data removed]",
      "text/plain": [
       "<Figure size 1080x72 with 1 Axes>"
      ]
     },
     "metadata": {
      "needs_background": "light"
     },
     "output_type": "display_data"
    },
    {
     "data": {
      "image/png": "[encoded data removed]",
      "text/plain": [
       "<Figure size 1080x72 with 1 Axes>"
      ]
     },
     "metadata": {
      "needs_background": "light"
     },
     "output_type": "display_data"
    },
    {
     "data": {
      "image/png": "[encoded data removed]",
      "text/plain": [
       "<Figure size 1080x72 with 1 Axes>"
      ]
     },
     "metadata": {
      "needs_background": "light"
     },
     "output_type": "display_data"
    },
    {
     "data": {
      "image/png": "[encoded data removed]",
      "text/plain": [
       "<Figure size 1080x72 with 1 Axes>"
      ]
     },
     "metadata": {
      "needs_background": "light"
     },
     "output_type": "display_data"
    }
   ],
   "source": [
    "#Plot the boxplot for each numerical column to find the outliers\n",
    "df5=df4.select_dtypes(exclude=['object'])\n",
    "for column in df5:\n",
    "        plt.figure(figsize=(15,1))\n",
    "        sns.boxplot(data=df5, x=column, color=\"green\")"
   ]
  },
  {
   "cell_type": "code",
   "execution_count": 25,
   "id": "8ab6c038",
   "metadata": {},
   "outputs": [
    {
     "data": {
      "image/png": "[encoded data removed]",
      "text/plain": [
       "<Figure size 432x288 with 1 Axes>"
      ]
     },
     "metadata": {
      "needs_background": "light"
     },
     "output_type": "display_data"
    }
   ],
   "source": [
    "#Plot the boxplot for Price charged, Cost of Trip and Profit to find the outliers\n",
    "boxplot = df4.boxplot(column=['Price Charged','Cost of Trip', 'Profit'])"
   ]
  },
  {
   "cell_type": "code",
   "execution_count": 26,
   "id": "262a7b8d",
   "metadata": {},
   "outputs": [
    {
     "name": "stdout",
     "output_type": "stream",
     "text": [
      "The 50th percentile value is  386.36\n",
      "The 95th percentile value is  944.89\n"
     ]
    },
    {
     "data": {
      "text/html": [
       "<div>\n",
       "<style scoped>\n",
       "    .dataframe tbody tr th:only-of-type {\n",
       "        vertical-align: middle;\n",
       "    }\n",
       "\n",
       "    .dataframe tbody tr th {\n",
       "        vertical-align: top;\n",
       "    }\n",
       "\n",
       "    .dataframe thead th {\n",
       "        text-align: right;\n",
       "    }\n",
       "</style>\n",
       "<table border=\"1\" class=\"dataframe\">\n",
       "  <thead>\n",
       "    <tr style=\"text-align: right;\">\n",
       "      <th></th>\n",
       "      <th>Transaction ID</th>\n",
       "      <th>Customer ID</th>\n",
       "      <th>Age</th>\n",
       "      <th>Income (USD/Month)</th>\n",
       "      <th>KM Travelled</th>\n",
       "      <th>Price Charged</th>\n",
       "      <th>Cost of Trip</th>\n",
       "      <th>Profit</th>\n",
       "    </tr>\n",
       "  </thead>\n",
       "  <tbody>\n",
       "    <tr>\n",
       "      <th>count</th>\n",
       "      <td>3.593920e+05</td>\n",
       "      <td>359392.000000</td>\n",
       "      <td>359392.000000</td>\n",
       "      <td>359392.000000</td>\n",
       "      <td>359392.000000</td>\n",
       "      <td>359392.000000</td>\n",
       "      <td>359392.000000</td>\n",
       "      <td>359392.000000</td>\n",
       "    </tr>\n",
       "    <tr>\n",
       "      <th>mean</th>\n",
       "      <td>1.022076e+07</td>\n",
       "      <td>19191.652115</td>\n",
       "      <td>35.336705</td>\n",
       "      <td>15048.822937</td>\n",
       "      <td>22.567254</td>\n",
       "      <td>386.693525</td>\n",
       "      <td>286.190113</td>\n",
       "      <td>137.253198</td>\n",
       "    </tr>\n",
       "    <tr>\n",
       "      <th>std</th>\n",
       "      <td>1.268058e+05</td>\n",
       "      <td>21012.412463</td>\n",
       "      <td>12.594234</td>\n",
       "      <td>7969.409482</td>\n",
       "      <td>12.233526</td>\n",
       "      <td>220.566582</td>\n",
       "      <td>157.993661</td>\n",
       "      <td>160.311840</td>\n",
       "    </tr>\n",
       "    <tr>\n",
       "      <th>min</th>\n",
       "      <td>1.000001e+07</td>\n",
       "      <td>1.000000</td>\n",
       "      <td>18.000000</td>\n",
       "      <td>2000.000000</td>\n",
       "      <td>1.900000</td>\n",
       "      <td>15.600000</td>\n",
       "      <td>19.000000</td>\n",
       "      <td>-220.060000</td>\n",
       "    </tr>\n",
       "    <tr>\n",
       "      <th>25%</th>\n",
       "      <td>1.011081e+07</td>\n",
       "      <td>2705.000000</td>\n",
       "      <td>25.000000</td>\n",
       "      <td>8424.000000</td>\n",
       "      <td>12.000000</td>\n",
       "      <td>206.437500</td>\n",
       "      <td>151.200000</td>\n",
       "      <td>28.012000</td>\n",
       "    </tr>\n",
       "    <tr>\n",
       "      <th>50%</th>\n",
       "      <td>1.022104e+07</td>\n",
       "      <td>7459.000000</td>\n",
       "      <td>33.000000</td>\n",
       "      <td>14685.000000</td>\n",
       "      <td>22.440000</td>\n",
       "      <td>386.000000</td>\n",
       "      <td>282.480000</td>\n",
       "      <td>81.962000</td>\n",
       "    </tr>\n",
       "    <tr>\n",
       "      <th>75%</th>\n",
       "      <td>1.033094e+07</td>\n",
       "      <td>36078.000000</td>\n",
       "      <td>42.000000</td>\n",
       "      <td>21035.000000</td>\n",
       "      <td>32.960000</td>\n",
       "      <td>538.582500</td>\n",
       "      <td>413.683200</td>\n",
       "      <td>190.030000</td>\n",
       "    </tr>\n",
       "    <tr>\n",
       "      <th>max</th>\n",
       "      <td>1.044011e+07</td>\n",
       "      <td>60000.000000</td>\n",
       "      <td>65.000000</td>\n",
       "      <td>35000.000000</td>\n",
       "      <td>48.000000</td>\n",
       "      <td>943.960000</td>\n",
       "      <td>691.200000</td>\n",
       "      <td>1463.966000</td>\n",
       "    </tr>\n",
       "  </tbody>\n",
       "</table>\n",
       "</div>"
      ],
      "text/plain": [
       "       Transaction ID    Customer ID            Age  Income (USD/Month)  \\\n",
       "count    3.593920e+05  359392.000000  359392.000000       359392.000000   \n",
       "mean     1.022076e+07   19191.652115      35.336705        15048.822937   \n",
       "std      1.268058e+05   21012.412463      12.594234         7969.409482   \n",
       "min      1.000001e+07       1.000000      18.000000         2000.000000   \n",
       "25%      1.011081e+07    2705.000000      25.000000         8424.000000   \n",
       "50%      1.022104e+07    7459.000000      33.000000        14685.000000   \n",
       "75%      1.033094e+07   36078.000000      42.000000        21035.000000   \n",
       "max      1.044011e+07   60000.000000      65.000000        35000.000000   \n",
       "\n",
       "        KM Travelled  Price Charged   Cost of Trip         Profit  \n",
       "count  359392.000000  359392.000000  359392.000000  359392.000000  \n",
       "mean       22.567254     386.693525     286.190113     137.253198  \n",
       "std        12.233526     220.566582     157.993661     160.311840  \n",
       "min         1.900000      15.600000      19.000000    -220.060000  \n",
       "25%        12.000000     206.437500     151.200000      28.012000  \n",
       "50%        22.440000     386.000000     282.480000      81.962000  \n",
       "75%        32.960000     538.582500     413.683200     190.030000  \n",
       "max        48.000000     943.960000     691.200000    1463.966000  "
      ]
     },
     "execution_count": 26,
     "metadata": {},
     "output_type": "execute_result"
    }
   ],
   "source": [
    "#Calculate the 50th and 95th percentile for Price Charged\n",
    "print(\"The 50th percentile value is \", df4['Price Charged'].quantile(0.50)) \n",
    "\n",
    "print(\"The 95th percentile value is \", df4['Price Charged'].quantile(0.95)) \n",
    "\n",
    "df4['Price Charged'] = np.where(df4['Price Charged'] > 944, 386, df4['Price Charged'])\n",
    "\n",
    "df4.describe()"
   ]
  },
  {
   "cell_type": "code",
   "execution_count": 27,
   "id": "bd80b964",
   "metadata": {},
   "outputs": [
    {
     "name": "stdout",
     "output_type": "stream",
     "text": [
      "The 50th percentile value is  282.48\n",
      "The 95th percentile value is  544.3632000000011\n"
     ]
    },
    {
     "data": {
      "text/html": [
       "<div>\n",
       "<style scoped>\n",
       "    .dataframe tbody tr th:only-of-type {\n",
       "        vertical-align: middle;\n",
       "    }\n",
       "\n",
       "    .dataframe tbody tr th {\n",
       "        vertical-align: top;\n",
       "    }\n",
       "\n",
       "    .dataframe thead th {\n",
       "        text-align: right;\n",
       "    }\n",
       "</style>\n",
       "<table border=\"1\" class=\"dataframe\">\n",
       "  <thead>\n",
       "    <tr style=\"text-align: right;\">\n",
       "      <th></th>\n",
       "      <th>Transaction ID</th>\n",
       "      <th>Customer ID</th>\n",
       "      <th>Age</th>\n",
       "      <th>Income (USD/Month)</th>\n",
       "      <th>KM Travelled</th>\n",
       "      <th>Price Charged</th>\n",
       "      <th>Cost of Trip</th>\n",
       "      <th>Profit</th>\n",
       "    </tr>\n",
       "  </thead>\n",
       "  <tbody>\n",
       "    <tr>\n",
       "      <th>count</th>\n",
       "      <td>3.593920e+05</td>\n",
       "      <td>359392.000000</td>\n",
       "      <td>359392.000000</td>\n",
       "      <td>359392.000000</td>\n",
       "      <td>359392.000000</td>\n",
       "      <td>359392.000000</td>\n",
       "      <td>359392.000000</td>\n",
       "      <td>359392.000000</td>\n",
       "    </tr>\n",
       "    <tr>\n",
       "      <th>mean</th>\n",
       "      <td>1.022076e+07</td>\n",
       "      <td>19191.652115</td>\n",
       "      <td>35.336705</td>\n",
       "      <td>15048.822937</td>\n",
       "      <td>22.567254</td>\n",
       "      <td>386.693525</td>\n",
       "      <td>270.905275</td>\n",
       "      <td>137.253198</td>\n",
       "    </tr>\n",
       "    <tr>\n",
       "      <th>std</th>\n",
       "      <td>1.268058e+05</td>\n",
       "      <td>21012.412463</td>\n",
       "      <td>12.594234</td>\n",
       "      <td>7969.409482</td>\n",
       "      <td>12.233526</td>\n",
       "      <td>220.566582</td>\n",
       "      <td>142.132415</td>\n",
       "      <td>160.311840</td>\n",
       "    </tr>\n",
       "    <tr>\n",
       "      <th>min</th>\n",
       "      <td>1.000001e+07</td>\n",
       "      <td>1.000000</td>\n",
       "      <td>18.000000</td>\n",
       "      <td>2000.000000</td>\n",
       "      <td>1.900000</td>\n",
       "      <td>15.600000</td>\n",
       "      <td>19.000000</td>\n",
       "      <td>-220.060000</td>\n",
       "    </tr>\n",
       "    <tr>\n",
       "      <th>25%</th>\n",
       "      <td>1.011081e+07</td>\n",
       "      <td>2705.000000</td>\n",
       "      <td>25.000000</td>\n",
       "      <td>8424.000000</td>\n",
       "      <td>12.000000</td>\n",
       "      <td>206.437500</td>\n",
       "      <td>151.200000</td>\n",
       "      <td>28.012000</td>\n",
       "    </tr>\n",
       "    <tr>\n",
       "      <th>50%</th>\n",
       "      <td>1.022104e+07</td>\n",
       "      <td>7459.000000</td>\n",
       "      <td>33.000000</td>\n",
       "      <td>14685.000000</td>\n",
       "      <td>22.440000</td>\n",
       "      <td>386.000000</td>\n",
       "      <td>282.000000</td>\n",
       "      <td>81.962000</td>\n",
       "    </tr>\n",
       "    <tr>\n",
       "      <th>75%</th>\n",
       "      <td>1.033094e+07</td>\n",
       "      <td>36078.000000</td>\n",
       "      <td>42.000000</td>\n",
       "      <td>21035.000000</td>\n",
       "      <td>32.960000</td>\n",
       "      <td>538.582500</td>\n",
       "      <td>386.880000</td>\n",
       "      <td>190.030000</td>\n",
       "    </tr>\n",
       "    <tr>\n",
       "      <th>max</th>\n",
       "      <td>1.044011e+07</td>\n",
       "      <td>60000.000000</td>\n",
       "      <td>65.000000</td>\n",
       "      <td>35000.000000</td>\n",
       "      <td>48.000000</td>\n",
       "      <td>943.960000</td>\n",
       "      <td>543.840000</td>\n",
       "      <td>1463.966000</td>\n",
       "    </tr>\n",
       "  </tbody>\n",
       "</table>\n",
       "</div>"
      ],
      "text/plain": [
       "       Transaction ID    Customer ID            Age  Income (USD/Month)  \\\n",
       "count    3.593920e+05  359392.000000  359392.000000       359392.000000   \n",
       "mean     1.022076e+07   19191.652115      35.336705        15048.822937   \n",
       "std      1.268058e+05   21012.412463      12.594234         7969.409482   \n",
       "min      1.000001e+07       1.000000      18.000000         2000.000000   \n",
       "25%      1.011081e+07    2705.000000      25.000000         8424.000000   \n",
       "50%      1.022104e+07    7459.000000      33.000000        14685.000000   \n",
       "75%      1.033094e+07   36078.000000      42.000000        21035.000000   \n",
       "max      1.044011e+07   60000.000000      65.000000        35000.000000   \n",
       "\n",
       "        KM Travelled  Price Charged   Cost of Trip         Profit  \n",
       "count  359392.000000  359392.000000  359392.000000  359392.000000  \n",
       "mean       22.567254     386.693525     270.905275     137.253198  \n",
       "std        12.233526     220.566582     142.132415     160.311840  \n",
       "min         1.900000      15.600000      19.000000    -220.060000  \n",
       "25%        12.000000     206.437500     151.200000      28.012000  \n",
       "50%        22.440000     386.000000     282.000000      81.962000  \n",
       "75%        32.960000     538.582500     386.880000     190.030000  \n",
       "max        48.000000     943.960000     543.840000    1463.966000  "
      ]
     },
     "execution_count": 27,
     "metadata": {},
     "output_type": "execute_result"
    }
   ],
   "source": [
    "#Calculate the 50th and 95th percentile for Cost of Trip\n",
    "\n",
    "print(\"The 50th percentile value is \", df4['Cost of Trip'].quantile(0.50)) \n",
    "\n",
    "print(\"The 95th percentile value is \", df4['Cost of Trip'].quantile(0.95)) \n",
    "\n",
    "df4['Cost of Trip'] = np.where(df4['Cost of Trip'] > 544, 282, df4['Cost of Trip'])\n",
    "\n",
    "df4.describe()"
   ]
  },
  {
   "cell_type": "code",
   "execution_count": 28,
   "id": "8fefa3aa",
   "metadata": {},
   "outputs": [
    {
     "name": "stdout",
     "output_type": "stream",
     "text": [
      "The 50th percentile value is  81.96199999999999\n",
      "The 95th percentile value is  478.56418\n"
     ]
    },
    {
     "data": {
      "text/html": [
       "<div>\n",
       "<style scoped>\n",
       "    .dataframe tbody tr th:only-of-type {\n",
       "        vertical-align: middle;\n",
       "    }\n",
       "\n",
       "    .dataframe tbody tr th {\n",
       "        vertical-align: top;\n",
       "    }\n",
       "\n",
       "    .dataframe thead th {\n",
       "        text-align: right;\n",
       "    }\n",
       "</style>\n",
       "<table border=\"1\" class=\"dataframe\">\n",
       "  <thead>\n",
       "    <tr style=\"text-align: right;\">\n",
       "      <th></th>\n",
       "      <th>Transaction ID</th>\n",
       "      <th>Customer ID</th>\n",
       "      <th>Age</th>\n",
       "      <th>Income (USD/Month)</th>\n",
       "      <th>KM Travelled</th>\n",
       "      <th>Price Charged</th>\n",
       "      <th>Cost of Trip</th>\n",
       "      <th>Profit</th>\n",
       "    </tr>\n",
       "  </thead>\n",
       "  <tbody>\n",
       "    <tr>\n",
       "      <th>count</th>\n",
       "      <td>3.593920e+05</td>\n",
       "      <td>359392.000000</td>\n",
       "      <td>359392.000000</td>\n",
       "      <td>359392.000000</td>\n",
       "      <td>359392.000000</td>\n",
       "      <td>359392.000000</td>\n",
       "      <td>359392.000000</td>\n",
       "      <td>359392.000000</td>\n",
       "    </tr>\n",
       "    <tr>\n",
       "      <th>mean</th>\n",
       "      <td>1.022076e+07</td>\n",
       "      <td>19191.652115</td>\n",
       "      <td>35.336705</td>\n",
       "      <td>15048.822937</td>\n",
       "      <td>22.567254</td>\n",
       "      <td>386.693525</td>\n",
       "      <td>270.905275</td>\n",
       "      <td>110.102580</td>\n",
       "    </tr>\n",
       "    <tr>\n",
       "      <th>std</th>\n",
       "      <td>1.268058e+05</td>\n",
       "      <td>21012.412463</td>\n",
       "      <td>12.594234</td>\n",
       "      <td>7969.409482</td>\n",
       "      <td>12.233526</td>\n",
       "      <td>220.566582</td>\n",
       "      <td>142.132415</td>\n",
       "      <td>111.694376</td>\n",
       "    </tr>\n",
       "    <tr>\n",
       "      <th>min</th>\n",
       "      <td>1.000001e+07</td>\n",
       "      <td>1.000000</td>\n",
       "      <td>18.000000</td>\n",
       "      <td>2000.000000</td>\n",
       "      <td>1.900000</td>\n",
       "      <td>15.600000</td>\n",
       "      <td>19.000000</td>\n",
       "      <td>-220.060000</td>\n",
       "    </tr>\n",
       "    <tr>\n",
       "      <th>25%</th>\n",
       "      <td>1.011081e+07</td>\n",
       "      <td>2705.000000</td>\n",
       "      <td>25.000000</td>\n",
       "      <td>8424.000000</td>\n",
       "      <td>12.000000</td>\n",
       "      <td>206.437500</td>\n",
       "      <td>151.200000</td>\n",
       "      <td>28.012000</td>\n",
       "    </tr>\n",
       "    <tr>\n",
       "      <th>50%</th>\n",
       "      <td>1.022104e+07</td>\n",
       "      <td>7459.000000</td>\n",
       "      <td>33.000000</td>\n",
       "      <td>14685.000000</td>\n",
       "      <td>22.440000</td>\n",
       "      <td>386.000000</td>\n",
       "      <td>282.000000</td>\n",
       "      <td>81.000000</td>\n",
       "    </tr>\n",
       "    <tr>\n",
       "      <th>75%</th>\n",
       "      <td>1.033094e+07</td>\n",
       "      <td>36078.000000</td>\n",
       "      <td>42.000000</td>\n",
       "      <td>21035.000000</td>\n",
       "      <td>32.960000</td>\n",
       "      <td>538.582500</td>\n",
       "      <td>386.880000</td>\n",
       "      <td>159.894100</td>\n",
       "    </tr>\n",
       "    <tr>\n",
       "      <th>max</th>\n",
       "      <td>1.044011e+07</td>\n",
       "      <td>60000.000000</td>\n",
       "      <td>65.000000</td>\n",
       "      <td>35000.000000</td>\n",
       "      <td>48.000000</td>\n",
       "      <td>943.960000</td>\n",
       "      <td>543.840000</td>\n",
       "      <td>477.994000</td>\n",
       "    </tr>\n",
       "  </tbody>\n",
       "</table>\n",
       "</div>"
      ],
      "text/plain": [
       "       Transaction ID    Customer ID            Age  Income (USD/Month)  \\\n",
       "count    3.593920e+05  359392.000000  359392.000000       359392.000000   \n",
       "mean     1.022076e+07   19191.652115      35.336705        15048.822937   \n",
       "std      1.268058e+05   21012.412463      12.594234         7969.409482   \n",
       "min      1.000001e+07       1.000000      18.000000         2000.000000   \n",
       "25%      1.011081e+07    2705.000000      25.000000         8424.000000   \n",
       "50%      1.022104e+07    7459.000000      33.000000        14685.000000   \n",
       "75%      1.033094e+07   36078.000000      42.000000        21035.000000   \n",
       "max      1.044011e+07   60000.000000      65.000000        35000.000000   \n",
       "\n",
       "        KM Travelled  Price Charged   Cost of Trip         Profit  \n",
       "count  359392.000000  359392.000000  359392.000000  359392.000000  \n",
       "mean       22.567254     386.693525     270.905275     110.102580  \n",
       "std        12.233526     220.566582     142.132415     111.694376  \n",
       "min         1.900000      15.600000      19.000000    -220.060000  \n",
       "25%        12.000000     206.437500     151.200000      28.012000  \n",
       "50%        22.440000     386.000000     282.000000      81.000000  \n",
       "75%        32.960000     538.582500     386.880000     159.894100  \n",
       "max        48.000000     943.960000     543.840000     477.994000  "
      ]
     },
     "execution_count": 28,
     "metadata": {},
     "output_type": "execute_result"
    }
   ],
   "source": [
    "#Calculate the 50th and 95th percentile for Profit\n",
    "print(\"The 50th percentile value is \", df4['Profit'].quantile(0.50)) \n",
    "\n",
    "print(\"The 95th percentile value is \", df4['Profit'].quantile(0.95)) \n",
    "\n",
    "df4['Profit'] = np.where(df4['Profit'] > 478, 81, df4['Profit'])\n",
    "\n",
    "df4.describe()"
   ]
  },
  {
   "cell_type": "code",
   "execution_count": 29,
   "id": "d4d955e2",
   "metadata": {},
   "outputs": [
    {
     "data": {
      "image/png": "[encoded data removed]",
      "text/plain": [
       "<Figure size 432x288 with 1 Axes>"
      ]
     },
     "metadata": {
      "needs_background": "light"
     },
     "output_type": "display_data"
    }
   ],
   "source": [
    "#Plot the boxplot for Price charged, Cost of Trip and Profit\n",
    "boxplot = df4.boxplot(column=['Price Charged','Cost of Trip', 'Profit'])"
   ]
  },
  {
   "cell_type": "code",
   "execution_count": 30,
   "id": "296f2fe1",
   "metadata": {},
   "outputs": [
    {
     "data": {
      "text/plain": [
       "0    2016\n",
       "1    2018\n",
       "Name: Year, dtype: int64"
      ]
     },
     "execution_count": 30,
     "metadata": {},
     "output_type": "execute_result"
    }
   ],
   "source": [
    "#Extract the year from Date of Travel\n",
    "df4['Year'] = pd.DatetimeIndex(df4['Date of Travel']).year\n",
    "df4['Year'].head(2)"
   ]
  },
  {
   "cell_type": "code",
   "execution_count": 31,
   "id": "08f71f92",
   "metadata": {},
   "outputs": [],
   "source": [
    "#Calculate the total profit based on each year and company\n",
    "Total_profit1 = df4.groupby(['Year','Company'])['Profit'].sum().reset_index(name='Total profit')"
   ]
  },
  {
   "cell_type": "code",
   "execution_count": 32,
   "id": "3c654e1a",
   "metadata": {},
   "outputs": [
    {
     "data": {
      "image/png": "[encoded data removed]",
      "text/plain": [
       "<Figure size 1080x720 with 1 Axes>"
      ]
     },
     "metadata": {
      "needs_background": "light"
     },
     "output_type": "display_data"
    }
   ],
   "source": [
    "#Plot Total Profit for each year and company\n",
    "fig_dims = (15, 10)\n",
    "fig, ax = plt.subplots(figsize=fig_dims)\n",
    "df10=Total_profit1\n",
    "palette = sns.set_color_codes('bright')\n",
    "chart = sns.barplot(x=\"Year\", y='Total profit', data=df10, hue='Company', palette=['r','y'])\n",
    "\n",
    "for c in chart.patches:\n",
    "    chart.annotate(\"%.0f\" % c.get_height(), (c.get_x() + c.get_width() / 2., c.get_height()),\n",
    "        ha='center', va='center', fontsize=10, color='black', xytext=(0, 15),\n",
    "        textcoords='offset points')"
   ]
  },
  {
   "cell_type": "code",
   "execution_count": 33,
   "id": "f4625a14",
   "metadata": {},
   "outputs": [],
   "source": [
    "#Group year and company and count all users\n",
    "Total_users = df4.groupby(['Year','Company'])['Users'].count().reset_index(name='Total users')"
   ]
  },
  {
   "cell_type": "code",
   "execution_count": 34,
   "id": "c831db7c",
   "metadata": {},
   "outputs": [
    {
     "data": {
      "text/plain": [
       "0           24,701 \n",
       "1           24,701 \n",
       "2           24,701 \n",
       "3           24,701 \n",
       "4           24,701 \n",
       "            ...    \n",
       "359387     127,001 \n",
       "359388     127,001 \n",
       "359389     127,001 \n",
       "359390     127,001 \n",
       "359391     127,001 \n",
       "Name: Users, Length: 359392, dtype: object"
      ]
     },
     "execution_count": 34,
     "metadata": {},
     "output_type": "execute_result"
    }
   ],
   "source": [
    "#Transform Users column to string data type\n",
    "df4['Users'].astype(str)"
   ]
  },
  {
   "cell_type": "code",
   "execution_count": 35,
   "id": "3f44a537",
   "metadata": {},
   "outputs": [],
   "source": [
    "#Transform Users column to float data type and replace comma with space\n",
    "df4['Users'] = df4[\"Users\"].str.replace(',','').astype(float)"
   ]
  },
  {
   "cell_type": "code",
   "execution_count": 36,
   "id": "35efba84",
   "metadata": {},
   "outputs": [],
   "source": [
    "#Group year and company and count all users\n",
    "Total_users1 = df4.groupby(['Year','Company'])['Users'].count().reset_index(name='Total users')"
   ]
  },
  {
   "cell_type": "code",
   "execution_count": 37,
   "id": "4dd78f5a",
   "metadata": {},
   "outputs": [
    {
     "data": {
      "image/png": "[encoded data removed]",
      "text/plain": [
       "<Figure size 1080x720 with 1 Axes>"
      ]
     },
     "metadata": {
      "needs_background": "light"
     },
     "output_type": "display_data"
    }
   ],
   "source": [
    "#Plot Total users for each year and company\n",
    "fig_dims = (15, 10)\n",
    "fig, ax = plt.subplots(figsize=fig_dims)\n",
    "df10=Total_users1\n",
    "palette = sns.set_color_codes('bright')\n",
    "chart = sns.barplot(x=\"Year\", y='Total users', data=df10, hue='Company', palette=['b','y'])\n",
    "\n",
    "for c in chart.patches:\n",
    "    chart.annotate(\"%.0f\" % c.get_height(), (c.get_x() + c.get_width() / 2., c.get_height()),\n",
    "        ha='center', va='center', fontsize=10, color='black', xytext=(0, 15),\n",
    "        textcoords='offset points')"
   ]
  },
  {
   "cell_type": "code",
   "execution_count": 111,
   "id": "f9a96f99",
   "metadata": {},
   "outputs": [],
   "source": [
    "# If we analyze the number of users and profit generated by each of the companies over the three years, we can see, \n",
    "# the yellow company has the largest number of users over the three years, with the largest number of users in 2017. \n",
    "# In the case of the benefits generated, the yellow company is superior to the pink one, with the highest profit in 2017."
   ]
  },
  {
   "cell_type": "code",
   "execution_count": 38,
   "id": "6ce5e692",
   "metadata": {},
   "outputs": [],
   "source": [
    "#Calculate the total profit based on each city and company\n",
    "Total_profit2 = df4.groupby(['Company','City'])['Profit'].sum().reset_index(name='Total profit')"
   ]
  },
  {
   "cell_type": "code",
   "execution_count": 39,
   "id": "f9ceec18",
   "metadata": {},
   "outputs": [
    {
     "data": {
      "image/png": "[encoded data removed]",
      "text/plain": [
       "<Figure size 1080x720 with 1 Axes>"
      ]
     },
     "metadata": {
      "needs_background": "light"
     },
     "output_type": "display_data"
    }
   ],
   "source": [
    "#Plot Total profit for each city and company\n",
    "fig_dims = (15, 10)\n",
    "fig, ax = plt.subplots(figsize=fig_dims)\n",
    "df10=Total_profit2\n",
    "palette = sns.set_color_codes('bright')\n",
    "chart = sns.barplot(x=\"City\", y='Total profit', data=df10, hue='Company', palette=['r','y'])\n",
    "plt.xticks(rotation=45, ha='right')\n",
    "\n",
    "for c in chart.patches:\n",
    "    chart.annotate(\"%.0f\" % c.get_height(), (c.get_x() + c.get_width() / 2., c.get_height()),\n",
    "        ha='center', va='center', fontsize=10, color='black', xytext=(0, 15),\n",
    "        textcoords='offset points')"
   ]
  },
  {
   "cell_type": "code",
   "execution_count": 40,
   "id": "81af6336",
   "metadata": {},
   "outputs": [],
   "source": [
    "#Group Company and City and count the number of users\n",
    "Total_users2 = df4.groupby(['Company','City'])['Users'].count().reset_index(name='Total users')"
   ]
  },
  {
   "cell_type": "code",
   "execution_count": 41,
   "id": "2f066d2b",
   "metadata": {},
   "outputs": [
    {
     "data": {
      "image/png": "[encoded data removed]",
      "text/plain": [
       "<Figure size 1080x720 with 1 Axes>"
      ]
     },
     "metadata": {
      "needs_background": "light"
     },
     "output_type": "display_data"
    }
   ],
   "source": [
    "#Plot Total users for each city and company\n",
    "fig_dims = (15, 10)\n",
    "fig, ax = plt.subplots(figsize=fig_dims)\n",
    "df10=Total_users2\n",
    "palette = sns.set_color_codes('bright')\n",
    "chart = sns.barplot(x=\"City\", y='Total users', data=df10, hue='Company', palette=['b','y'])\n",
    "plt.xticks(rotation=45, ha='right')\n",
    "\n",
    "for c in chart.patches:\n",
    "    chart.annotate(\"%.0f\" % c.get_height(), (c.get_x() + c.get_width() / 2., c.get_height()),\n",
    "        ha='center', va='center', fontsize=10, color='black', xytext=(0, 15),\n",
    "        textcoords='offset points')"
   ]
  },
  {
   "cell_type": "code",
   "execution_count": 110,
   "id": "668d21e2",
   "metadata": {},
   "outputs": [],
   "source": [
    "# As we can see, there is a relationship between the number of users of the company and the profit generated.\n",
    "# The yellow company has a greater presence in all cities than the pink company.\n",
    "# It generates a greater profit since it has a greater number of users. \n",
    "# The cities with the highest number of users and therefore economic benefit are New York, Washington,Los Angeles, Chicago."
   ]
  },
  {
   "cell_type": "code",
   "execution_count": 42,
   "id": "455c3ae5",
   "metadata": {},
   "outputs": [],
   "source": [
    "#Create age groups.Group Company and Agegroups and sum all profit\n",
    "bins= [18,25,40,60,100]\n",
    "labels = ['18-25','26-40','41-60','60+']\n",
    "df4['Agegroup'] = pd.cut(df4['Age'], bins=bins, labels=labels)\n",
    "Total_profit3 = df4.groupby(['Company','Agegroup'])['Profit'].sum().reset_index(name='Total profit')"
   ]
  },
  {
   "cell_type": "code",
   "execution_count": 43,
   "id": "3025887a",
   "metadata": {},
   "outputs": [
    {
     "data": {
      "image/png": "[encoded data removed]",
      "text/plain": [
       "<Figure size 1080x720 with 1 Axes>"
      ]
     },
     "metadata": {
      "needs_background": "light"
     },
     "output_type": "display_data"
    }
   ],
   "source": [
    "#Plot Total profit for each company and agegroup \n",
    "fig_dims = (15, 10)\n",
    "fig, ax = plt.subplots(figsize=fig_dims)\n",
    "df10=Total_profit3\n",
    "palette = sns.set_color_codes('bright')\n",
    "chart = sns.barplot(x=\"Company\", y='Total profit', data=df10, hue='Agegroup', palette=['r','y','b','g'])\n",
    "\n",
    "for c in chart.patches:\n",
    "    chart.annotate(\"%.0f\" % c.get_height(), (c.get_x() + c.get_width() / 2., c.get_height()),\n",
    "        ha='center', va='center', fontsize=10, color='black', xytext=(0, 15),\n",
    "        textcoords='offset points')"
   ]
  },
  {
   "cell_type": "code",
   "execution_count": 81,
   "id": "b2dbd09d",
   "metadata": {},
   "outputs": [],
   "source": [
    "import warnings\n",
    "import itertools\n",
    "import numpy as np\n",
    "import matplotlib.pyplot as plt\n",
    "warnings.filterwarnings(\"ignore\")\n",
    "plt.style.use('fivethirtyeight')\n",
    "import pandas as pd\n",
    "import statsmodels.api as sm\n",
    "import matplotlib\n",
    "matplotlib.rcParams['axes.labelsize'] = 14\n",
    "matplotlib.rcParams['xtick.labelsize'] = 12\n",
    "matplotlib.rcParams['ytick.labelsize'] = 12\n",
    "matplotlib.rcParams['text.color'] = 'k'"
   ]
  },
  {
   "cell_type": "code",
   "execution_count": 82,
   "id": "8fa75bb5",
   "metadata": {},
   "outputs": [
    {
     "data": {
      "text/html": [
       "<div>\n",
       "<style scoped>\n",
       "    .dataframe tbody tr th:only-of-type {\n",
       "        vertical-align: middle;\n",
       "    }\n",
       "\n",
       "    .dataframe tbody tr th {\n",
       "        vertical-align: top;\n",
       "    }\n",
       "\n",
       "    .dataframe thead th {\n",
       "        text-align: right;\n",
       "    }\n",
       "</style>\n",
       "<table border=\"1\" class=\"dataframe\">\n",
       "  <thead>\n",
       "    <tr style=\"text-align: right;\">\n",
       "      <th></th>\n",
       "      <th>Transaction ID</th>\n",
       "      <th>Customer ID</th>\n",
       "      <th>Gender</th>\n",
       "      <th>Age</th>\n",
       "      <th>Income (USD/Month)</th>\n",
       "      <th>Company</th>\n",
       "      <th>City</th>\n",
       "      <th>Population</th>\n",
       "      <th>Users</th>\n",
       "      <th>Date of Travel</th>\n",
       "      <th>KM Travelled</th>\n",
       "      <th>Price Charged</th>\n",
       "      <th>Cost of Trip</th>\n",
       "      <th>Profit</th>\n",
       "      <th>Year</th>\n",
       "      <th>Agegroup</th>\n",
       "    </tr>\n",
       "  </thead>\n",
       "  <tbody>\n",
       "    <tr>\n",
       "      <th>0</th>\n",
       "      <td>10000011</td>\n",
       "      <td>29290</td>\n",
       "      <td>Male</td>\n",
       "      <td>28</td>\n",
       "      <td>10813</td>\n",
       "      <td>Pink Cab</td>\n",
       "      <td>ATLANTA GA</td>\n",
       "      <td>814,885</td>\n",
       "      <td>24701.0</td>\n",
       "      <td>2016-01-08</td>\n",
       "      <td>30.45</td>\n",
       "      <td>370.95</td>\n",
       "      <td>313.6350</td>\n",
       "      <td>57.3150</td>\n",
       "      <td>2016</td>\n",
       "      <td>26-40</td>\n",
       "    </tr>\n",
       "    <tr>\n",
       "      <th>1</th>\n",
       "      <td>10351127</td>\n",
       "      <td>29290</td>\n",
       "      <td>Male</td>\n",
       "      <td>28</td>\n",
       "      <td>10813</td>\n",
       "      <td>Yellow Cab</td>\n",
       "      <td>ATLANTA GA</td>\n",
       "      <td>814,885</td>\n",
       "      <td>24701.0</td>\n",
       "      <td>2018-07-21</td>\n",
       "      <td>26.19</td>\n",
       "      <td>598.70</td>\n",
       "      <td>317.4228</td>\n",
       "      <td>281.2772</td>\n",
       "      <td>2018</td>\n",
       "      <td>26-40</td>\n",
       "    </tr>\n",
       "  </tbody>\n",
       "</table>\n",
       "</div>"
      ],
      "text/plain": [
       "   Transaction ID  Customer ID Gender  Age  Income (USD/Month)     Company  \\\n",
       "0        10000011        29290   Male   28               10813    Pink Cab   \n",
       "1        10351127        29290   Male   28               10813  Yellow Cab   \n",
       "\n",
       "         City Population    Users Date of Travel  KM Travelled  Price Charged  \\\n",
       "0  ATLANTA GA   814,885   24701.0     2016-01-08         30.45         370.95   \n",
       "1  ATLANTA GA   814,885   24701.0     2018-07-21         26.19         598.70   \n",
       "\n",
       "   Cost of Trip    Profit  Year Agegroup  \n",
       "0      313.6350   57.3150  2016    26-40  \n",
       "1      317.4228  281.2772  2018    26-40  "
      ]
     },
     "execution_count": 82,
     "metadata": {},
     "output_type": "execute_result"
    }
   ],
   "source": [
    "df4.head(2)"
   ]
  },
  {
   "cell_type": "code",
   "execution_count": 83,
   "id": "cde4ab5d",
   "metadata": {},
   "outputs": [],
   "source": [
    "pink = df4.loc[df4['Company'] == 'Pink Cab']"
   ]
  },
  {
   "cell_type": "code",
   "execution_count": 84,
   "id": "2caf5783",
   "metadata": {},
   "outputs": [
    {
     "data": {
      "text/plain": [
       "Transaction ID                 int64\n",
       "Customer ID                    int64\n",
       "Gender                        object\n",
       "Age                            int64\n",
       "Income (USD/Month)             int64\n",
       "Company                       object\n",
       "City                          object\n",
       "Population                    object\n",
       "Users                        float64\n",
       "Date of Travel        datetime64[ns]\n",
       "KM Travelled                 float64\n",
       "Price Charged                float64\n",
       "Cost of Trip                 float64\n",
       "Profit                       float64\n",
       "Year                           int64\n",
       "Agegroup                    category\n",
       "dtype: object"
      ]
     },
     "execution_count": 84,
     "metadata": {},
     "output_type": "execute_result"
    }
   ],
   "source": [
    "df4['Date of Travel'] = pd.to_datetime(df4['Date of Travel']).dt.normalize()\n",
    "df4.dtypes"
   ]
  },
  {
   "cell_type": "code",
   "execution_count": 85,
   "id": "62f0f5ee",
   "metadata": {},
   "outputs": [
    {
     "data": {
      "text/plain": [
       "DatetimeIndex(['2016-01-08', '2016-01-06', '2018-10-27', '2016-01-02',\n",
       "               '2016-01-07', '2016-10-27', '2018-05-11', '2016-01-03',\n",
       "               '2016-01-07', '2016-09-04',\n",
       "               ...\n",
       "               '2017-11-24', '2018-07-27', '2017-11-02', '2018-07-14',\n",
       "               '2018-12-04', '2017-07-23', '2017-11-19', '2018-12-02',\n",
       "               '2017-07-23', '2017-11-27'],\n",
       "              dtype='datetime64[ns]', name='Date of Travel', length=84711, freq=None)"
      ]
     },
     "execution_count": 85,
     "metadata": {},
     "output_type": "execute_result"
    }
   ],
   "source": [
    "pink = pink.set_index('Date of Travel')\n",
    "pink.index"
   ]
  },
  {
   "cell_type": "code",
   "execution_count": 86,
   "id": "ec22bdec",
   "metadata": {},
   "outputs": [],
   "source": [
    "y = pink['Profit'].resample('m').sum()"
   ]
  },
  {
   "cell_type": "code",
   "execution_count": 87,
   "id": "68508880",
   "metadata": {},
   "outputs": [
    {
     "data": {
      "text/plain": [
       "Date of Travel\n",
       "2016-01-31     71694.521\n",
       "2016-02-29     86134.994\n",
       "2016-03-31     87801.183\n",
       "2016-04-30     82591.853\n",
       "2016-05-31     61550.958\n",
       "2016-06-30     71103.252\n",
       "2016-07-31    105112.696\n",
       "2016-08-31    131573.364\n",
       "2016-09-30    136229.398\n",
       "2016-10-31    238381.894\n",
       "2016-11-30    282447.805\n",
       "2016-12-31    335120.483\n",
       "2017-01-31    147747.738\n",
       "2017-02-28     90501.101\n",
       "2017-03-31    115159.743\n",
       "2017-04-30     91987.847\n",
       "2017-05-31     62724.944\n",
       "2017-06-30    101300.478\n",
       "2017-07-31    117348.380\n",
       "2017-08-31    142924.014\n",
       "2017-09-30    195012.508\n",
       "2017-10-31    262196.635\n",
       "2017-11-30    284955.740\n",
       "2017-12-31    393323.166\n",
       "2018-01-31    164184.735\n",
       "2018-02-28     72665.064\n",
       "2018-03-31     94190.088\n",
       "2018-04-30     71238.395\n",
       "2018-05-31     43633.932\n",
       "2018-06-30     60311.503\n",
       "2018-07-31     78623.979\n",
       "2018-08-31    113753.922\n",
       "2018-09-30    137849.397\n",
       "2018-10-31    191592.614\n",
       "2018-11-30    239337.731\n",
       "2018-12-31    285605.927\n",
       "Freq: M, Name: Profit, dtype: float64"
      ]
     },
     "execution_count": 87,
     "metadata": {},
     "output_type": "execute_result"
    }
   ],
   "source": [
    "y['2016':]"
   ]
  },
  {
   "cell_type": "code",
   "execution_count": 88,
   "id": "d1613c33",
   "metadata": {},
   "outputs": [
    {
     "data": {
      "image/png": "[encoded data removed]",
      "text/plain": [
       "<Figure size 1080x432 with 1 Axes>"
      ]
     },
     "metadata": {},
     "output_type": "display_data"
    }
   ],
   "source": [
    "y.plot(figsize=(15, 6))\n",
    "plt.show()"
   ]
  },
  {
   "cell_type": "code",
   "execution_count": 89,
   "id": "37fb9136",
   "metadata": {},
   "outputs": [
    {
     "name": "stdout",
     "output_type": "stream",
     "text": [
      "Examples of parameter combinations for Seasonal ARIMA...\n",
      "SARIMAX: (0, 0, 1) x (0, 0, 1, 12)\n",
      "SARIMAX: (0, 0, 1) x (0, 1, 0, 12)\n",
      "SARIMAX: (0, 1, 0) x (0, 1, 1, 12)\n",
      "SARIMAX: (0, 1, 0) x (1, 0, 0, 12)\n"
     ]
    }
   ],
   "source": [
    "p = d = q = range(0, 2)\n",
    "pdq = list(itertools.product(p, d, q))\n",
    "seasonal_pdq = [(x[0], x[1], x[2], 12) for x in list(itertools.product(p, d, q))]\n",
    "print('Examples of parameter combinations for Seasonal ARIMA...')\n",
    "print('SARIMAX: {} x {}'.format(pdq[1], seasonal_pdq[1]))\n",
    "print('SARIMAX: {} x {}'.format(pdq[1], seasonal_pdq[2]))\n",
    "print('SARIMAX: {} x {}'.format(pdq[2], seasonal_pdq[3]))\n",
    "print('SARIMAX: {} x {}'.format(pdq[2], seasonal_pdq[4]))"
   ]
  },
  {
   "cell_type": "code",
   "execution_count": 90,
   "id": "a29ace40",
   "metadata": {},
   "outputs": [
    {
     "name": "stdout",
     "output_type": "stream",
     "text": [
      "ARIMA(0, 0, 0)x(0, 0, 0, 12)12 - AIC:945.1826835451569\n",
      "ARIMA(0, 0, 0)x(0, 0, 1, 12)12 - AIC:589.9673518602648\n",
      "ARIMA(0, 0, 0)x(0, 1, 0, 12)12 - AIC:556.175260866259\n",
      "ARIMA(0, 0, 0)x(0, 1, 1, 12)12 - AIC:258.43130505081524\n",
      "ARIMA(0, 0, 0)x(1, 0, 0, 12)12 - AIC:581.227813038008\n",
      "ARIMA(0, 0, 0)x(1, 0, 1, 12)12 - AIC:572.0235409810915\n",
      "ARIMA(0, 0, 0)x(1, 1, 0, 12)12 - AIC:290.59726056579467\n",
      "ARIMA(0, 0, 0)x(1, 1, 1, 12)12 - AIC:260.35615929791516\n",
      "ARIMA(0, 0, 1)x(0, 0, 0, 12)12 - AIC:898.7195609753377\n",
      "ARIMA(0, 0, 1)x(0, 0, 1, 12)12 - AIC:577.329261467662\n",
      "ARIMA(0, 0, 1)x(0, 1, 0, 12)12 - AIC:526.0467952509782\n",
      "ARIMA(0, 0, 1)x(0, 1, 1, 12)12 - AIC:237.98892483425186\n",
      "ARIMA(0, 0, 1)x(1, 0, 0, 12)12 - AIC:627.320888277596\n",
      "ARIMA(0, 0, 1)x(1, 0, 1, 12)12 - AIC:577.0580358176428\n",
      "ARIMA(0, 0, 1)x(1, 1, 0, 12)12 - AIC:286.7862746659755\n",
      "ARIMA(0, 0, 1)x(1, 1, 1, 12)12 - AIC:239.89783393930625\n",
      "ARIMA(0, 1, 0)x(0, 0, 0, 12)12 - AIC:854.1016677496688\n",
      "ARIMA(0, 1, 0)x(0, 0, 1, 12)12 - AIC:538.1540987259216\n",
      "ARIMA(0, 1, 0)x(0, 1, 0, 12)12 - AIC:516.7107179189201\n",
      "ARIMA(0, 1, 0)x(0, 1, 1, 12)12 - AIC:230.35679476469878\n",
      "ARIMA(0, 1, 0)x(1, 0, 0, 12)12 - AIC:546.0665699518223\n",
      "ARIMA(0, 1, 0)x(1, 0, 1, 12)12 - AIC:537.8519614749521\n",
      "ARIMA(0, 1, 0)x(1, 1, 0, 12)12 - AIC:257.39353085673133\n",
      "ARIMA(0, 1, 0)x(1, 1, 1, 12)12 - AIC:232.18668133656868\n",
      "ARIMA(0, 1, 1)x(0, 0, 0, 12)12 - AIC:831.4519179136071\n",
      "ARIMA(0, 1, 1)x(0, 0, 1, 12)12 - AIC:518.0967789201363\n",
      "ARIMA(0, 1, 1)x(0, 1, 0, 12)12 - AIC:491.94362950457736\n",
      "ARIMA(0, 1, 1)x(0, 1, 1, 12)12 - AIC:208.66696511427557\n",
      "ARIMA(0, 1, 1)x(1, 0, 0, 12)12 - AIC:565.4752229106676\n",
      "ARIMA(0, 1, 1)x(1, 0, 1, 12)12 - AIC:517.4119015449003\n",
      "ARIMA(0, 1, 1)x(1, 1, 0, 12)12 - AIC:256.11512372920686\n",
      "ARIMA(0, 1, 1)x(1, 1, 1, 12)12 - AIC:210.37788896231368\n",
      "ARIMA(1, 0, 0)x(0, 0, 0, 12)12 - AIC:879.7935530726264\n",
      "ARIMA(1, 0, 0)x(0, 0, 1, 12)12 - AIC:565.7172844214131\n",
      "ARIMA(1, 0, 0)x(0, 1, 0, 12)12 - AIC:543.5947222637219\n",
      "ARIMA(1, 0, 0)x(0, 1, 1, 12)12 - AIC:253.9695606020191\n",
      "ARIMA(1, 0, 0)x(1, 0, 0, 12)12 - AIC:562.8942470214193\n",
      "ARIMA(1, 0, 0)x(1, 0, 1, 12)12 - AIC:562.1585841687055\n",
      "ARIMA(1, 0, 0)x(1, 1, 0, 12)12 - AIC:260.2068407792491\n",
      "ARIMA(1, 0, 0)x(1, 1, 1, 12)12 - AIC:255.83131910819\n",
      "ARIMA(1, 0, 1)x(0, 0, 0, 12)12 - AIC:856.8454113314491\n",
      "ARIMA(1, 0, 1)x(0, 0, 1, 12)12 - AIC:543.3429062220605\n",
      "ARIMA(1, 0, 1)x(0, 1, 0, 12)12 - AIC:516.6688699345482\n",
      "ARIMA(1, 0, 1)x(0, 1, 1, 12)12 - AIC:235.31588691983876\n",
      "ARIMA(1, 0, 1)x(1, 0, 0, 12)12 - AIC:565.8712746988389\n",
      "ARIMA(1, 0, 1)x(1, 0, 1, 12)12 - AIC:541.3633302325268\n",
      "ARIMA(1, 0, 1)x(1, 1, 0, 12)12 - AIC:256.5496143052461\n",
      "ARIMA(1, 0, 1)x(1, 1, 1, 12)12 - AIC:237.13106961345736\n",
      "ARIMA(1, 1, 0)x(0, 0, 0, 12)12 - AIC:855.5318036778582\n",
      "ARIMA(1, 1, 0)x(0, 0, 1, 12)12 - AIC:540.8052521553982\n",
      "ARIMA(1, 1, 0)x(0, 1, 0, 12)12 - AIC:514.2282353740395\n",
      "ARIMA(1, 1, 0)x(0, 1, 1, 12)12 - AIC:229.87332951359778\n",
      "ARIMA(1, 1, 0)x(1, 0, 0, 12)12 - AIC:538.440386007509\n",
      "ARIMA(1, 1, 0)x(1, 0, 1, 12)12 - AIC:540.0151722460397\n",
      "ARIMA(1, 1, 0)x(1, 1, 0, 12)12 - AIC:231.0498437012858\n",
      "ARIMA(1, 1, 0)x(1, 1, 1, 12)12 - AIC:231.4880914162658\n",
      "ARIMA(1, 1, 1)x(0, 0, 0, 12)12 - AIC:833.3951546821756\n",
      "ARIMA(1, 1, 1)x(0, 0, 1, 12)12 - AIC:519.904854802217\n",
      "ARIMA(1, 1, 1)x(0, 1, 0, 12)12 - AIC:493.1776228248827\n",
      "ARIMA(1, 1, 1)x(0, 1, 1, 12)12 - AIC:210.20488834449156\n",
      "ARIMA(1, 1, 1)x(1, 0, 0, 12)12 - AIC:541.9999481310338\n",
      "ARIMA(1, 1, 1)x(1, 0, 1, 12)12 - AIC:519.2196388376392\n",
      "ARIMA(1, 1, 1)x(1, 1, 0, 12)12 - AIC:233.53997576239243\n",
      "ARIMA(1, 1, 1)x(1, 1, 1, 12)12 - AIC:211.90829989255948\n"
     ]
    }
   ],
   "source": [
    "for param in pdq:\n",
    "    for param_seasonal in seasonal_pdq:\n",
    "        try:\n",
    "            mod = sm.tsa.statespace.SARIMAX(y,\n",
    "                                            order=param,\n",
    "                                            seasonal_order=param_seasonal,\n",
    "                                            enforce_stationarity=False,\n",
    "                                            enforce_invertibility=False)\n",
    "            results = mod.fit()\n",
    "            print('ARIMA{}x{}12 - AIC:{}'.format(param, param_seasonal, results.aic))\n",
    "        except:\n",
    "            continue"
   ]
  },
  {
   "cell_type": "code",
   "execution_count": 91,
   "id": "0c5f6955",
   "metadata": {},
   "outputs": [
    {
     "name": "stdout",
     "output_type": "stream",
     "text": [
      "==============================================================================\n",
      "                 coef    std err          z      P>|z|      [0.025      0.975]\n",
      "------------------------------------------------------------------------------\n",
      "ar.L1         -0.7422     10.917     -0.068      0.946     -22.138      20.654\n",
      "ma.L1          0.2662      6.825      0.039      0.969     -13.111      13.643\n",
      "ar.S.L12      -0.5957      3.697     -0.161      0.872      -7.842       6.650\n",
      "sigma2      7.726e+08   1.86e-08   4.15e+16      0.000    7.73e+08    7.73e+08\n",
      "==============================================================================\n"
     ]
    }
   ],
   "source": [
    "mod = sm.tsa.statespace.SARIMAX(y,\n",
    "                                order=(1, 1, 1),\n",
    "                                seasonal_order=(1, 1, 0, 12),\n",
    "                                enforce_stationarity=False,\n",
    "                                enforce_invertibility=False)\n",
    "results = mod.fit()\n",
    "print(results.summary().tables[1])"
   ]
  },
  {
   "cell_type": "code",
   "execution_count": 93,
   "id": "deabaae4",
   "metadata": {},
   "outputs": [
    {
     "data": {
      "image/png": "[encoded data removed]",
      "text/plain": [
       "<Figure size 1008x504 with 1 Axes>"
      ]
     },
     "metadata": {},
     "output_type": "display_data"
    }
   ],
   "source": [
    "pred_uc = results.get_forecast(steps=10)\n",
    "pred_ci = pred_uc.conf_int()\n",
    "ax = y.plot(label='Pink cab observed', figsize=(14, 7))\n",
    "pred_uc.predicted_mean.plot(ax=ax, label='Pink cab Forecast')\n",
    "ax.fill_between(pred_ci.index,\n",
    "                pred_ci.iloc[:, 0],\n",
    "                pred_ci.iloc[:, 1], color='k', alpha=.25)\n",
    "ax.set_xlabel('Date of Travel')\n",
    "ax.set_ylabel('Profit')\n",
    "plt.legend()\n",
    "plt.show()"
   ]
  },
  {
   "cell_type": "code",
   "execution_count": 94,
   "id": "3a00a064",
   "metadata": {},
   "outputs": [],
   "source": [
    "yellow = df4.loc[df4['Company'] == 'Yellow Cab']"
   ]
  },
  {
   "cell_type": "code",
   "execution_count": 95,
   "id": "cdb5b318",
   "metadata": {},
   "outputs": [
    {
     "data": {
      "text/plain": [
       "Transaction ID                 int64\n",
       "Customer ID                    int64\n",
       "Gender                        object\n",
       "Age                            int64\n",
       "Income (USD/Month)             int64\n",
       "Company                       object\n",
       "City                          object\n",
       "Population                    object\n",
       "Users                        float64\n",
       "Date of Travel        datetime64[ns]\n",
       "KM Travelled                 float64\n",
       "Price Charged                float64\n",
       "Cost of Trip                 float64\n",
       "Profit                       float64\n",
       "Year                           int64\n",
       "Agegroup                    category\n",
       "dtype: object"
      ]
     },
     "execution_count": 95,
     "metadata": {},
     "output_type": "execute_result"
    }
   ],
   "source": [
    "df4['Date of Travel'] = pd.to_datetime(df4['Date of Travel']).dt.normalize()\n",
    "df4.dtypes"
   ]
  },
  {
   "cell_type": "code",
   "execution_count": 96,
   "id": "78d28060",
   "metadata": {},
   "outputs": [
    {
     "data": {
      "text/plain": [
       "DatetimeIndex(['2018-07-21', '2018-11-23', '2018-04-21', '2018-05-04',\n",
       "               '2016-09-21', '2017-06-23', '2018-04-21', '2017-01-27',\n",
       "               '2016-11-06', '2017-06-03',\n",
       "               ...\n",
       "               '2018-10-04', '2017-12-06', '2018-03-15', '2018-01-02',\n",
       "               '2017-12-17', '2018-03-03', '2018-04-13', '2018-07-06',\n",
       "               '2018-08-02', '2018-08-30'],\n",
       "              dtype='datetime64[ns]', name='Date of Travel', length=274681, freq=None)"
      ]
     },
     "execution_count": 96,
     "metadata": {},
     "output_type": "execute_result"
    }
   ],
   "source": [
    "yellow = yellow.set_index('Date of Travel')\n",
    "yellow.index"
   ]
  },
  {
   "cell_type": "code",
   "execution_count": 97,
   "id": "634fc61e",
   "metadata": {},
   "outputs": [],
   "source": [
    "z = yellow['Profit'].resample('m').sum()"
   ]
  },
  {
   "cell_type": "code",
   "execution_count": 98,
   "id": "96720e44",
   "metadata": {},
   "outputs": [
    {
     "data": {
      "text/plain": [
       "Date of Travel\n",
       "2016-01-31    5.894389e+05\n",
       "2016-02-29    6.399025e+05\n",
       "2016-03-31    6.733911e+05\n",
       "2016-04-30    7.277502e+05\n",
       "2016-05-31    8.567285e+05\n",
       "2016-06-30    8.325674e+05\n",
       "2016-07-31    7.299889e+05\n",
       "2016-08-31    7.471874e+05\n",
       "2016-09-30    1.080879e+06\n",
       "2016-10-31    1.192376e+06\n",
       "2016-11-30    1.109232e+06\n",
       "2016-12-31    1.367690e+06\n",
       "2017-01-31    9.640102e+05\n",
       "2017-02-28    7.621878e+05\n",
       "2017-03-31    8.358901e+05\n",
       "2017-04-30    8.480482e+05\n",
       "2017-05-31    9.707464e+05\n",
       "2017-06-30    8.507779e+05\n",
       "2017-07-31    8.482012e+05\n",
       "2017-08-31    9.508416e+05\n",
       "2017-09-30    1.330545e+06\n",
       "2017-10-31    1.357394e+06\n",
       "2017-11-30    1.291489e+06\n",
       "2017-12-31    1.645823e+06\n",
       "2018-01-31    1.014803e+06\n",
       "2018-02-28    6.288373e+05\n",
       "2018-03-31    7.793982e+05\n",
       "2018-04-30    7.044485e+05\n",
       "2018-05-31    8.368088e+05\n",
       "2018-06-30    8.251484e+05\n",
       "2018-07-31    6.527121e+05\n",
       "2018-08-31    7.990428e+05\n",
       "2018-09-30    1.072118e+06\n",
       "2018-10-31    1.158501e+06\n",
       "2018-11-30    1.298125e+06\n",
       "2018-12-31    1.349045e+06\n",
       "Freq: M, Name: Profit, dtype: float64"
      ]
     },
     "execution_count": 98,
     "metadata": {},
     "output_type": "execute_result"
    }
   ],
   "source": [
    "z['2016':]"
   ]
  },
  {
   "cell_type": "code",
   "execution_count": 99,
   "id": "9490c0f7",
   "metadata": {},
   "outputs": [
    {
     "data": {
      "image/png": "[encoded data removed]",
      "text/plain": [
       "<Figure size 1080x432 with 1 Axes>"
      ]
     },
     "metadata": {},
     "output_type": "display_data"
    }
   ],
   "source": [
    "z.plot(figsize=(15, 6))\n",
    "plt.show()"
   ]
  },
  {
   "cell_type": "code",
   "execution_count": 100,
   "id": "dcca5f52",
   "metadata": {},
   "outputs": [
    {
     "name": "stdout",
     "output_type": "stream",
     "text": [
      "Examples of parameter combinations for Seasonal ARIMA...\n",
      "SARIMAX: (0, 0, 1) x (0, 0, 1, 12)\n",
      "SARIMAX: (0, 0, 1) x (0, 1, 0, 12)\n",
      "SARIMAX: (0, 1, 0) x (0, 1, 1, 12)\n",
      "SARIMAX: (0, 1, 0) x (1, 0, 0, 12)\n"
     ]
    }
   ],
   "source": [
    "p = d = q = range(0, 2)\n",
    "pdq = list(itertools.product(p, d, q))\n",
    "seasonal_pdq = [(x[0], x[1], x[2], 12) for x in list(itertools.product(p, d, q))]\n",
    "print('Examples of parameter combinations for Seasonal ARIMA...')\n",
    "print('SARIMAX: {} x {}'.format(pdq[1], seasonal_pdq[1]))\n",
    "print('SARIMAX: {} x {}'.format(pdq[1], seasonal_pdq[2]))\n",
    "print('SARIMAX: {} x {}'.format(pdq[2], seasonal_pdq[3]))\n",
    "print('SARIMAX: {} x {}'.format(pdq[2], seasonal_pdq[4]))"
   ]
  },
  {
   "cell_type": "code",
   "execution_count": 101,
   "id": "767b6d2a",
   "metadata": {},
   "outputs": [
    {
     "name": "stdout",
     "output_type": "stream",
     "text": [
      "ARIMA(0, 0, 0)x(0, 0, 0, 12)12 - AIC:1068.1971150209865\n",
      "ARIMA(0, 0, 0)x(0, 0, 1, 12)12 - AIC:717.0474454385036\n",
      "ARIMA(0, 0, 0)x(0, 1, 0, 12)12 - AIC:621.3072749231233\n",
      "ARIMA(0, 0, 0)x(0, 1, 1, 12)12 - AIC:291.78373661075045\n",
      "ARIMA(0, 0, 0)x(1, 0, 0, 12)12 - AIC:653.1081145275411\n",
      "ARIMA(0, 0, 0)x(1, 0, 1, 12)12 - AIC:622.6694187634098\n",
      "ARIMA(0, 0, 0)x(1, 1, 0, 12)12 - AIC:317.75709786022736\n",
      "ARIMA(0, 0, 0)x(1, 1, 1, 12)12 - AIC:293.6175902082483\n",
      "ARIMA(0, 0, 1)x(0, 0, 0, 12)12 - AIC:1016.4483056968099\n",
      "ARIMA(0, 0, 1)x(0, 0, 1, 12)12 - AIC:656.4430184541086\n",
      "ARIMA(0, 0, 1)x(0, 1, 0, 12)12 - AIC:586.5809822475616\n",
      "ARIMA(0, 0, 1)x(0, 1, 1, 12)12 - AIC:266.5326928602557\n",
      "ARIMA(0, 0, 1)x(1, 0, 0, 12)12 - AIC:713.7629815338374\n",
      "ARIMA(0, 0, 1)x(1, 0, 1, 12)12 - AIC:656.4877880608777\n",
      "ARIMA(0, 0, 1)x(1, 1, 0, 12)12 - AIC:319.0144502084394\n",
      "ARIMA(0, 0, 1)x(1, 1, 1, 12)12 - AIC:268.4251616601656\n",
      "ARIMA(0, 1, 0)x(0, 0, 0, 12)12 - AIC:931.9311560513399\n",
      "ARIMA(0, 1, 0)x(0, 0, 1, 12)12 - AIC:590.2921920074505\n",
      "ARIMA(0, 1, 0)x(0, 1, 0, 12)12 - AIC:581.8141087239317\n",
      "ARIMA(0, 1, 0)x(0, 1, 1, 12)12 - AIC:264.66278651602033\n",
      "ARIMA(0, 1, 0)x(1, 0, 0, 12)12 - AIC:611.7311764817908\n",
      "ARIMA(0, 1, 0)x(1, 0, 1, 12)12 - AIC:589.8696151511431\n",
      "ARIMA(0, 1, 0)x(1, 1, 0, 12)12 - AIC:297.0316878715435\n",
      "ARIMA(0, 1, 0)x(1, 1, 1, 12)12 - AIC:266.4853799292314\n",
      "ARIMA(0, 1, 1)x(0, 0, 0, 12)12 - AIC:907.5267502017475\n",
      "ARIMA(0, 1, 1)x(0, 0, 1, 12)12 - AIC:566.9687443393589\n",
      "ARIMA(0, 1, 1)x(0, 1, 0, 12)12 - AIC:554.9196190564331\n",
      "ARIMA(0, 1, 1)x(0, 1, 1, 12)12 - AIC:239.77513943549954\n",
      "ARIMA(0, 1, 1)x(1, 0, 0, 12)12 - AIC:622.0059208057683\n",
      "ARIMA(0, 1, 1)x(1, 0, 1, 12)12 - AIC:567.4253698487948\n",
      "ARIMA(0, 1, 1)x(1, 1, 0, 12)12 - AIC:294.23256818325547\n",
      "ARIMA(0, 1, 1)x(1, 1, 1, 12)12 - AIC:241.48315070007962\n",
      "ARIMA(1, 0, 0)x(0, 0, 0, 12)12 - AIC:960.2717743607463\n",
      "ARIMA(1, 0, 0)x(0, 0, 1, 12)12 - AIC:620.609403522792\n",
      "ARIMA(1, 0, 0)x(0, 1, 0, 12)12 - AIC:607.0753582360345\n",
      "ARIMA(1, 0, 0)x(0, 1, 1, 12)12 - AIC:286.9244024176199\n",
      "ARIMA(1, 0, 0)x(1, 0, 0, 12)12 - AIC:618.831867920894\n",
      "ARIMA(1, 0, 0)x(1, 0, 1, 12)12 - AIC:616.0321520843097\n",
      "ARIMA(1, 0, 0)x(1, 1, 0, 12)12 - AIC:286.89626305169196\n",
      "ARIMA(1, 0, 0)x(1, 1, 1, 12)12 - AIC:288.72322040051165\n",
      "ARIMA(1, 0, 1)x(0, 0, 0, 12)12 - AIC:935.9314139425535\n",
      "ARIMA(1, 0, 1)x(0, 0, 1, 12)12 - AIC:595.929391733316\n",
      "ARIMA(1, 0, 1)x(0, 1, 0, 12)12 - AIC:580.8530797271155\n",
      "ARIMA(1, 0, 1)x(0, 1, 1, 12)12 - AIC:266.5140739538912\n",
      "ARIMA(1, 0, 1)x(1, 0, 0, 12)12 - AIC:622.109093349458\n",
      "ARIMA(1, 0, 1)x(1, 0, 1, 12)12 - AIC:593.3372084762283\n",
      "ARIMA(1, 0, 1)x(1, 1, 0, 12)12 - AIC:288.38160401813093\n",
      "ARIMA(1, 0, 1)x(1, 1, 1, 12)12 - AIC:265.7032492685541\n",
      "ARIMA(1, 1, 0)x(0, 0, 0, 12)12 - AIC:933.8771238895102\n",
      "ARIMA(1, 1, 0)x(0, 0, 1, 12)12 - AIC:593.1910022499459\n",
      "ARIMA(1, 1, 0)x(0, 1, 0, 12)12 - AIC:580.3960567249984\n",
      "ARIMA(1, 1, 0)x(0, 1, 1, 12)12 - AIC:263.913108141496\n",
      "ARIMA(1, 1, 0)x(1, 0, 0, 12)12 - AIC:592.6304555988179\n",
      "ARIMA(1, 1, 0)x(1, 0, 1, 12)12 - AIC:592.57651593202\n",
      "ARIMA(1, 1, 0)x(1, 1, 0, 12)12 - AIC:264.24814045975023\n",
      "ARIMA(1, 1, 0)x(1, 1, 1, 12)12 - AIC:265.35126677960926\n",
      "ARIMA(1, 1, 1)x(0, 0, 0, 12)12 - AIC:906.730643441061\n",
      "ARIMA(1, 1, 1)x(0, 0, 1, 12)12 - AIC:567.9748344086299\n",
      "ARIMA(1, 1, 1)x(0, 1, 0, 12)12 - AIC:556.7364326296097\n",
      "ARIMA(1, 1, 1)x(0, 1, 1, 12)12 - AIC:240.75593766997105\n",
      "ARIMA(1, 1, 1)x(1, 0, 0, 12)12 - AIC:595.7117606019045\n",
      "ARIMA(1, 1, 1)x(1, 0, 1, 12)12 - AIC:568.5850881528054\n",
      "ARIMA(1, 1, 1)x(1, 1, 0, 12)12 - AIC:266.30335776650816\n",
      "ARIMA(1, 1, 1)x(1, 1, 1, 12)12 - AIC:241.9254507475482\n"
     ]
    }
   ],
   "source": [
    "for param in pdq:\n",
    "    for param_seasonal in seasonal_pdq:\n",
    "        try:\n",
    "            mod = sm.tsa.statespace.SARIMAX(z,\n",
    "                                            order=param,\n",
    "                                            seasonal_order=param_seasonal,\n",
    "                                            enforce_stationarity=False,\n",
    "                                            enforce_invertibility=False)\n",
    "            results = mod.fit()\n",
    "            print('ARIMA{}x{}12 - AIC:{}'.format(param, param_seasonal, results.aic))\n",
    "        except:\n",
    "            continue"
   ]
  },
  {
   "cell_type": "code",
   "execution_count": 102,
   "id": "6da8ff0a",
   "metadata": {},
   "outputs": [
    {
     "name": "stdout",
     "output_type": "stream",
     "text": [
      "==============================================================================\n",
      "                 coef    std err          z      P>|z|      [0.025      0.975]\n",
      "------------------------------------------------------------------------------\n",
      "ar.L1         -0.7155      0.873     -0.819      0.413      -2.427       0.996\n",
      "ma.L1          0.1387      0.486      0.285      0.775      -0.814       1.091\n",
      "ar.S.L12      -0.9511      0.923     -1.030      0.303      -2.760       0.858\n",
      "sigma2      1.569e+10   3.78e-11   4.16e+20      0.000    1.57e+10    1.57e+10\n",
      "==============================================================================\n"
     ]
    }
   ],
   "source": [
    "mod = sm.tsa.statespace.SARIMAX(z,\n",
    "                                order=(1, 1, 1),\n",
    "                                seasonal_order=(1, 1, 0, 12),\n",
    "                                enforce_stationarity=False,\n",
    "                                enforce_invertibility=False)\n",
    "results = mod.fit()\n",
    "print(results.summary().tables[1])"
   ]
  },
  {
   "cell_type": "code",
   "execution_count": 104,
   "id": "ec983994",
   "metadata": {},
   "outputs": [
    {
     "data": {
      "image/png": "[encoded data removed]",
      "text/plain": [
       "<Figure size 1008x504 with 1 Axes>"
      ]
     },
     "metadata": {},
     "output_type": "display_data"
    }
   ],
   "source": [
    "pred_uc = results.get_forecast(steps=10)\n",
    "pred_ci = pred_uc.conf_int()\n",
    "ax = z.plot(label='Yellow cab observed', figsize=(14, 7))\n",
    "pred_uc.predicted_mean.plot(ax=ax, label='Yellow Cab Forecast')\n",
    "ax.fill_between(pred_ci.index,\n",
    "                pred_ci.iloc[:, 0],\n",
    "                pred_ci.iloc[:, 1], color='k', alpha=.25)\n",
    "ax.set_xlabel('Date of Travel')\n",
    "ax.set_ylabel('Profit')\n",
    "plt.legend()\n",
    "plt.show()"
   ]
  },
  {
   "cell_type": "code",
   "execution_count": 112,
   "id": "3484d4bf",
   "metadata": {},
   "outputs": [],
   "source": [
    "# 4. Conclusion\n",
    "\n",
    "# After the analysis carried out, we can affirm that the company in which it should be invested, \n",
    "# and therefore the one that will generate the most profit and the one that will have the most users \n",
    "# is the yellow company for the following reasons:\n",
    "\n",
    "\n",
    "# The yellow company has a greater number of users per year than the pink company.\n",
    "\n",
    "# The yellow company generates more profit per year than the pink company.\n",
    "\n",
    "# The yellow company has a greater number of users per city than the pink company.\n",
    "\n",
    "# The yellow company generates greater profit per city than the pink company.\n",
    "\n",
    "# The yellow company will generate a future profit greater than the pink company.\n"
   ]
  }
 ],
 "metadata": {
  "kernelspec": {
   "display_name": "Python 3",
   "language": "python",
   "name": "python3"
  },
  "language_info": {
   "codemirror_mode": {
    "name": "ipython",
    "version": 3
   },
   "file_extension": ".py",
   "mimetype": "text/x-python",
   "name": "python",
   "nbconvert_exporter": "python",
   "pygments_lexer": "ipython3",
   "version": "3.8.8"
  }
 },
 "nbformat": 4,
 "nbformat_minor": 5
}
