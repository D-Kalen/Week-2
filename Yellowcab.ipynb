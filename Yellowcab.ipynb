{
 "cells": [
  {
   "cell_type": "code",
   "execution_count": 1,
   "metadata": {},
   "outputs": [],
   "source": [
    "import pandas as pd\n",
    "import matplotlib.pyplot as plt\n",
    "import numpy as np\n",
    "import seaborn as sns"
   ]
  },
  {
   "cell_type": "code",
   "execution_count": 3,
   "metadata": {},
   "outputs": [],
   "source": [
    "df_yellowcab = pd.read_csv('./Yellowcab.csv')\n",
    "df_city = pd.read_csv('./City.csv')"
   ]
  },
  {
   "cell_type": "code",
   "execution_count": 4,
   "metadata": {},
   "outputs": [
    {
     "data": {
      "text/html": [
       "<div>\n",
       "<style scoped>\n",
       "    .dataframe tbody tr th:only-of-type {\n",
       "        vertical-align: middle;\n",
       "    }\n",
       "\n",
       "    .dataframe tbody tr th {\n",
       "        vertical-align: top;\n",
       "    }\n",
       "\n",
       "    .dataframe thead th {\n",
       "        text-align: right;\n",
       "    }\n",
       "</style>\n",
       "<table border=\"1\" class=\"dataframe\">\n",
       "  <thead>\n",
       "    <tr style=\"text-align: right;\">\n",
       "      <th></th>\n",
       "      <th>Unnamed: 0</th>\n",
       "      <th>Transaction ID</th>\n",
       "      <th>Date of Travel</th>\n",
       "      <th>Company</th>\n",
       "      <th>City</th>\n",
       "      <th>KM Travelled</th>\n",
       "      <th>Price Charged</th>\n",
       "      <th>Cost of Trip</th>\n",
       "      <th>Customer ID</th>\n",
       "      <th>Payment_Mode</th>\n",
       "      <th>Gender</th>\n",
       "      <th>Age</th>\n",
       "      <th>Income (USD/Month)</th>\n",
       "    </tr>\n",
       "  </thead>\n",
       "  <tbody>\n",
       "    <tr>\n",
       "      <th>0</th>\n",
       "      <td>0</td>\n",
       "      <td>10000384</td>\n",
       "      <td>2016-01-02</td>\n",
       "      <td>Yellow Cab</td>\n",
       "      <td>ATLANTA GA</td>\n",
       "      <td>33.93</td>\n",
       "      <td>1341.17</td>\n",
       "      <td>464.1624</td>\n",
       "      <td>27602</td>\n",
       "      <td>Card</td>\n",
       "      <td>Male</td>\n",
       "      <td>23</td>\n",
       "      <td>8542</td>\n",
       "    </tr>\n",
       "    <tr>\n",
       "      <th>1</th>\n",
       "      <td>1</td>\n",
       "      <td>10085826</td>\n",
       "      <td>2016-10-08</td>\n",
       "      <td>Yellow Cab</td>\n",
       "      <td>ATLANTA GA</td>\n",
       "      <td>48.00</td>\n",
       "      <td>745.83</td>\n",
       "      <td>685.4400</td>\n",
       "      <td>27602</td>\n",
       "      <td>Cash</td>\n",
       "      <td>Male</td>\n",
       "      <td>23</td>\n",
       "      <td>8542</td>\n",
       "    </tr>\n",
       "    <tr>\n",
       "      <th>2</th>\n",
       "      <td>2</td>\n",
       "      <td>10254432</td>\n",
       "      <td>2017-11-11</td>\n",
       "      <td>Yellow Cab</td>\n",
       "      <td>ATLANTA GA</td>\n",
       "      <td>36.10</td>\n",
       "      <td>536.66</td>\n",
       "      <td>459.1920</td>\n",
       "      <td>27602</td>\n",
       "      <td>Cash</td>\n",
       "      <td>Male</td>\n",
       "      <td>23</td>\n",
       "      <td>8542</td>\n",
       "    </tr>\n",
       "    <tr>\n",
       "      <th>3</th>\n",
       "      <td>3</td>\n",
       "      <td>10420933</td>\n",
       "      <td>2018-12-06</td>\n",
       "      <td>Yellow Cab</td>\n",
       "      <td>ATLANTA GA</td>\n",
       "      <td>7.98</td>\n",
       "      <td>154.34</td>\n",
       "      <td>107.2512</td>\n",
       "      <td>27602</td>\n",
       "      <td>Cash</td>\n",
       "      <td>Male</td>\n",
       "      <td>23</td>\n",
       "      <td>8542</td>\n",
       "    </tr>\n",
       "    <tr>\n",
       "      <th>4</th>\n",
       "      <td>4</td>\n",
       "      <td>10000385</td>\n",
       "      <td>2016-01-09</td>\n",
       "      <td>Yellow Cab</td>\n",
       "      <td>ATLANTA GA</td>\n",
       "      <td>42.18</td>\n",
       "      <td>1412.06</td>\n",
       "      <td>516.2832</td>\n",
       "      <td>27594</td>\n",
       "      <td>Cash</td>\n",
       "      <td>Male</td>\n",
       "      <td>28</td>\n",
       "      <td>3901</td>\n",
       "    </tr>\n",
       "    <tr>\n",
       "      <th>...</th>\n",
       "      <td>...</td>\n",
       "      <td>...</td>\n",
       "      <td>...</td>\n",
       "      <td>...</td>\n",
       "      <td>...</td>\n",
       "      <td>...</td>\n",
       "      <td>...</td>\n",
       "      <td>...</td>\n",
       "      <td>...</td>\n",
       "      <td>...</td>\n",
       "      <td>...</td>\n",
       "      <td>...</td>\n",
       "      <td>...</td>\n",
       "    </tr>\n",
       "    <tr>\n",
       "      <th>274676</th>\n",
       "      <td>274676</td>\n",
       "      <td>10439838</td>\n",
       "      <td>2018-01-04</td>\n",
       "      <td>Yellow Cab</td>\n",
       "      <td>TUCSON AZ</td>\n",
       "      <td>19.00</td>\n",
       "      <td>303.77</td>\n",
       "      <td>232.5600</td>\n",
       "      <td>41414</td>\n",
       "      <td>Card</td>\n",
       "      <td>Male</td>\n",
       "      <td>38</td>\n",
       "      <td>3960</td>\n",
       "    </tr>\n",
       "    <tr>\n",
       "      <th>274677</th>\n",
       "      <td>274677</td>\n",
       "      <td>10439840</td>\n",
       "      <td>2018-01-06</td>\n",
       "      <td>Yellow Cab</td>\n",
       "      <td>TUCSON AZ</td>\n",
       "      <td>5.60</td>\n",
       "      <td>92.42</td>\n",
       "      <td>70.5600</td>\n",
       "      <td>41677</td>\n",
       "      <td>Cash</td>\n",
       "      <td>Male</td>\n",
       "      <td>23</td>\n",
       "      <td>19454</td>\n",
       "    </tr>\n",
       "    <tr>\n",
       "      <th>274678</th>\n",
       "      <td>274678</td>\n",
       "      <td>10439841</td>\n",
       "      <td>2018-01-03</td>\n",
       "      <td>Yellow Cab</td>\n",
       "      <td>TUCSON AZ</td>\n",
       "      <td>26.64</td>\n",
       "      <td>430.50</td>\n",
       "      <td>383.6160</td>\n",
       "      <td>41155</td>\n",
       "      <td>Cash</td>\n",
       "      <td>Male</td>\n",
       "      <td>31</td>\n",
       "      <td>17284</td>\n",
       "    </tr>\n",
       "    <tr>\n",
       "      <th>274679</th>\n",
       "      <td>274679</td>\n",
       "      <td>10439843</td>\n",
       "      <td>2018-12-31</td>\n",
       "      <td>Yellow Cab</td>\n",
       "      <td>TUCSON AZ</td>\n",
       "      <td>6.42</td>\n",
       "      <td>116.99</td>\n",
       "      <td>90.1368</td>\n",
       "      <td>40467</td>\n",
       "      <td>Cash</td>\n",
       "      <td>Female</td>\n",
       "      <td>41</td>\n",
       "      <td>14165</td>\n",
       "    </tr>\n",
       "    <tr>\n",
       "      <th>274680</th>\n",
       "      <td>274680</td>\n",
       "      <td>10439846</td>\n",
       "      <td>2018-01-04</td>\n",
       "      <td>Yellow Cab</td>\n",
       "      <td>TUCSON AZ</td>\n",
       "      <td>13.30</td>\n",
       "      <td>244.65</td>\n",
       "      <td>180.3480</td>\n",
       "      <td>39761</td>\n",
       "      <td>Card</td>\n",
       "      <td>Female</td>\n",
       "      <td>32</td>\n",
       "      <td>10128</td>\n",
       "    </tr>\n",
       "  </tbody>\n",
       "</table>\n",
       "<p>274681 rows × 13 columns</p>\n",
       "</div>"
      ],
      "text/plain": [
       "        Unnamed: 0  Transaction ID Date of Travel     Company        City  \\\n",
       "0                0        10000384     2016-01-02  Yellow Cab  ATLANTA GA   \n",
       "1                1        10085826     2016-10-08  Yellow Cab  ATLANTA GA   \n",
       "2                2        10254432     2017-11-11  Yellow Cab  ATLANTA GA   \n",
       "3                3        10420933     2018-12-06  Yellow Cab  ATLANTA GA   \n",
       "4                4        10000385     2016-01-09  Yellow Cab  ATLANTA GA   \n",
       "...            ...             ...            ...         ...         ...   \n",
       "274676      274676        10439838     2018-01-04  Yellow Cab   TUCSON AZ   \n",
       "274677      274677        10439840     2018-01-06  Yellow Cab   TUCSON AZ   \n",
       "274678      274678        10439841     2018-01-03  Yellow Cab   TUCSON AZ   \n",
       "274679      274679        10439843     2018-12-31  Yellow Cab   TUCSON AZ   \n",
       "274680      274680        10439846     2018-01-04  Yellow Cab   TUCSON AZ   \n",
       "\n",
       "        KM Travelled  Price Charged  Cost of Trip  Customer ID Payment_Mode  \\\n",
       "0              33.93        1341.17      464.1624        27602         Card   \n",
       "1              48.00         745.83      685.4400        27602         Cash   \n",
       "2              36.10         536.66      459.1920        27602         Cash   \n",
       "3               7.98         154.34      107.2512        27602         Cash   \n",
       "4              42.18        1412.06      516.2832        27594         Cash   \n",
       "...              ...            ...           ...          ...          ...   \n",
       "274676         19.00         303.77      232.5600        41414         Card   \n",
       "274677          5.60          92.42       70.5600        41677         Cash   \n",
       "274678         26.64         430.50      383.6160        41155         Cash   \n",
       "274679          6.42         116.99       90.1368        40467         Cash   \n",
       "274680         13.30         244.65      180.3480        39761         Card   \n",
       "\n",
       "        Gender  Age  Income (USD/Month)  \n",
       "0         Male   23                8542  \n",
       "1         Male   23                8542  \n",
       "2         Male   23                8542  \n",
       "3         Male   23                8542  \n",
       "4         Male   28                3901  \n",
       "...        ...  ...                 ...  \n",
       "274676    Male   38                3960  \n",
       "274677    Male   23               19454  \n",
       "274678    Male   31               17284  \n",
       "274679  Female   41               14165  \n",
       "274680  Female   32               10128  \n",
       "\n",
       "[274681 rows x 13 columns]"
      ]
     },
     "execution_count": 4,
     "metadata": {},
     "output_type": "execute_result"
    }
   ],
   "source": [
    "df_yellowcab"
   ]
  },
  {
   "cell_type": "code",
   "execution_count": 5,
   "metadata": {},
   "outputs": [],
   "source": [
    "df_yellowcab.drop('Unnamed: 0', axis=1, inplace=True)\n",
    "df_yellowcab.rename(columns={'Date of Travel':'Date', 'KM Travelled':'KM_Travel','Cost of Trip':'Cost_Trip','Income (USD/Month)':'Income'}, inplace=True)"
   ]
  },
  {
   "cell_type": "code",
   "execution_count": 6,
   "metadata": {},
   "outputs": [
    {
     "data": {
      "text/html": [
       "<div>\n",
       "<style scoped>\n",
       "    .dataframe tbody tr th:only-of-type {\n",
       "        vertical-align: middle;\n",
       "    }\n",
       "\n",
       "    .dataframe tbody tr th {\n",
       "        vertical-align: top;\n",
       "    }\n",
       "\n",
       "    .dataframe thead th {\n",
       "        text-align: right;\n",
       "    }\n",
       "</style>\n",
       "<table border=\"1\" class=\"dataframe\">\n",
       "  <thead>\n",
       "    <tr style=\"text-align: right;\">\n",
       "      <th></th>\n",
       "      <th>Transaction ID</th>\n",
       "      <th>KM_Travel</th>\n",
       "      <th>Price Charged</th>\n",
       "      <th>Cost_Trip</th>\n",
       "      <th>Customer ID</th>\n",
       "      <th>Age</th>\n",
       "      <th>Income</th>\n",
       "    </tr>\n",
       "  </thead>\n",
       "  <tbody>\n",
       "    <tr>\n",
       "      <th>count</th>\n",
       "      <td>2.746810e+05</td>\n",
       "      <td>274681.000000</td>\n",
       "      <td>274681.000000</td>\n",
       "      <td>274681.000000</td>\n",
       "      <td>274681.000000</td>\n",
       "      <td>274681.000000</td>\n",
       "      <td>274681.000000</td>\n",
       "    </tr>\n",
       "    <tr>\n",
       "      <th>mean</th>\n",
       "      <td>1.021978e+07</td>\n",
       "      <td>22.569517</td>\n",
       "      <td>458.181990</td>\n",
       "      <td>297.922004</td>\n",
       "      <td>19428.831732</td>\n",
       "      <td>35.341112</td>\n",
       "      <td>15045.669817</td>\n",
       "    </tr>\n",
       "    <tr>\n",
       "      <th>std</th>\n",
       "      <td>1.269829e+05</td>\n",
       "      <td>12.234298</td>\n",
       "      <td>288.386166</td>\n",
       "      <td>162.548986</td>\n",
       "      <td>21830.791423</td>\n",
       "      <td>12.578625</td>\n",
       "      <td>7962.727062</td>\n",
       "    </tr>\n",
       "    <tr>\n",
       "      <th>min</th>\n",
       "      <td>1.000038e+07</td>\n",
       "      <td>1.900000</td>\n",
       "      <td>20.730000</td>\n",
       "      <td>22.800000</td>\n",
       "      <td>1.000000</td>\n",
       "      <td>18.000000</td>\n",
       "      <td>2000.000000</td>\n",
       "    </tr>\n",
       "    <tr>\n",
       "      <th>25%</th>\n",
       "      <td>1.011084e+07</td>\n",
       "      <td>11.990000</td>\n",
       "      <td>226.680000</td>\n",
       "      <td>158.400000</td>\n",
       "      <td>2403.000000</td>\n",
       "      <td>25.000000</td>\n",
       "      <td>8439.000000</td>\n",
       "    </tr>\n",
       "    <tr>\n",
       "      <th>50%</th>\n",
       "      <td>1.021987e+07</td>\n",
       "      <td>22.440000</td>\n",
       "      <td>425.060000</td>\n",
       "      <td>295.596000</td>\n",
       "      <td>6445.000000</td>\n",
       "      <td>33.000000</td>\n",
       "      <td>14676.000000</td>\n",
       "    </tr>\n",
       "    <tr>\n",
       "      <th>75%</th>\n",
       "      <td>1.032939e+07</td>\n",
       "      <td>32.960000</td>\n",
       "      <td>633.880000</td>\n",
       "      <td>432.432000</td>\n",
       "      <td>38916.000000</td>\n",
       "      <td>42.000000</td>\n",
       "      <td>21023.000000</td>\n",
       "    </tr>\n",
       "    <tr>\n",
       "      <th>max</th>\n",
       "      <td>1.044011e+07</td>\n",
       "      <td>48.000000</td>\n",
       "      <td>2048.030000</td>\n",
       "      <td>691.200000</td>\n",
       "      <td>60000.000000</td>\n",
       "      <td>65.000000</td>\n",
       "      <td>34996.000000</td>\n",
       "    </tr>\n",
       "  </tbody>\n",
       "</table>\n",
       "</div>"
      ],
      "text/plain": [
       "       Transaction ID      KM_Travel  Price Charged      Cost_Trip  \\\n",
       "count    2.746810e+05  274681.000000  274681.000000  274681.000000   \n",
       "mean     1.021978e+07      22.569517     458.181990     297.922004   \n",
       "std      1.269829e+05      12.234298     288.386166     162.548986   \n",
       "min      1.000038e+07       1.900000      20.730000      22.800000   \n",
       "25%      1.011084e+07      11.990000     226.680000     158.400000   \n",
       "50%      1.021987e+07      22.440000     425.060000     295.596000   \n",
       "75%      1.032939e+07      32.960000     633.880000     432.432000   \n",
       "max      1.044011e+07      48.000000    2048.030000     691.200000   \n",
       "\n",
       "         Customer ID            Age         Income  \n",
       "count  274681.000000  274681.000000  274681.000000  \n",
       "mean    19428.831732      35.341112   15045.669817  \n",
       "std     21830.791423      12.578625    7962.727062  \n",
       "min         1.000000      18.000000    2000.000000  \n",
       "25%      2403.000000      25.000000    8439.000000  \n",
       "50%      6445.000000      33.000000   14676.000000  \n",
       "75%     38916.000000      42.000000   21023.000000  \n",
       "max     60000.000000      65.000000   34996.000000  "
      ]
     },
     "execution_count": 6,
     "metadata": {},
     "output_type": "execute_result"
    }
   ],
   "source": [
    "df_yellowcab.describe()"
   ]
  },
  {
   "cell_type": "code",
   "execution_count": 7,
   "metadata": {},
   "outputs": [
    {
     "data": {
      "text/html": [
       "<div>\n",
       "<style scoped>\n",
       "    .dataframe tbody tr th:only-of-type {\n",
       "        vertical-align: middle;\n",
       "    }\n",
       "\n",
       "    .dataframe tbody tr th {\n",
       "        vertical-align: top;\n",
       "    }\n",
       "\n",
       "    .dataframe thead th {\n",
       "        text-align: right;\n",
       "    }\n",
       "</style>\n",
       "<table border=\"1\" class=\"dataframe\">\n",
       "  <thead>\n",
       "    <tr style=\"text-align: right;\">\n",
       "      <th></th>\n",
       "      <th>Transaction ID</th>\n",
       "      <th>KM_Travel</th>\n",
       "      <th>Price Charged</th>\n",
       "      <th>Cost_Trip</th>\n",
       "      <th>Customer ID</th>\n",
       "      <th>Age</th>\n",
       "      <th>Income</th>\n",
       "    </tr>\n",
       "  </thead>\n",
       "  <tbody>\n",
       "    <tr>\n",
       "      <th>0</th>\n",
       "      <td>10000384</td>\n",
       "      <td>33.93</td>\n",
       "      <td>1341.17</td>\n",
       "      <td>464.1624</td>\n",
       "      <td>27602</td>\n",
       "      <td>23</td>\n",
       "      <td>8542</td>\n",
       "    </tr>\n",
       "    <tr>\n",
       "      <th>1</th>\n",
       "      <td>10085826</td>\n",
       "      <td>48.00</td>\n",
       "      <td>745.83</td>\n",
       "      <td>685.4400</td>\n",
       "      <td>27602</td>\n",
       "      <td>23</td>\n",
       "      <td>8542</td>\n",
       "    </tr>\n",
       "    <tr>\n",
       "      <th>2</th>\n",
       "      <td>10254432</td>\n",
       "      <td>36.10</td>\n",
       "      <td>536.66</td>\n",
       "      <td>459.1920</td>\n",
       "      <td>27602</td>\n",
       "      <td>23</td>\n",
       "      <td>8542</td>\n",
       "    </tr>\n",
       "    <tr>\n",
       "      <th>3</th>\n",
       "      <td>10420933</td>\n",
       "      <td>7.98</td>\n",
       "      <td>154.34</td>\n",
       "      <td>107.2512</td>\n",
       "      <td>27602</td>\n",
       "      <td>23</td>\n",
       "      <td>8542</td>\n",
       "    </tr>\n",
       "    <tr>\n",
       "      <th>4</th>\n",
       "      <td>10000385</td>\n",
       "      <td>42.18</td>\n",
       "      <td>1412.06</td>\n",
       "      <td>516.2832</td>\n",
       "      <td>27594</td>\n",
       "      <td>28</td>\n",
       "      <td>3901</td>\n",
       "    </tr>\n",
       "    <tr>\n",
       "      <th>...</th>\n",
       "      <td>...</td>\n",
       "      <td>...</td>\n",
       "      <td>...</td>\n",
       "      <td>...</td>\n",
       "      <td>...</td>\n",
       "      <td>...</td>\n",
       "      <td>...</td>\n",
       "    </tr>\n",
       "    <tr>\n",
       "      <th>274676</th>\n",
       "      <td>10439838</td>\n",
       "      <td>19.00</td>\n",
       "      <td>303.77</td>\n",
       "      <td>232.5600</td>\n",
       "      <td>41414</td>\n",
       "      <td>38</td>\n",
       "      <td>3960</td>\n",
       "    </tr>\n",
       "    <tr>\n",
       "      <th>274677</th>\n",
       "      <td>10439840</td>\n",
       "      <td>5.60</td>\n",
       "      <td>92.42</td>\n",
       "      <td>70.5600</td>\n",
       "      <td>41677</td>\n",
       "      <td>23</td>\n",
       "      <td>19454</td>\n",
       "    </tr>\n",
       "    <tr>\n",
       "      <th>274678</th>\n",
       "      <td>10439841</td>\n",
       "      <td>26.64</td>\n",
       "      <td>430.50</td>\n",
       "      <td>383.6160</td>\n",
       "      <td>41155</td>\n",
       "      <td>31</td>\n",
       "      <td>17284</td>\n",
       "    </tr>\n",
       "    <tr>\n",
       "      <th>274679</th>\n",
       "      <td>10439843</td>\n",
       "      <td>6.42</td>\n",
       "      <td>116.99</td>\n",
       "      <td>90.1368</td>\n",
       "      <td>40467</td>\n",
       "      <td>41</td>\n",
       "      <td>14165</td>\n",
       "    </tr>\n",
       "    <tr>\n",
       "      <th>274680</th>\n",
       "      <td>10439846</td>\n",
       "      <td>13.30</td>\n",
       "      <td>244.65</td>\n",
       "      <td>180.3480</td>\n",
       "      <td>39761</td>\n",
       "      <td>32</td>\n",
       "      <td>10128</td>\n",
       "    </tr>\n",
       "  </tbody>\n",
       "</table>\n",
       "<p>274681 rows × 7 columns</p>\n",
       "</div>"
      ],
      "text/plain": [
       "        Transaction ID  KM_Travel  Price Charged  Cost_Trip  Customer ID  Age  \\\n",
       "0             10000384      33.93        1341.17   464.1624        27602   23   \n",
       "1             10085826      48.00         745.83   685.4400        27602   23   \n",
       "2             10254432      36.10         536.66   459.1920        27602   23   \n",
       "3             10420933       7.98         154.34   107.2512        27602   23   \n",
       "4             10000385      42.18        1412.06   516.2832        27594   28   \n",
       "...                ...        ...            ...        ...          ...  ...   \n",
       "274676        10439838      19.00         303.77   232.5600        41414   38   \n",
       "274677        10439840       5.60          92.42    70.5600        41677   23   \n",
       "274678        10439841      26.64         430.50   383.6160        41155   31   \n",
       "274679        10439843       6.42         116.99    90.1368        40467   41   \n",
       "274680        10439846      13.30         244.65   180.3480        39761   32   \n",
       "\n",
       "        Income  \n",
       "0         8542  \n",
       "1         8542  \n",
       "2         8542  \n",
       "3         8542  \n",
       "4         3901  \n",
       "...        ...  \n",
       "274676    3960  \n",
       "274677   19454  \n",
       "274678   17284  \n",
       "274679   14165  \n",
       "274680   10128  \n",
       "\n",
       "[274681 rows x 7 columns]"
      ]
     },
     "execution_count": 7,
     "metadata": {},
     "output_type": "execute_result"
    }
   ],
   "source": [
    "df_num = df_yellowcab.select_dtypes(include=np.number)\n",
    "df_num"
   ]
  },
  {
   "cell_type": "code",
   "execution_count": 8,
   "metadata": {},
   "outputs": [
    {
     "data": {
      "text/html": [
       "<div>\n",
       "<style scoped>\n",
       "    .dataframe tbody tr th:only-of-type {\n",
       "        vertical-align: middle;\n",
       "    }\n",
       "\n",
       "    .dataframe tbody tr th {\n",
       "        vertical-align: top;\n",
       "    }\n",
       "\n",
       "    .dataframe thead th {\n",
       "        text-align: right;\n",
       "    }\n",
       "</style>\n",
       "<table border=\"1\" class=\"dataframe\">\n",
       "  <thead>\n",
       "    <tr style=\"text-align: right;\">\n",
       "      <th></th>\n",
       "      <th>Transaction ID</th>\n",
       "      <th>KM_Travel</th>\n",
       "      <th>Price Charged</th>\n",
       "      <th>Cost_Trip</th>\n",
       "      <th>Customer ID</th>\n",
       "      <th>Age</th>\n",
       "      <th>Income</th>\n",
       "      <th>Kurtosis</th>\n",
       "      <th>Skewness</th>\n",
       "    </tr>\n",
       "  </thead>\n",
       "  <tbody>\n",
       "    <tr>\n",
       "      <th>count</th>\n",
       "      <td>2.746810e+05</td>\n",
       "      <td>274681.000000</td>\n",
       "      <td>274681.000000</td>\n",
       "      <td>274681.000000</td>\n",
       "      <td>274681.000000</td>\n",
       "      <td>274681.000000</td>\n",
       "      <td>274681.000000</td>\n",
       "      <td>274681.000000</td>\n",
       "      <td>274681.000000</td>\n",
       "    </tr>\n",
       "    <tr>\n",
       "      <th>mean</th>\n",
       "      <td>1.021978e+07</td>\n",
       "      <td>22.569517</td>\n",
       "      <td>458.181990</td>\n",
       "      <td>297.922004</td>\n",
       "      <td>19428.831732</td>\n",
       "      <td>35.341112</td>\n",
       "      <td>15045.669817</td>\n",
       "      <td>6.999787</td>\n",
       "      <td>2.828372</td>\n",
       "    </tr>\n",
       "    <tr>\n",
       "      <th>std</th>\n",
       "      <td>1.269829e+05</td>\n",
       "      <td>12.234298</td>\n",
       "      <td>288.386166</td>\n",
       "      <td>162.548986</td>\n",
       "      <td>21830.791423</td>\n",
       "      <td>12.578625</td>\n",
       "      <td>7962.727062</td>\n",
       "      <td>0.000241</td>\n",
       "      <td>0.000062</td>\n",
       "    </tr>\n",
       "    <tr>\n",
       "      <th>min</th>\n",
       "      <td>1.000038e+07</td>\n",
       "      <td>1.900000</td>\n",
       "      <td>20.730000</td>\n",
       "      <td>22.800000</td>\n",
       "      <td>1.000000</td>\n",
       "      <td>18.000000</td>\n",
       "      <td>2000.000000</td>\n",
       "      <td>6.999142</td>\n",
       "      <td>2.828202</td>\n",
       "    </tr>\n",
       "    <tr>\n",
       "      <th>25%</th>\n",
       "      <td>1.011084e+07</td>\n",
       "      <td>11.990000</td>\n",
       "      <td>226.680000</td>\n",
       "      <td>158.400000</td>\n",
       "      <td>2403.000000</td>\n",
       "      <td>25.000000</td>\n",
       "      <td>8439.000000</td>\n",
       "      <td>6.999656</td>\n",
       "      <td>2.828337</td>\n",
       "    </tr>\n",
       "    <tr>\n",
       "      <th>50%</th>\n",
       "      <td>1.021987e+07</td>\n",
       "      <td>22.440000</td>\n",
       "      <td>425.060000</td>\n",
       "      <td>295.596000</td>\n",
       "      <td>6445.000000</td>\n",
       "      <td>33.000000</td>\n",
       "      <td>14676.000000</td>\n",
       "      <td>6.999906</td>\n",
       "      <td>2.828403</td>\n",
       "    </tr>\n",
       "    <tr>\n",
       "      <th>75%</th>\n",
       "      <td>1.032939e+07</td>\n",
       "      <td>32.960000</td>\n",
       "      <td>633.880000</td>\n",
       "      <td>432.432000</td>\n",
       "      <td>38916.000000</td>\n",
       "      <td>42.000000</td>\n",
       "      <td>21023.000000</td>\n",
       "      <td>6.999967</td>\n",
       "      <td>2.828419</td>\n",
       "    </tr>\n",
       "    <tr>\n",
       "      <th>max</th>\n",
       "      <td>1.044011e+07</td>\n",
       "      <td>48.000000</td>\n",
       "      <td>2048.030000</td>\n",
       "      <td>691.200000</td>\n",
       "      <td>60000.000000</td>\n",
       "      <td>65.000000</td>\n",
       "      <td>34996.000000</td>\n",
       "      <td>6.999999</td>\n",
       "      <td>2.828427</td>\n",
       "    </tr>\n",
       "  </tbody>\n",
       "</table>\n",
       "</div>"
      ],
      "text/plain": [
       "       Transaction ID      KM_Travel  Price Charged      Cost_Trip  \\\n",
       "count    2.746810e+05  274681.000000  274681.000000  274681.000000   \n",
       "mean     1.021978e+07      22.569517     458.181990     297.922004   \n",
       "std      1.269829e+05      12.234298     288.386166     162.548986   \n",
       "min      1.000038e+07       1.900000      20.730000      22.800000   \n",
       "25%      1.011084e+07      11.990000     226.680000     158.400000   \n",
       "50%      1.021987e+07      22.440000     425.060000     295.596000   \n",
       "75%      1.032939e+07      32.960000     633.880000     432.432000   \n",
       "max      1.044011e+07      48.000000    2048.030000     691.200000   \n",
       "\n",
       "         Customer ID            Age         Income       Kurtosis  \\\n",
       "count  274681.000000  274681.000000  274681.000000  274681.000000   \n",
       "mean    19428.831732      35.341112   15045.669817       6.999787   \n",
       "std     21830.791423      12.578625    7962.727062       0.000241   \n",
       "min         1.000000      18.000000    2000.000000       6.999142   \n",
       "25%      2403.000000      25.000000    8439.000000       6.999656   \n",
       "50%      6445.000000      33.000000   14676.000000       6.999906   \n",
       "75%     38916.000000      42.000000   21023.000000       6.999967   \n",
       "max     60000.000000      65.000000   34996.000000       6.999999   \n",
       "\n",
       "            Skewness  \n",
       "count  274681.000000  \n",
       "mean        2.828372  \n",
       "std         0.000062  \n",
       "min         2.828202  \n",
       "25%         2.828337  \n",
       "50%         2.828403  \n",
       "75%         2.828419  \n",
       "max         2.828427  "
      ]
     },
     "execution_count": 8,
     "metadata": {},
     "output_type": "execute_result"
    }
   ],
   "source": [
    "df_num['Kurtosis'] = df_num.kurtosis(axis=1)\n",
    "df_num['Skewness'] = df_num.skew(axis=1)\n",
    "df_num.describe()"
   ]
  },
  {
   "cell_type": "code",
   "execution_count": 9,
   "metadata": {},
   "outputs": [
    {
     "data": {
      "text/html": [
       "<div>\n",
       "<style scoped>\n",
       "    .dataframe tbody tr th:only-of-type {\n",
       "        vertical-align: middle;\n",
       "    }\n",
       "\n",
       "    .dataframe tbody tr th {\n",
       "        vertical-align: top;\n",
       "    }\n",
       "\n",
       "    .dataframe thead th {\n",
       "        text-align: right;\n",
       "    }\n",
       "</style>\n",
       "<table border=\"1\" class=\"dataframe\">\n",
       "  <thead>\n",
       "    <tr style=\"text-align: right;\">\n",
       "      <th></th>\n",
       "      <th>City</th>\n",
       "      <th>Population</th>\n",
       "      <th>Users</th>\n",
       "    </tr>\n",
       "  </thead>\n",
       "  <tbody>\n",
       "    <tr>\n",
       "      <th>0</th>\n",
       "      <td>NEW YORK NY</td>\n",
       "      <td>8,405,837</td>\n",
       "      <td>302,149</td>\n",
       "    </tr>\n",
       "    <tr>\n",
       "      <th>1</th>\n",
       "      <td>CHICAGO IL</td>\n",
       "      <td>1,955,130</td>\n",
       "      <td>164,468</td>\n",
       "    </tr>\n",
       "    <tr>\n",
       "      <th>2</th>\n",
       "      <td>LOS ANGELES CA</td>\n",
       "      <td>1,595,037</td>\n",
       "      <td>144,132</td>\n",
       "    </tr>\n",
       "    <tr>\n",
       "      <th>3</th>\n",
       "      <td>MIAMI FL</td>\n",
       "      <td>1,339,155</td>\n",
       "      <td>17,675</td>\n",
       "    </tr>\n",
       "    <tr>\n",
       "      <th>4</th>\n",
       "      <td>SILICON VALLEY</td>\n",
       "      <td>1,177,609</td>\n",
       "      <td>27,247</td>\n",
       "    </tr>\n",
       "    <tr>\n",
       "      <th>5</th>\n",
       "      <td>ORANGE COUNTY</td>\n",
       "      <td>1,030,185</td>\n",
       "      <td>12,994</td>\n",
       "    </tr>\n",
       "    <tr>\n",
       "      <th>6</th>\n",
       "      <td>SAN DIEGO CA</td>\n",
       "      <td>959,307</td>\n",
       "      <td>69,995</td>\n",
       "    </tr>\n",
       "    <tr>\n",
       "      <th>7</th>\n",
       "      <td>PHOENIX AZ</td>\n",
       "      <td>943,999</td>\n",
       "      <td>6,133</td>\n",
       "    </tr>\n",
       "    <tr>\n",
       "      <th>8</th>\n",
       "      <td>DALLAS TX</td>\n",
       "      <td>942,908</td>\n",
       "      <td>22,157</td>\n",
       "    </tr>\n",
       "    <tr>\n",
       "      <th>9</th>\n",
       "      <td>ATLANTA GA</td>\n",
       "      <td>814,885</td>\n",
       "      <td>24,701</td>\n",
       "    </tr>\n",
       "    <tr>\n",
       "      <th>10</th>\n",
       "      <td>DENVER CO</td>\n",
       "      <td>754,233</td>\n",
       "      <td>12,421</td>\n",
       "    </tr>\n",
       "    <tr>\n",
       "      <th>11</th>\n",
       "      <td>AUSTIN TX</td>\n",
       "      <td>698,371</td>\n",
       "      <td>14,978</td>\n",
       "    </tr>\n",
       "    <tr>\n",
       "      <th>12</th>\n",
       "      <td>SEATTLE WA</td>\n",
       "      <td>671,238</td>\n",
       "      <td>25,063</td>\n",
       "    </tr>\n",
       "    <tr>\n",
       "      <th>13</th>\n",
       "      <td>TUCSON AZ</td>\n",
       "      <td>631,442</td>\n",
       "      <td>5,712</td>\n",
       "    </tr>\n",
       "    <tr>\n",
       "      <th>14</th>\n",
       "      <td>SAN FRANCISCO CA</td>\n",
       "      <td>629,591</td>\n",
       "      <td>213,609</td>\n",
       "    </tr>\n",
       "    <tr>\n",
       "      <th>15</th>\n",
       "      <td>SACRAMENTO CA</td>\n",
       "      <td>545,776</td>\n",
       "      <td>7,044</td>\n",
       "    </tr>\n",
       "    <tr>\n",
       "      <th>16</th>\n",
       "      <td>PITTSBURGH PA</td>\n",
       "      <td>542,085</td>\n",
       "      <td>3,643</td>\n",
       "    </tr>\n",
       "    <tr>\n",
       "      <th>17</th>\n",
       "      <td>WASHINGTON DC</td>\n",
       "      <td>418,859</td>\n",
       "      <td>127,001</td>\n",
       "    </tr>\n",
       "    <tr>\n",
       "      <th>18</th>\n",
       "      <td>NASHVILLE TN</td>\n",
       "      <td>327,225</td>\n",
       "      <td>9,270</td>\n",
       "    </tr>\n",
       "    <tr>\n",
       "      <th>19</th>\n",
       "      <td>BOSTON MA</td>\n",
       "      <td>248,968</td>\n",
       "      <td>80,021</td>\n",
       "    </tr>\n",
       "  </tbody>\n",
       "</table>\n",
       "</div>"
      ],
      "text/plain": [
       "                City   Population      Users\n",
       "0        NEW YORK NY   8,405,837    302,149 \n",
       "1         CHICAGO IL   1,955,130    164,468 \n",
       "2     LOS ANGELES CA   1,595,037    144,132 \n",
       "3           MIAMI FL   1,339,155     17,675 \n",
       "4     SILICON VALLEY   1,177,609     27,247 \n",
       "5      ORANGE COUNTY   1,030,185     12,994 \n",
       "6       SAN DIEGO CA     959,307     69,995 \n",
       "7         PHOENIX AZ     943,999      6,133 \n",
       "8          DALLAS TX     942,908     22,157 \n",
       "9         ATLANTA GA     814,885     24,701 \n",
       "10         DENVER CO     754,233     12,421 \n",
       "11         AUSTIN TX     698,371     14,978 \n",
       "12        SEATTLE WA     671,238     25,063 \n",
       "13         TUCSON AZ     631,442      5,712 \n",
       "14  SAN FRANCISCO CA     629,591    213,609 \n",
       "15     SACRAMENTO CA     545,776      7,044 \n",
       "16     PITTSBURGH PA     542,085      3,643 \n",
       "17     WASHINGTON DC     418,859    127,001 \n",
       "18      NASHVILLE TN     327,225      9,270 \n",
       "19         BOSTON MA     248,968     80,021 "
      ]
     },
     "execution_count": 9,
     "metadata": {},
     "output_type": "execute_result"
    }
   ],
   "source": [
    "df_city"
   ]
  },
  {
   "cell_type": "code",
   "execution_count": 10,
   "metadata": {},
   "outputs": [
    {
     "data": {
      "text/plain": [
       "City          object\n",
       "Population    object\n",
       "Users         object\n",
       "dtype: object"
      ]
     },
     "execution_count": 10,
     "metadata": {},
     "output_type": "execute_result"
    }
   ],
   "source": [
    "df_city.dtypes"
   ]
  },
  {
   "cell_type": "code",
   "execution_count": 11,
   "metadata": {},
   "outputs": [],
   "source": [
    "# Converting Objects to Intenger\n",
    "df_city['Population'] = df_city['Population'].str.replace(',','')\n",
    "df_city['Users'] = df_city['Users'].str.replace(',','')\n",
    "df_city['Population'] = df_city['Population'].astype(int)\n",
    "df_city['Users'] = df_city['Users'].astype(int)"
   ]
  },
  {
   "cell_type": "code",
   "execution_count": 12,
   "metadata": {},
   "outputs": [],
   "source": [
    "df_city['Avg_Users'] = round(df_city['Users'] / df_city['Population'] * 100 , 1)"
   ]
  },
  {
   "cell_type": "code",
   "execution_count": 13,
   "metadata": {},
   "outputs": [
    {
     "data": {
      "text/html": [
       "<div>\n",
       "<style scoped>\n",
       "    .dataframe tbody tr th:only-of-type {\n",
       "        vertical-align: middle;\n",
       "    }\n",
       "\n",
       "    .dataframe tbody tr th {\n",
       "        vertical-align: top;\n",
       "    }\n",
       "\n",
       "    .dataframe thead th {\n",
       "        text-align: right;\n",
       "    }\n",
       "</style>\n",
       "<table border=\"1\" class=\"dataframe\">\n",
       "  <thead>\n",
       "    <tr style=\"text-align: right;\">\n",
       "      <th></th>\n",
       "      <th>City</th>\n",
       "      <th>Population</th>\n",
       "      <th>Users</th>\n",
       "      <th>Avg_Users</th>\n",
       "    </tr>\n",
       "  </thead>\n",
       "  <tbody>\n",
       "    <tr>\n",
       "      <th>0</th>\n",
       "      <td>NEW YORK NY</td>\n",
       "      <td>8405837</td>\n",
       "      <td>302149</td>\n",
       "      <td>3.6</td>\n",
       "    </tr>\n",
       "    <tr>\n",
       "      <th>1</th>\n",
       "      <td>CHICAGO IL</td>\n",
       "      <td>1955130</td>\n",
       "      <td>164468</td>\n",
       "      <td>8.4</td>\n",
       "    </tr>\n",
       "    <tr>\n",
       "      <th>2</th>\n",
       "      <td>LOS ANGELES CA</td>\n",
       "      <td>1595037</td>\n",
       "      <td>144132</td>\n",
       "      <td>9.0</td>\n",
       "    </tr>\n",
       "    <tr>\n",
       "      <th>3</th>\n",
       "      <td>MIAMI FL</td>\n",
       "      <td>1339155</td>\n",
       "      <td>17675</td>\n",
       "      <td>1.3</td>\n",
       "    </tr>\n",
       "    <tr>\n",
       "      <th>4</th>\n",
       "      <td>SILICON VALLEY</td>\n",
       "      <td>1177609</td>\n",
       "      <td>27247</td>\n",
       "      <td>2.3</td>\n",
       "    </tr>\n",
       "    <tr>\n",
       "      <th>5</th>\n",
       "      <td>ORANGE COUNTY</td>\n",
       "      <td>1030185</td>\n",
       "      <td>12994</td>\n",
       "      <td>1.3</td>\n",
       "    </tr>\n",
       "    <tr>\n",
       "      <th>6</th>\n",
       "      <td>SAN DIEGO CA</td>\n",
       "      <td>959307</td>\n",
       "      <td>69995</td>\n",
       "      <td>7.3</td>\n",
       "    </tr>\n",
       "    <tr>\n",
       "      <th>7</th>\n",
       "      <td>PHOENIX AZ</td>\n",
       "      <td>943999</td>\n",
       "      <td>6133</td>\n",
       "      <td>0.6</td>\n",
       "    </tr>\n",
       "    <tr>\n",
       "      <th>8</th>\n",
       "      <td>DALLAS TX</td>\n",
       "      <td>942908</td>\n",
       "      <td>22157</td>\n",
       "      <td>2.3</td>\n",
       "    </tr>\n",
       "    <tr>\n",
       "      <th>9</th>\n",
       "      <td>ATLANTA GA</td>\n",
       "      <td>814885</td>\n",
       "      <td>24701</td>\n",
       "      <td>3.0</td>\n",
       "    </tr>\n",
       "    <tr>\n",
       "      <th>10</th>\n",
       "      <td>DENVER CO</td>\n",
       "      <td>754233</td>\n",
       "      <td>12421</td>\n",
       "      <td>1.6</td>\n",
       "    </tr>\n",
       "    <tr>\n",
       "      <th>11</th>\n",
       "      <td>AUSTIN TX</td>\n",
       "      <td>698371</td>\n",
       "      <td>14978</td>\n",
       "      <td>2.1</td>\n",
       "    </tr>\n",
       "    <tr>\n",
       "      <th>12</th>\n",
       "      <td>SEATTLE WA</td>\n",
       "      <td>671238</td>\n",
       "      <td>25063</td>\n",
       "      <td>3.7</td>\n",
       "    </tr>\n",
       "    <tr>\n",
       "      <th>13</th>\n",
       "      <td>TUCSON AZ</td>\n",
       "      <td>631442</td>\n",
       "      <td>5712</td>\n",
       "      <td>0.9</td>\n",
       "    </tr>\n",
       "    <tr>\n",
       "      <th>14</th>\n",
       "      <td>SAN FRANCISCO CA</td>\n",
       "      <td>629591</td>\n",
       "      <td>213609</td>\n",
       "      <td>33.9</td>\n",
       "    </tr>\n",
       "    <tr>\n",
       "      <th>15</th>\n",
       "      <td>SACRAMENTO CA</td>\n",
       "      <td>545776</td>\n",
       "      <td>7044</td>\n",
       "      <td>1.3</td>\n",
       "    </tr>\n",
       "    <tr>\n",
       "      <th>16</th>\n",
       "      <td>PITTSBURGH PA</td>\n",
       "      <td>542085</td>\n",
       "      <td>3643</td>\n",
       "      <td>0.7</td>\n",
       "    </tr>\n",
       "    <tr>\n",
       "      <th>17</th>\n",
       "      <td>WASHINGTON DC</td>\n",
       "      <td>418859</td>\n",
       "      <td>127001</td>\n",
       "      <td>30.3</td>\n",
       "    </tr>\n",
       "    <tr>\n",
       "      <th>18</th>\n",
       "      <td>NASHVILLE TN</td>\n",
       "      <td>327225</td>\n",
       "      <td>9270</td>\n",
       "      <td>2.8</td>\n",
       "    </tr>\n",
       "    <tr>\n",
       "      <th>19</th>\n",
       "      <td>BOSTON MA</td>\n",
       "      <td>248968</td>\n",
       "      <td>80021</td>\n",
       "      <td>32.1</td>\n",
       "    </tr>\n",
       "  </tbody>\n",
       "</table>\n",
       "</div>"
      ],
      "text/plain": [
       "                City  Population   Users  Avg_Users\n",
       "0        NEW YORK NY     8405837  302149        3.6\n",
       "1         CHICAGO IL     1955130  164468        8.4\n",
       "2     LOS ANGELES CA     1595037  144132        9.0\n",
       "3           MIAMI FL     1339155   17675        1.3\n",
       "4     SILICON VALLEY     1177609   27247        2.3\n",
       "5      ORANGE COUNTY     1030185   12994        1.3\n",
       "6       SAN DIEGO CA      959307   69995        7.3\n",
       "7         PHOENIX AZ      943999    6133        0.6\n",
       "8          DALLAS TX      942908   22157        2.3\n",
       "9         ATLANTA GA      814885   24701        3.0\n",
       "10         DENVER CO      754233   12421        1.6\n",
       "11         AUSTIN TX      698371   14978        2.1\n",
       "12        SEATTLE WA      671238   25063        3.7\n",
       "13         TUCSON AZ      631442    5712        0.9\n",
       "14  SAN FRANCISCO CA      629591  213609       33.9\n",
       "15     SACRAMENTO CA      545776    7044        1.3\n",
       "16     PITTSBURGH PA      542085    3643        0.7\n",
       "17     WASHINGTON DC      418859  127001       30.3\n",
       "18      NASHVILLE TN      327225    9270        2.8\n",
       "19         BOSTON MA      248968   80021       32.1"
      ]
     },
     "execution_count": 13,
     "metadata": {},
     "output_type": "execute_result"
    }
   ],
   "source": [
    "df_city"
   ]
  },
  {
   "cell_type": "code",
   "execution_count": 14,
   "metadata": {},
   "outputs": [
    {
     "data": {
      "text/plain": [
       "<AxesSubplot: xlabel='Age', ylabel='Count'>"
      ]
     },
     "execution_count": 14,
     "metadata": {},
     "output_type": "execute_result"
    },
    {
     "data": {
      "image/png": "[encoded data removed]",
      "text/plain": [
       "<Figure size 640x480 with 1 Axes>"
      ]
     },
     "metadata": {},
     "output_type": "display_data"
    }
   ],
   "source": [
    "sns.histplot(df_yellowcab.Age)"
   ]
  },
  {
   "cell_type": "code",
   "execution_count": 15,
   "metadata": {},
   "outputs": [
    {
     "data": {
      "text/plain": [
       "<AxesSubplot: >"
      ]
     },
     "execution_count": 15,
     "metadata": {},
     "output_type": "execute_result"
    },
    {
     "data": {
      "image/png": "[encoded data removed]",
      "text/plain": [
       "<Figure size 640x480 with 1 Axes>"
      ]
     },
     "metadata": {},
     "output_type": "display_data"
    }
   ],
   "source": [
    "sns.boxplot(df_yellowcab.Age)"
   ]
  },
  {
   "cell_type": "code",
   "execution_count": 16,
   "metadata": {},
   "outputs": [
    {
     "data": {
      "text/plain": [
       "<AxesSubplot: xlabel='Price Charged', ylabel='Count'>"
      ]
     },
     "execution_count": 16,
     "metadata": {},
     "output_type": "execute_result"
    },
    {
     "data": {
      "image/png": "[encoded data removed]",
      "text/plain": [
       "<Figure size 640x480 with 1 Axes>"
      ]
     },
     "metadata": {},
     "output_type": "display_data"
    }
   ],
   "source": [
    "sns.histplot(df_yellowcab['Price Charged'])"
   ]
  },
  {
   "cell_type": "code",
   "execution_count": 17,
   "metadata": {},
   "outputs": [
    {
     "data": {
      "text/plain": [
       "<AxesSubplot: >"
      ]
     },
     "execution_count": 17,
     "metadata": {},
     "output_type": "execute_result"
    },
    {
     "data": {
      "image/png": "[encoded data removed]",
      "text/plain": [
       "<Figure size 640x480 with 1 Axes>"
      ]
     },
     "metadata": {},
     "output_type": "display_data"
    }
   ],
   "source": [
    "sns.boxplot(df_yellowcab['Price Charged'])"
   ]
  },
  {
   "cell_type": "code",
   "execution_count": 18,
   "metadata": {},
   "outputs": [
    {
     "data": {
      "text/plain": [
       "<AxesSubplot: xlabel='Income', ylabel='Count'>"
      ]
     },
     "execution_count": 18,
     "metadata": {},
     "output_type": "execute_result"
    },
    {
     "data": {
      "image/png": "[encoded data removed]",
      "text/plain": [
       "<Figure size 640x480 with 1 Axes>"
      ]
     },
     "metadata": {},
     "output_type": "display_data"
    }
   ],
   "source": [
    "sns.histplot(df_yellowcab.Income)"
   ]
  },
  {
   "cell_type": "code",
   "execution_count": 19,
   "metadata": {},
   "outputs": [
    {
     "data": {
      "text/plain": [
       "<AxesSubplot: >"
      ]
     },
     "execution_count": 19,
     "metadata": {},
     "output_type": "execute_result"
    },
    {
     "data": {
      "image/png": "[encoded data removed]",
      "text/plain": [
       "<Figure size 640x480 with 1 Axes>"
      ]
     },
     "metadata": {},
     "output_type": "display_data"
    }
   ],
   "source": [
    "sns.boxplot(df_yellowcab.Income)"
   ]
  },
  {
   "cell_type": "code",
   "execution_count": 20,
   "metadata": {},
   "outputs": [
    {
     "data": {
      "text/plain": [
       "<AxesSubplot: xlabel='Cost_Trip', ylabel='Count'>"
      ]
     },
     "execution_count": 20,
     "metadata": {},
     "output_type": "execute_result"
    },
    {
     "data": {
      "image/png": "[encoded data removed]",
      "text/plain": [
       "<Figure size 640x480 with 1 Axes>"
      ]
     },
     "metadata": {},
     "output_type": "display_data"
    }
   ],
   "source": [
    "sns.histplot(df_yellowcab.Cost_Trip)"
   ]
  },
  {
   "cell_type": "code",
   "execution_count": 21,
   "metadata": {},
   "outputs": [
    {
     "data": {
      "text/plain": [
       "<AxesSubplot: >"
      ]
     },
     "execution_count": 21,
     "metadata": {},
     "output_type": "execute_result"
    },
    {
     "data": {
      "image/png": "[encoded data removed]",
      "text/plain": [
       "<Figure size 640x480 with 1 Axes>"
      ]
     },
     "metadata": {},
     "output_type": "display_data"
    }
   ],
   "source": [
    "sns.boxplot(df_yellowcab.Cost_Trip)"
   ]
  },
  {
   "cell_type": "code",
   "execution_count": 22,
   "metadata": {},
   "outputs": [
    {
     "data": {
      "text/plain": [
       "<AxesSubplot: xlabel='Payment_Mode', ylabel='Count'>"
      ]
     },
     "execution_count": 22,
     "metadata": {},
     "output_type": "execute_result"
    },
    {
     "data": {
      "image/png": "[encoded data removed]",
      "text/plain": [
       "<Figure size 640x480 with 1 Axes>"
      ]
     },
     "metadata": {},
     "output_type": "display_data"
    }
   ],
   "source": [
    "sns.histplot(df_yellowcab.Payment_Mode)"
   ]
  },
  {
   "cell_type": "code",
   "execution_count": 23,
   "metadata": {},
   "outputs": [
    {
     "data": {
      "text/plain": [
       "<AxesSubplot: xlabel='Gender', ylabel='Count'>"
      ]
     },
     "execution_count": 23,
     "metadata": {},
     "output_type": "execute_result"
    },
    {
     "data": {
      "image/png": "[encoded data removed]",
      "text/plain": [
       "<Figure size 640x480 with 1 Axes>"
      ]
     },
     "metadata": {},
     "output_type": "display_data"
    }
   ],
   "source": [
    "sns.histplot(df_yellowcab.Gender)"
   ]
  },
  {
   "cell_type": "code",
   "execution_count": 24,
   "metadata": {},
   "outputs": [
    {
     "data": {
      "text/plain": [
       "<AxesSubplot: xlabel='KM_Travel', ylabel='Count'>"
      ]
     },
     "execution_count": 24,
     "metadata": {},
     "output_type": "execute_result"
    },
    {
     "data": {
      "image/png": "[encoded data removed]",
      "text/plain": [
       "<Figure size 640x480 with 1 Axes>"
      ]
     },
     "metadata": {},
     "output_type": "display_data"
    }
   ],
   "source": [
    "sns.histplot(df_yellowcab.KM_Travel)"
   ]
  },
  {
   "cell_type": "code",
   "execution_count": 25,
   "metadata": {},
   "outputs": [
    {
     "data": {
      "text/plain": [
       "<AxesSubplot: >"
      ]
     },
     "execution_count": 25,
     "metadata": {},
     "output_type": "execute_result"
    },
    {
     "data": {
      "image/png": "[encoded data removed]",
      "text/plain": [
       "<Figure size 640x480 with 1 Axes>"
      ]
     },
     "metadata": {},
     "output_type": "display_data"
    }
   ],
   "source": [
    "sns.boxplot(df_yellowcab.KM_Travel)"
   ]
  },
  {
   "cell_type": "code",
   "execution_count": 26,
   "metadata": {},
   "outputs": [],
   "source": [
    "df_yellowcab['Profit'] = df_yellowcab['Price Charged'] - df_yellowcab['Cost_Trip']"
   ]
  },
  {
   "cell_type": "code",
   "execution_count": 28,
   "metadata": {},
   "outputs": [
    {
     "data": {
      "text/plain": [
       "<AxesSubplot: xlabel='Profit', ylabel='Count'>"
      ]
     },
     "execution_count": 28,
     "metadata": {},
     "output_type": "execute_result"
    },
    {
     "data": {
      "image/png": "[encoded data removed]",
      "text/plain": [
       "<Figure size 640x480 with 1 Axes>"
      ]
     },
     "metadata": {},
     "output_type": "display_data"
    }
   ],
   "source": [
    "sns.histplot(df_yellowcab.Profit)"
   ]
  },
  {
   "cell_type": "code",
   "execution_count": 30,
   "metadata": {},
   "outputs": [
    {
     "data": {
      "text/plain": [
       "<AxesSubplot: >"
      ]
     },
     "execution_count": 30,
     "metadata": {},
     "output_type": "execute_result"
    },
    {
     "data": {
      "image/png": "[encoded data removed]",
      "text/plain": [
       "<Figure size 640x480 with 1 Axes>"
      ]
     },
     "metadata": {},
     "output_type": "display_data"
    }
   ],
   "source": [
    "sns.boxplot(df_yellowcab.Profit)"
   ]
  },
  {
   "cell_type": "code",
   "execution_count": 31,
   "metadata": {},
   "outputs": [
    {
     "data": {
      "text/plain": [
       "count    274681.000000\n",
       "mean        160.259986\n",
       "std         171.823833\n",
       "min        -176.930800\n",
       "25%          37.180000\n",
       "50%         102.000000\n",
       "75%         228.670400\n",
       "max        1463.966000\n",
       "Name: Profit, dtype: float64"
      ]
     },
     "execution_count": 31,
     "metadata": {},
     "output_type": "execute_result"
    }
   ],
   "source": [
    "df_yellowcab.Profit.describe()"
   ]
  },
  {
   "cell_type": "code",
   "execution_count": 32,
   "metadata": {},
   "outputs": [
    {
     "name": "stderr",
     "output_type": "stream",
     "text": [
      "C:\\Users\\josejesus\\AppData\\Local\\Temp\\ipykernel_5640\\3257570276.py:1: FutureWarning: The default value of numeric_only in DataFrame.corr is deprecated. In a future version, it will default to False. Select only valid columns or specify the value of numeric_only to silence this warning.\n",
      "  df_yellowcab.corr()\n"
     ]
    },
    {
     "data": {
      "text/html": [
       "<div>\n",
       "<style scoped>\n",
       "    .dataframe tbody tr th:only-of-type {\n",
       "        vertical-align: middle;\n",
       "    }\n",
       "\n",
       "    .dataframe tbody tr th {\n",
       "        vertical-align: top;\n",
       "    }\n",
       "\n",
       "    .dataframe thead th {\n",
       "        text-align: right;\n",
       "    }\n",
       "</style>\n",
       "<table border=\"1\" class=\"dataframe\">\n",
       "  <thead>\n",
       "    <tr style=\"text-align: right;\">\n",
       "      <th></th>\n",
       "      <th>Transaction ID</th>\n",
       "      <th>KM_Travel</th>\n",
       "      <th>Price Charged</th>\n",
       "      <th>Cost_Trip</th>\n",
       "      <th>Customer ID</th>\n",
       "      <th>Age</th>\n",
       "      <th>Income</th>\n",
       "      <th>Profit</th>\n",
       "    </tr>\n",
       "  </thead>\n",
       "  <tbody>\n",
       "    <tr>\n",
       "      <th>Transaction ID</th>\n",
       "      <td>1.000000</td>\n",
       "      <td>-0.002641</td>\n",
       "      <td>-0.058665</td>\n",
       "      <td>-0.002859</td>\n",
       "      <td>-0.017240</td>\n",
       "      <td>-0.000885</td>\n",
       "      <td>-0.000103</td>\n",
       "      <td>-0.095758</td>\n",
       "    </tr>\n",
       "    <tr>\n",
       "      <th>KM_Travel</th>\n",
       "      <td>-0.002641</td>\n",
       "      <td>1.000000</td>\n",
       "      <td>0.859709</td>\n",
       "      <td>0.993390</td>\n",
       "      <td>0.000692</td>\n",
       "      <td>0.000838</td>\n",
       "      <td>-0.000850</td>\n",
       "      <td>0.503152</td>\n",
       "    </tr>\n",
       "    <tr>\n",
       "      <th>Price Charged</th>\n",
       "      <td>-0.058665</td>\n",
       "      <td>0.859709</td>\n",
       "      <td>1.000000</td>\n",
       "      <td>0.853996</td>\n",
       "      <td>-0.208935</td>\n",
       "      <td>-0.002721</td>\n",
       "      <td>0.003818</td>\n",
       "      <td>0.870485</td>\n",
       "    </tr>\n",
       "    <tr>\n",
       "      <th>Cost_Trip</th>\n",
       "      <td>-0.002859</td>\n",
       "      <td>0.993390</td>\n",
       "      <td>0.853996</td>\n",
       "      <td>1.000000</td>\n",
       "      <td>0.000617</td>\n",
       "      <td>0.000946</td>\n",
       "      <td>-0.000768</td>\n",
       "      <td>0.487311</td>\n",
       "    </tr>\n",
       "    <tr>\n",
       "      <th>Customer ID</th>\n",
       "      <td>-0.017240</td>\n",
       "      <td>0.000692</td>\n",
       "      <td>-0.208935</td>\n",
       "      <td>0.000617</td>\n",
       "      <td>1.000000</td>\n",
       "      <td>-0.005145</td>\n",
       "      <td>-0.015681</td>\n",
       "      <td>-0.351256</td>\n",
       "    </tr>\n",
       "    <tr>\n",
       "      <th>Age</th>\n",
       "      <td>-0.000885</td>\n",
       "      <td>0.000838</td>\n",
       "      <td>-0.002721</td>\n",
       "      <td>0.000946</td>\n",
       "      <td>-0.005145</td>\n",
       "      <td>1.000000</td>\n",
       "      <td>0.001759</td>\n",
       "      <td>-0.005462</td>\n",
       "    </tr>\n",
       "    <tr>\n",
       "      <th>Income</th>\n",
       "      <td>-0.000103</td>\n",
       "      <td>-0.000850</td>\n",
       "      <td>0.003818</td>\n",
       "      <td>-0.000768</td>\n",
       "      <td>-0.015681</td>\n",
       "      <td>0.001759</td>\n",
       "      <td>1.000000</td>\n",
       "      <td>0.007136</td>\n",
       "    </tr>\n",
       "    <tr>\n",
       "      <th>Profit</th>\n",
       "      <td>-0.095758</td>\n",
       "      <td>0.503152</td>\n",
       "      <td>0.870485</td>\n",
       "      <td>0.487311</td>\n",
       "      <td>-0.351256</td>\n",
       "      <td>-0.005462</td>\n",
       "      <td>0.007136</td>\n",
       "      <td>1.000000</td>\n",
       "    </tr>\n",
       "  </tbody>\n",
       "</table>\n",
       "</div>"
      ],
      "text/plain": [
       "                Transaction ID  KM_Travel  Price Charged  Cost_Trip  \\\n",
       "Transaction ID        1.000000  -0.002641      -0.058665  -0.002859   \n",
       "KM_Travel            -0.002641   1.000000       0.859709   0.993390   \n",
       "Price Charged        -0.058665   0.859709       1.000000   0.853996   \n",
       "Cost_Trip            -0.002859   0.993390       0.853996   1.000000   \n",
       "Customer ID          -0.017240   0.000692      -0.208935   0.000617   \n",
       "Age                  -0.000885   0.000838      -0.002721   0.000946   \n",
       "Income               -0.000103  -0.000850       0.003818  -0.000768   \n",
       "Profit               -0.095758   0.503152       0.870485   0.487311   \n",
       "\n",
       "                Customer ID       Age    Income    Profit  \n",
       "Transaction ID    -0.017240 -0.000885 -0.000103 -0.095758  \n",
       "KM_Travel          0.000692  0.000838 -0.000850  0.503152  \n",
       "Price Charged     -0.208935 -0.002721  0.003818  0.870485  \n",
       "Cost_Trip          0.000617  0.000946 -0.000768  0.487311  \n",
       "Customer ID        1.000000 -0.005145 -0.015681 -0.351256  \n",
       "Age               -0.005145  1.000000  0.001759 -0.005462  \n",
       "Income            -0.015681  0.001759  1.000000  0.007136  \n",
       "Profit            -0.351256 -0.005462  0.007136  1.000000  "
      ]
     },
     "execution_count": 32,
     "metadata": {},
     "output_type": "execute_result"
    }
   ],
   "source": [
    "df_yellowcab.corr()"
   ]
  },
  {
   "cell_type": "code",
   "execution_count": 33,
   "metadata": {},
   "outputs": [
    {
     "name": "stderr",
     "output_type": "stream",
     "text": [
      "C:\\Users\\josejesus\\AppData\\Local\\Temp\\ipykernel_5640\\3808481886.py:1: FutureWarning: The default value of numeric_only in DataFrame.corr is deprecated. In a future version, it will default to False. Select only valid columns or specify the value of numeric_only to silence this warning.\n",
      "  sns.heatmap(df_yellowcab.corr())\n"
     ]
    },
    {
     "data": {
      "text/plain": [
       "<AxesSubplot: >"
      ]
     },
     "execution_count": 33,
     "metadata": {},
     "output_type": "execute_result"
    },
    {
     "data": {
      "image/png": "[encoded data removed]",
      "text/plain": [
       "<Figure size 640x480 with 2 Axes>"
      ]
     },
     "metadata": {},
     "output_type": "display_data"
    }
   ],
   "source": [
    "sns.heatmap(df_yellowcab.corr())"
   ]
  },
  {
   "cell_type": "code",
   "execution_count": null,
   "metadata": {},
   "outputs": [],
   "source": []
  }
 ],
 "metadata": {
  "kernelspec": {
   "display_name": "Python 3.11.0 64-bit",
   "language": "python",
   "name": "python3"
  },
  "language_info": {
   "codemirror_mode": {
    "name": "ipython",
    "version": 3
   },
   "file_extension": ".py",
   "mimetype": "text/x-python",
   "name": "python",
   "nbconvert_exporter": "python",
   "pygments_lexer": "ipython3",
   "version": "3.11.0"
  },
  "orig_nbformat": 4,
  "vscode": {
   "interpreter": {
    "hash": "599fdfbd40f4a390122d0dbdc95bb2f9681588aa8321560d4d4b6232ce63f77e"
   }
  }
 },
 "nbformat": 4,
 "nbformat_minor": 2
}
